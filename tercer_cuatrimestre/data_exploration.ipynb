{
 "cells": [
  {
   "cell_type": "markdown",
   "metadata": {},
   "source": [
    "# Exploración de los datos. \n",
    "\n",
    "Los datos que analizamos vienen de la [página de la Comisión de Taxis y Limosinas de NYC](https://www1.nyc.gov/site/tlc/about/tlc-trip-record-data.page). Nosotros analizamos la información de los taxis verdes de NYC (hay verdes y amarillos) para el año 2019, dividiéndonos el trabajo por cuatrimestre. En este notebook exploraré un poco los datos y empezaré a crear un pipeline para preparar la información de cada mes y obtener estadísticas relevantes. \n",
    "\n",
    "Cabe mencionar que subimos al repo el diccionario de datos que la página oficial provee. De ahí obtuvimos la interpretación de varias variables. "
   ]
  },
  {
   "cell_type": "markdown",
   "metadata": {},
   "source": [
    "# 1- Limpieza de Datos "
   ]
  },
  {
   "cell_type": "markdown",
   "metadata": {},
   "source": [
    "#### Cargandos los datos\n",
    "\n",
    "Empezaré por el mes de septiembre, el primer mes del último cuatrimestre (el que me tocó explorar)"
   ]
  },
  {
   "cell_type": "code",
   "execution_count": 8,
   "metadata": {
    "ExecuteTime": {
     "end_time": "2020-07-17T16:42:12.668380Z",
     "start_time": "2020-07-17T16:42:08.312Z"
    }
   },
   "outputs": [
    {
     "data": {
      "text/html": [
       "<table>\n",
       "<caption>A data.frame: 6 × 20</caption>\n",
       "<thead>\n",
       "\t<tr><th></th><th scope=col>VendorID</th><th scope=col>lpep_pickup_datetime</th><th scope=col>lpep_dropoff_datetime</th><th scope=col>store_and_fwd_flag</th><th scope=col>RatecodeID</th><th scope=col>PULocationID</th><th scope=col>DOLocationID</th><th scope=col>passenger_count</th><th scope=col>trip_distance</th><th scope=col>fare_amount</th><th scope=col>extra</th><th scope=col>mta_tax</th><th scope=col>tip_amount</th><th scope=col>tolls_amount</th><th scope=col>ehail_fee</th><th scope=col>improvement_surcharge</th><th scope=col>total_amount</th><th scope=col>payment_type</th><th scope=col>trip_type</th><th scope=col>congestion_surcharge</th></tr>\n",
       "\t<tr><th></th><th scope=col>&lt;int&gt;</th><th scope=col>&lt;chr&gt;</th><th scope=col>&lt;chr&gt;</th><th scope=col>&lt;chr&gt;</th><th scope=col>&lt;int&gt;</th><th scope=col>&lt;int&gt;</th><th scope=col>&lt;int&gt;</th><th scope=col>&lt;int&gt;</th><th scope=col>&lt;dbl&gt;</th><th scope=col>&lt;dbl&gt;</th><th scope=col>&lt;dbl&gt;</th><th scope=col>&lt;dbl&gt;</th><th scope=col>&lt;dbl&gt;</th><th scope=col>&lt;dbl&gt;</th><th scope=col>&lt;lgl&gt;</th><th scope=col>&lt;dbl&gt;</th><th scope=col>&lt;dbl&gt;</th><th scope=col>&lt;int&gt;</th><th scope=col>&lt;int&gt;</th><th scope=col>&lt;dbl&gt;</th></tr>\n",
       "</thead>\n",
       "<tbody>\n",
       "\t<tr><th scope=row>1</th><td>2</td><td>2019-09-01 00:10:53</td><td>2019-09-01 00:23:46</td><td>N</td><td>1</td><td> 65</td><td>189</td><td>5</td><td>2.00</td><td>10.5</td><td>0.5</td><td>0.5</td><td>2.36</td><td>0.00</td><td>NA</td><td>0.3</td><td>14.16</td><td>1</td><td>1</td><td>0</td></tr>\n",
       "\t<tr><th scope=row>2</th><td>2</td><td>2019-09-01 00:31:22</td><td>2019-09-01 00:44:37</td><td>N</td><td>1</td><td> 97</td><td>225</td><td>5</td><td>3.20</td><td>12.0</td><td>0.5</td><td>0.5</td><td>0.00</td><td>0.00</td><td>NA</td><td>0.3</td><td>13.30</td><td>2</td><td>1</td><td>0</td></tr>\n",
       "\t<tr><th scope=row>3</th><td>2</td><td>2019-09-01 00:50:24</td><td>2019-09-01 01:03:20</td><td>N</td><td>1</td><td> 37</td><td> 61</td><td>5</td><td>2.99</td><td>12.0</td><td>0.5</td><td>0.5</td><td>0.00</td><td>0.00</td><td>NA</td><td>0.3</td><td>13.30</td><td>2</td><td>1</td><td>0</td></tr>\n",
       "\t<tr><th scope=row>4</th><td>2</td><td>2019-09-01 00:27:06</td><td>2019-09-01 00:33:22</td><td>N</td><td>1</td><td>145</td><td>112</td><td>1</td><td>1.73</td><td> 7.5</td><td>0.5</td><td>0.5</td><td>1.50</td><td>0.00</td><td>NA</td><td>0.3</td><td>10.30</td><td>1</td><td>1</td><td>0</td></tr>\n",
       "\t<tr><th scope=row>5</th><td>2</td><td>2019-09-01 00:43:23</td><td>2019-09-01 00:59:54</td><td>N</td><td>1</td><td>112</td><td>198</td><td>1</td><td>3.42</td><td>14.0</td><td>0.5</td><td>0.5</td><td>3.06</td><td>0.00</td><td>NA</td><td>0.3</td><td>18.36</td><td>1</td><td>1</td><td>0</td></tr>\n",
       "\t<tr><th scope=row>6</th><td>2</td><td>2019-09-01 00:55:37</td><td>2019-09-01 01:17:02</td><td>N</td><td>1</td><td>  7</td><td> 41</td><td>1</td><td>6.26</td><td>21.0</td><td>0.5</td><td>0.5</td><td>0.00</td><td>6.12</td><td>NA</td><td>0.3</td><td>28.42</td><td>2</td><td>1</td><td>0</td></tr>\n",
       "</tbody>\n",
       "</table>\n"
      ],
      "text/latex": [
       "A data.frame: 6 × 20\n",
       "\\begin{tabular}{r|llllllllllllllllllll}\n",
       "  & VendorID & lpep\\_pickup\\_datetime & lpep\\_dropoff\\_datetime & store\\_and\\_fwd\\_flag & RatecodeID & PULocationID & DOLocationID & passenger\\_count & trip\\_distance & fare\\_amount & extra & mta\\_tax & tip\\_amount & tolls\\_amount & ehail\\_fee & improvement\\_surcharge & total\\_amount & payment\\_type & trip\\_type & congestion\\_surcharge\\\\\n",
       "  & <int> & <chr> & <chr> & <chr> & <int> & <int> & <int> & <int> & <dbl> & <dbl> & <dbl> & <dbl> & <dbl> & <dbl> & <lgl> & <dbl> & <dbl> & <int> & <int> & <dbl>\\\\\n",
       "\\hline\n",
       "\t1 & 2 & 2019-09-01 00:10:53 & 2019-09-01 00:23:46 & N & 1 &  65 & 189 & 5 & 2.00 & 10.5 & 0.5 & 0.5 & 2.36 & 0.00 & NA & 0.3 & 14.16 & 1 & 1 & 0\\\\\n",
       "\t2 & 2 & 2019-09-01 00:31:22 & 2019-09-01 00:44:37 & N & 1 &  97 & 225 & 5 & 3.20 & 12.0 & 0.5 & 0.5 & 0.00 & 0.00 & NA & 0.3 & 13.30 & 2 & 1 & 0\\\\\n",
       "\t3 & 2 & 2019-09-01 00:50:24 & 2019-09-01 01:03:20 & N & 1 &  37 &  61 & 5 & 2.99 & 12.0 & 0.5 & 0.5 & 0.00 & 0.00 & NA & 0.3 & 13.30 & 2 & 1 & 0\\\\\n",
       "\t4 & 2 & 2019-09-01 00:27:06 & 2019-09-01 00:33:22 & N & 1 & 145 & 112 & 1 & 1.73 &  7.5 & 0.5 & 0.5 & 1.50 & 0.00 & NA & 0.3 & 10.30 & 1 & 1 & 0\\\\\n",
       "\t5 & 2 & 2019-09-01 00:43:23 & 2019-09-01 00:59:54 & N & 1 & 112 & 198 & 1 & 3.42 & 14.0 & 0.5 & 0.5 & 3.06 & 0.00 & NA & 0.3 & 18.36 & 1 & 1 & 0\\\\\n",
       "\t6 & 2 & 2019-09-01 00:55:37 & 2019-09-01 01:17:02 & N & 1 &   7 &  41 & 1 & 6.26 & 21.0 & 0.5 & 0.5 & 0.00 & 6.12 & NA & 0.3 & 28.42 & 2 & 1 & 0\\\\\n",
       "\\end{tabular}\n"
      ],
      "text/markdown": [
       "\n",
       "A data.frame: 6 × 20\n",
       "\n",
       "| <!--/--> | VendorID &lt;int&gt; | lpep_pickup_datetime &lt;chr&gt; | lpep_dropoff_datetime &lt;chr&gt; | store_and_fwd_flag &lt;chr&gt; | RatecodeID &lt;int&gt; | PULocationID &lt;int&gt; | DOLocationID &lt;int&gt; | passenger_count &lt;int&gt; | trip_distance &lt;dbl&gt; | fare_amount &lt;dbl&gt; | extra &lt;dbl&gt; | mta_tax &lt;dbl&gt; | tip_amount &lt;dbl&gt; | tolls_amount &lt;dbl&gt; | ehail_fee &lt;lgl&gt; | improvement_surcharge &lt;dbl&gt; | total_amount &lt;dbl&gt; | payment_type &lt;int&gt; | trip_type &lt;int&gt; | congestion_surcharge &lt;dbl&gt; |\n",
       "|---|---|---|---|---|---|---|---|---|---|---|---|---|---|---|---|---|---|---|---|---|\n",
       "| 1 | 2 | 2019-09-01 00:10:53 | 2019-09-01 00:23:46 | N | 1 |  65 | 189 | 5 | 2.00 | 10.5 | 0.5 | 0.5 | 2.36 | 0.00 | NA | 0.3 | 14.16 | 1 | 1 | 0 |\n",
       "| 2 | 2 | 2019-09-01 00:31:22 | 2019-09-01 00:44:37 | N | 1 |  97 | 225 | 5 | 3.20 | 12.0 | 0.5 | 0.5 | 0.00 | 0.00 | NA | 0.3 | 13.30 | 2 | 1 | 0 |\n",
       "| 3 | 2 | 2019-09-01 00:50:24 | 2019-09-01 01:03:20 | N | 1 |  37 |  61 | 5 | 2.99 | 12.0 | 0.5 | 0.5 | 0.00 | 0.00 | NA | 0.3 | 13.30 | 2 | 1 | 0 |\n",
       "| 4 | 2 | 2019-09-01 00:27:06 | 2019-09-01 00:33:22 | N | 1 | 145 | 112 | 1 | 1.73 |  7.5 | 0.5 | 0.5 | 1.50 | 0.00 | NA | 0.3 | 10.30 | 1 | 1 | 0 |\n",
       "| 5 | 2 | 2019-09-01 00:43:23 | 2019-09-01 00:59:54 | N | 1 | 112 | 198 | 1 | 3.42 | 14.0 | 0.5 | 0.5 | 3.06 | 0.00 | NA | 0.3 | 18.36 | 1 | 1 | 0 |\n",
       "| 6 | 2 | 2019-09-01 00:55:37 | 2019-09-01 01:17:02 | N | 1 |   7 |  41 | 1 | 6.26 | 21.0 | 0.5 | 0.5 | 0.00 | 6.12 | NA | 0.3 | 28.42 | 2 | 1 | 0 |\n",
       "\n"
      ],
      "text/plain": [
       "  VendorID lpep_pickup_datetime lpep_dropoff_datetime store_and_fwd_flag\n",
       "1 2        2019-09-01 00:10:53  2019-09-01 00:23:46   N                 \n",
       "2 2        2019-09-01 00:31:22  2019-09-01 00:44:37   N                 \n",
       "3 2        2019-09-01 00:50:24  2019-09-01 01:03:20   N                 \n",
       "4 2        2019-09-01 00:27:06  2019-09-01 00:33:22   N                 \n",
       "5 2        2019-09-01 00:43:23  2019-09-01 00:59:54   N                 \n",
       "6 2        2019-09-01 00:55:37  2019-09-01 01:17:02   N                 \n",
       "  RatecodeID PULocationID DOLocationID passenger_count trip_distance\n",
       "1 1           65          189          5               2.00         \n",
       "2 1           97          225          5               3.20         \n",
       "3 1           37           61          5               2.99         \n",
       "4 1          145          112          1               1.73         \n",
       "5 1          112          198          1               3.42         \n",
       "6 1            7           41          1               6.26         \n",
       "  fare_amount extra mta_tax tip_amount tolls_amount ehail_fee\n",
       "1 10.5        0.5   0.5     2.36       0.00         NA       \n",
       "2 12.0        0.5   0.5     0.00       0.00         NA       \n",
       "3 12.0        0.5   0.5     0.00       0.00         NA       \n",
       "4  7.5        0.5   0.5     1.50       0.00         NA       \n",
       "5 14.0        0.5   0.5     3.06       0.00         NA       \n",
       "6 21.0        0.5   0.5     0.00       6.12         NA       \n",
       "  improvement_surcharge total_amount payment_type trip_type\n",
       "1 0.3                   14.16        1            1        \n",
       "2 0.3                   13.30        2            1        \n",
       "3 0.3                   13.30        2            1        \n",
       "4 0.3                   10.30        1            1        \n",
       "5 0.3                   18.36        1            1        \n",
       "6 0.3                   28.42        2            1        \n",
       "  congestion_surcharge\n",
       "1 0                   \n",
       "2 0                   \n",
       "3 0                   \n",
       "4 0                   \n",
       "5 0                   \n",
       "6 0                   "
      ]
     },
     "metadata": {},
     "output_type": "display_data"
    }
   ],
   "source": [
    "sept <- read.csv('septiembre.csv')\n",
    "head(sept)"
   ]
  },
  {
   "cell_type": "code",
   "execution_count": 9,
   "metadata": {
    "ExecuteTime": {
     "end_time": "2020-07-17T16:42:15.666965Z",
     "start_time": "2020-07-17T16:42:15.628Z"
    }
   },
   "outputs": [
    {
     "data": {
      "text/html": [
       "<style>\n",
       ".list-inline {list-style: none; margin:0; padding: 0}\n",
       ".list-inline>li {display: inline-block}\n",
       ".list-inline>li:not(:last-child)::after {content: \"\\00b7\"; padding: 0 .5ex}\n",
       "</style>\n",
       "<ol class=list-inline><li>449063</li><li>20</li></ol>\n"
      ],
      "text/latex": [
       "\\begin{enumerate*}\n",
       "\\item 449063\n",
       "\\item 20\n",
       "\\end{enumerate*}\n"
      ],
      "text/markdown": [
       "1. 449063\n",
       "2. 20\n",
       "\n",
       "\n"
      ],
      "text/plain": [
       "[1] 449063     20"
      ]
     },
     "metadata": {},
     "output_type": "display_data"
    }
   ],
   "source": [
    "#veamos el número de columnas y de renglones \n",
    "dim(sept)"
   ]
  },
  {
   "cell_type": "markdown",
   "metadata": {},
   "source": [
    "Casi medio millón de registros! En verdad, no analizamos la información de los taxis amarillos porque cada mes tenía más de 6 millones de registros. "
   ]
  },
  {
   "cell_type": "markdown",
   "metadata": {
    "ExecuteTime": {
     "end_time": "2020-07-15T13:09:57.172107Z",
     "start_time": "2020-07-15T13:09:57.127Z"
    }
   },
   "source": [
    "### Explorando los valores nulos en los datos"
   ]
  },
  {
   "cell_type": "code",
   "execution_count": 10,
   "metadata": {
    "ExecuteTime": {
     "end_time": "2020-07-17T16:42:20.145672Z",
     "start_time": "2020-07-17T16:42:17.596Z"
    }
   },
   "outputs": [
    {
     "name": "stderr",
     "output_type": "stream",
     "text": [
      "── \u001b[1mAttaching packages\u001b[22m ─────────────────────────────────────── tidyverse 1.3.0 ──\n",
      "\n",
      "\u001b[32m✔\u001b[39m \u001b[34mggplot2\u001b[39m 3.3.2     \u001b[32m✔\u001b[39m \u001b[34mpurrr  \u001b[39m 0.3.4\n",
      "\u001b[32m✔\u001b[39m \u001b[34mtibble \u001b[39m 3.0.1     \u001b[32m✔\u001b[39m \u001b[34mdplyr  \u001b[39m 1.0.0\n",
      "\u001b[32m✔\u001b[39m \u001b[34mtidyr  \u001b[39m 1.1.0     \u001b[32m✔\u001b[39m \u001b[34mstringr\u001b[39m 1.4.0\n",
      "\u001b[32m✔\u001b[39m \u001b[34mreadr  \u001b[39m 1.3.1     \u001b[32m✔\u001b[39m \u001b[34mforcats\u001b[39m 0.5.0\n",
      "\n",
      "── \u001b[1mConflicts\u001b[22m ────────────────────────────────────────── tidyverse_conflicts() ──\n",
      "\u001b[31m✖\u001b[39m \u001b[34mdplyr\u001b[39m::\u001b[32mfilter()\u001b[39m masks \u001b[34mstats\u001b[39m::filter()\n",
      "\u001b[31m✖\u001b[39m \u001b[34mdplyr\u001b[39m::\u001b[32mlag()\u001b[39m    masks \u001b[34mstats\u001b[39m::lag()\n",
      "\n"
     ]
    },
    {
     "data": {
      "text/html": [
       "<table>\n",
       "<caption>A data.frame: 1 × 20</caption>\n",
       "<thead>\n",
       "\t<tr><th scope=col>VendorID</th><th scope=col>lpep_pickup_datetime</th><th scope=col>lpep_dropoff_datetime</th><th scope=col>store_and_fwd_flag</th><th scope=col>RatecodeID</th><th scope=col>PULocationID</th><th scope=col>DOLocationID</th><th scope=col>passenger_count</th><th scope=col>trip_distance</th><th scope=col>fare_amount</th><th scope=col>extra</th><th scope=col>mta_tax</th><th scope=col>tip_amount</th><th scope=col>tolls_amount</th><th scope=col>ehail_fee</th><th scope=col>improvement_surcharge</th><th scope=col>total_amount</th><th scope=col>payment_type</th><th scope=col>trip_type</th><th scope=col>congestion_surcharge</th></tr>\n",
       "\t<tr><th scope=col>&lt;int&gt;</th><th scope=col>&lt;int&gt;</th><th scope=col>&lt;int&gt;</th><th scope=col>&lt;int&gt;</th><th scope=col>&lt;int&gt;</th><th scope=col>&lt;int&gt;</th><th scope=col>&lt;int&gt;</th><th scope=col>&lt;int&gt;</th><th scope=col>&lt;int&gt;</th><th scope=col>&lt;int&gt;</th><th scope=col>&lt;int&gt;</th><th scope=col>&lt;int&gt;</th><th scope=col>&lt;int&gt;</th><th scope=col>&lt;int&gt;</th><th scope=col>&lt;int&gt;</th><th scope=col>&lt;int&gt;</th><th scope=col>&lt;int&gt;</th><th scope=col>&lt;int&gt;</th><th scope=col>&lt;int&gt;</th><th scope=col>&lt;int&gt;</th></tr>\n",
       "</thead>\n",
       "<tbody>\n",
       "\t<tr><td>59143</td><td>0</td><td>0</td><td>0</td><td>59143</td><td>0</td><td>0</td><td>59143</td><td>0</td><td>0</td><td>0</td><td>0</td><td>0</td><td>0</td><td>449063</td><td>0</td><td>0</td><td>59143</td><td>59143</td><td>59143</td></tr>\n",
       "</tbody>\n",
       "</table>\n"
      ],
      "text/latex": [
       "A data.frame: 1 × 20\n",
       "\\begin{tabular}{llllllllllllllllllll}\n",
       " VendorID & lpep\\_pickup\\_datetime & lpep\\_dropoff\\_datetime & store\\_and\\_fwd\\_flag & RatecodeID & PULocationID & DOLocationID & passenger\\_count & trip\\_distance & fare\\_amount & extra & mta\\_tax & tip\\_amount & tolls\\_amount & ehail\\_fee & improvement\\_surcharge & total\\_amount & payment\\_type & trip\\_type & congestion\\_surcharge\\\\\n",
       " <int> & <int> & <int> & <int> & <int> & <int> & <int> & <int> & <int> & <int> & <int> & <int> & <int> & <int> & <int> & <int> & <int> & <int> & <int> & <int>\\\\\n",
       "\\hline\n",
       "\t 59143 & 0 & 0 & 0 & 59143 & 0 & 0 & 59143 & 0 & 0 & 0 & 0 & 0 & 0 & 449063 & 0 & 0 & 59143 & 59143 & 59143\\\\\n",
       "\\end{tabular}\n"
      ],
      "text/markdown": [
       "\n",
       "A data.frame: 1 × 20\n",
       "\n",
       "| VendorID &lt;int&gt; | lpep_pickup_datetime &lt;int&gt; | lpep_dropoff_datetime &lt;int&gt; | store_and_fwd_flag &lt;int&gt; | RatecodeID &lt;int&gt; | PULocationID &lt;int&gt; | DOLocationID &lt;int&gt; | passenger_count &lt;int&gt; | trip_distance &lt;int&gt; | fare_amount &lt;int&gt; | extra &lt;int&gt; | mta_tax &lt;int&gt; | tip_amount &lt;int&gt; | tolls_amount &lt;int&gt; | ehail_fee &lt;int&gt; | improvement_surcharge &lt;int&gt; | total_amount &lt;int&gt; | payment_type &lt;int&gt; | trip_type &lt;int&gt; | congestion_surcharge &lt;int&gt; |\n",
       "|---|---|---|---|---|---|---|---|---|---|---|---|---|---|---|---|---|---|---|---|\n",
       "| 59143 | 0 | 0 | 0 | 59143 | 0 | 0 | 59143 | 0 | 0 | 0 | 0 | 0 | 0 | 449063 | 0 | 0 | 59143 | 59143 | 59143 |\n",
       "\n"
      ],
      "text/plain": [
       "  VendorID lpep_pickup_datetime lpep_dropoff_datetime store_and_fwd_flag\n",
       "1 59143    0                    0                     0                 \n",
       "  RatecodeID PULocationID DOLocationID passenger_count trip_distance\n",
       "1 59143      0            0            59143           0            \n",
       "  fare_amount extra mta_tax tip_amount tolls_amount ehail_fee\n",
       "1 0           0     0       0          0            449063   \n",
       "  improvement_surcharge total_amount payment_type trip_type\n",
       "1 0                     0            59143        59143    \n",
       "  congestion_surcharge\n",
       "1 59143               "
      ]
     },
     "metadata": {},
     "output_type": "display_data"
    }
   ],
   "source": [
    "library(tidyverse)\n",
    "sept %>% summarise_all(~ sum(is.na(.)))"
   ]
  },
  {
   "cell_type": "markdown",
   "metadata": {},
   "source": [
    "Antes de proceder a explicar el procedimiento respecto de los datos nulos, podemos tirar las columnas que no nos sirven por su poco poder explicativo en el análisis que queremos hacer. "
   ]
  },
  {
   "cell_type": "markdown",
   "metadata": {},
   "source": [
    "#### Tirar columnas que no son de interés. \n",
    "\n",
    "Existen varias columnas que indican códigos que no necesariamente harán más profundo el análisis estadístico, por lo que podemos prescindir de ellas. \n",
    "\n",
    "Entre ellas se encuentran las siguientes, pero hay más:\n",
    "\n",
    "VendorID\n",
    "\n",
    "Store_and_fwd_flag\n",
    "\n",
    "PULocationID\n",
    "\n",
    "DOLocationID\n",
    "\n",
    "RateCodeID\n",
    "\n",
    "\n",
    "(Se puede consultar el diccionario de datos en la página citada para descubrir por qué)"
   ]
  },
  {
   "cell_type": "code",
   "execution_count": 178,
   "metadata": {
    "ExecuteTime": {
     "end_time": "2020-07-16T00:55:57.416911Z",
     "start_time": "2020-07-16T00:55:57.373Z"
    }
   },
   "outputs": [],
   "source": [
    "#creemos una función que nos ahorra el trabajo futuro \n",
    "\n",
    "delete_cols <- function(data_frame) {\n",
    "    #function to remove unnecessary cols in r dataframe\n",
    "    data_frame$VendorID <- NULL\n",
    "    data_frame$store_and_fwd_flag <- NULL\n",
    "    data_frame$PULocationID <- NULL\n",
    "    data_frame$DOLocationID <- NULL\n",
    "    data_frame$RatecodeID <- NULL\n",
    "    data_frame$ehail_fee <- NULL\n",
    "    return(data_frame)\n",
    "}"
   ]
  },
  {
   "cell_type": "code",
   "execution_count": 179,
   "metadata": {
    "ExecuteTime": {
     "end_time": "2020-07-16T00:55:58.380495Z",
     "start_time": "2020-07-16T00:55:58.328Z"
    }
   },
   "outputs": [],
   "source": [
    "clean_data <- delete_cols(sept)"
   ]
  },
  {
   "cell_type": "code",
   "execution_count": 180,
   "metadata": {
    "ExecuteTime": {
     "end_time": "2020-07-16T00:55:59.765401Z",
     "start_time": "2020-07-16T00:55:59.117Z"
    }
   },
   "outputs": [
    {
     "data": {
      "text/html": [
       "<style>\n",
       ".dl-inline {width: auto; margin:0; padding: 0}\n",
       ".dl-inline>dt, .dl-inline>dd {float: none; width: auto; display: inline-block}\n",
       ".dl-inline>dt::after {content: \":\\0020\"; padding-right: .5ex}\n",
       ".dl-inline>dt:not(:first-of-type) {padding-left: .5ex}\n",
       "</style><dl class=dl-inline><dt>lpep_pickup_datetime</dt><dd>0</dd><dt>lpep_dropoff_datetime</dt><dd>0</dd><dt>passenger_count</dt><dd>59143</dd><dt>trip_distance</dt><dd>0</dd><dt>fare_amount</dt><dd>0</dd><dt>extra</dt><dd>0</dd><dt>mta_tax</dt><dd>0</dd><dt>tip_amount</dt><dd>0</dd><dt>tolls_amount</dt><dd>0</dd><dt>improvement_surcharge</dt><dd>0</dd><dt>total_amount</dt><dd>0</dd><dt>payment_type</dt><dd>59143</dd><dt>trip_type</dt><dd>59143</dd><dt>congestion_surcharge</dt><dd>59143</dd></dl>\n"
      ],
      "text/latex": [
       "\\begin{description*}\n",
       "\\item[lpep\\textbackslash{}\\_pickup\\textbackslash{}\\_datetime] 0\n",
       "\\item[lpep\\textbackslash{}\\_dropoff\\textbackslash{}\\_datetime] 0\n",
       "\\item[passenger\\textbackslash{}\\_count] 59143\n",
       "\\item[trip\\textbackslash{}\\_distance] 0\n",
       "\\item[fare\\textbackslash{}\\_amount] 0\n",
       "\\item[extra] 0\n",
       "\\item[mta\\textbackslash{}\\_tax] 0\n",
       "\\item[tip\\textbackslash{}\\_amount] 0\n",
       "\\item[tolls\\textbackslash{}\\_amount] 0\n",
       "\\item[improvement\\textbackslash{}\\_surcharge] 0\n",
       "\\item[total\\textbackslash{}\\_amount] 0\n",
       "\\item[payment\\textbackslash{}\\_type] 59143\n",
       "\\item[trip\\textbackslash{}\\_type] 59143\n",
       "\\item[congestion\\textbackslash{}\\_surcharge] 59143\n",
       "\\end{description*}\n"
      ],
      "text/markdown": [
       "lpep_pickup_datetime\n",
       ":   0lpep_dropoff_datetime\n",
       ":   0passenger_count\n",
       ":   59143trip_distance\n",
       ":   0fare_amount\n",
       ":   0extra\n",
       ":   0mta_tax\n",
       ":   0tip_amount\n",
       ":   0tolls_amount\n",
       ":   0improvement_surcharge\n",
       ":   0total_amount\n",
       ":   0payment_type\n",
       ":   59143trip_type\n",
       ":   59143congestion_surcharge\n",
       ":   59143\n",
       "\n"
      ],
      "text/plain": [
       " lpep_pickup_datetime lpep_dropoff_datetime       passenger_count \n",
       "                    0                     0                 59143 \n",
       "        trip_distance           fare_amount                 extra \n",
       "                    0                     0                     0 \n",
       "              mta_tax            tip_amount          tolls_amount \n",
       "                    0                     0                     0 \n",
       "improvement_surcharge          total_amount          payment_type \n",
       "                    0                     0                 59143 \n",
       "            trip_type  congestion_surcharge \n",
       "                59143                 59143 "
      ]
     },
     "metadata": {},
     "output_type": "display_data"
    }
   ],
   "source": [
    "#tiempo de ver los valores vacíos de nuevo\n",
    "colSums(is.na(clean_data))"
   ]
  },
  {
   "cell_type": "code",
   "execution_count": 181,
   "metadata": {
    "ExecuteTime": {
     "end_time": "2020-07-16T00:56:00.714314Z",
     "start_time": "2020-07-16T00:56:00.677Z"
    }
   },
   "outputs": [
    {
     "data": {
      "text/html": [
       "<style>\n",
       ".list-inline {list-style: none; margin:0; padding: 0}\n",
       ".list-inline>li {display: inline-block}\n",
       ".list-inline>li:not(:last-child)::after {content: \"\\00b7\"; padding: 0 .5ex}\n",
       "</style>\n",
       "<ol class=list-inline><li>449063</li><li>14</li></ol>\n"
      ],
      "text/latex": [
       "\\begin{enumerate*}\n",
       "\\item 449063\n",
       "\\item 14\n",
       "\\end{enumerate*}\n"
      ],
      "text/markdown": [
       "1. 449063\n",
       "2. 14\n",
       "\n",
       "\n"
      ],
      "text/plain": [
       "[1] 449063     14"
      ]
     },
     "metadata": {},
     "output_type": "display_data"
    }
   ],
   "source": [
    "dim(clean_data)"
   ]
  },
  {
   "cell_type": "markdown",
   "metadata": {
    "ExecuteTime": {
     "end_time": "2020-07-15T13:17:50.667879Z",
     "start_time": "2020-07-15T13:17:50.623Z"
    }
   },
   "source": [
    "Respecto a los valores nulos, por simplicidad podemos tirarlos. No representan una gran proporción de los datos y será más fácil después realizar el análisis de regresión lineal sin datos nulos. Además, no hace sentido intentar extrapolar, por ejemplo, cuántos pasajeros había en  los 59 mil viajes donde no se registraron. Dado que este es un ejercicio de estadística descriptiva, lo mejor es tirarlos para que no introduzcan ruido. Además, como veremos a continuación, los datos nulos estaban en los mismos renglones porque el dataframe que no los incluye tiene el número de renglones original menos el número de renglones con nulos de algunas variables. "
   ]
  },
  {
   "cell_type": "code",
   "execution_count": 182,
   "metadata": {
    "ExecuteTime": {
     "end_time": "2020-07-16T00:56:02.555591Z",
     "start_time": "2020-07-16T00:56:02.369Z"
    }
   },
   "outputs": [
    {
     "data": {
      "text/html": [
       "<table>\n",
       "<caption>A data.frame: 6 × 14</caption>\n",
       "<thead>\n",
       "\t<tr><th></th><th scope=col>lpep_pickup_datetime</th><th scope=col>lpep_dropoff_datetime</th><th scope=col>passenger_count</th><th scope=col>trip_distance</th><th scope=col>fare_amount</th><th scope=col>extra</th><th scope=col>mta_tax</th><th scope=col>tip_amount</th><th scope=col>tolls_amount</th><th scope=col>improvement_surcharge</th><th scope=col>total_amount</th><th scope=col>payment_type</th><th scope=col>trip_type</th><th scope=col>congestion_surcharge</th></tr>\n",
       "\t<tr><th></th><th scope=col>&lt;chr&gt;</th><th scope=col>&lt;chr&gt;</th><th scope=col>&lt;int&gt;</th><th scope=col>&lt;dbl&gt;</th><th scope=col>&lt;dbl&gt;</th><th scope=col>&lt;dbl&gt;</th><th scope=col>&lt;dbl&gt;</th><th scope=col>&lt;dbl&gt;</th><th scope=col>&lt;dbl&gt;</th><th scope=col>&lt;dbl&gt;</th><th scope=col>&lt;dbl&gt;</th><th scope=col>&lt;int&gt;</th><th scope=col>&lt;int&gt;</th><th scope=col>&lt;dbl&gt;</th></tr>\n",
       "</thead>\n",
       "<tbody>\n",
       "\t<tr><th scope=row>1</th><td>2019-09-01 00:10:53</td><td>2019-09-01 00:23:46</td><td>5</td><td>2.00</td><td>10.5</td><td>0.5</td><td>0.5</td><td>2.36</td><td>0.00</td><td>0.3</td><td>14.16</td><td>1</td><td>1</td><td>0</td></tr>\n",
       "\t<tr><th scope=row>2</th><td>2019-09-01 00:31:22</td><td>2019-09-01 00:44:37</td><td>5</td><td>3.20</td><td>12.0</td><td>0.5</td><td>0.5</td><td>0.00</td><td>0.00</td><td>0.3</td><td>13.30</td><td>2</td><td>1</td><td>0</td></tr>\n",
       "\t<tr><th scope=row>3</th><td>2019-09-01 00:50:24</td><td>2019-09-01 01:03:20</td><td>5</td><td>2.99</td><td>12.0</td><td>0.5</td><td>0.5</td><td>0.00</td><td>0.00</td><td>0.3</td><td>13.30</td><td>2</td><td>1</td><td>0</td></tr>\n",
       "\t<tr><th scope=row>4</th><td>2019-09-01 00:27:06</td><td>2019-09-01 00:33:22</td><td>1</td><td>1.73</td><td> 7.5</td><td>0.5</td><td>0.5</td><td>1.50</td><td>0.00</td><td>0.3</td><td>10.30</td><td>1</td><td>1</td><td>0</td></tr>\n",
       "\t<tr><th scope=row>5</th><td>2019-09-01 00:43:23</td><td>2019-09-01 00:59:54</td><td>1</td><td>3.42</td><td>14.0</td><td>0.5</td><td>0.5</td><td>3.06</td><td>0.00</td><td>0.3</td><td>18.36</td><td>1</td><td>1</td><td>0</td></tr>\n",
       "\t<tr><th scope=row>6</th><td>2019-09-01 00:55:37</td><td>2019-09-01 01:17:02</td><td>1</td><td>6.26</td><td>21.0</td><td>0.5</td><td>0.5</td><td>0.00</td><td>6.12</td><td>0.3</td><td>28.42</td><td>2</td><td>1</td><td>0</td></tr>\n",
       "</tbody>\n",
       "</table>\n"
      ],
      "text/latex": [
       "A data.frame: 6 × 14\n",
       "\\begin{tabular}{r|llllllllllllll}\n",
       "  & lpep\\_pickup\\_datetime & lpep\\_dropoff\\_datetime & passenger\\_count & trip\\_distance & fare\\_amount & extra & mta\\_tax & tip\\_amount & tolls\\_amount & improvement\\_surcharge & total\\_amount & payment\\_type & trip\\_type & congestion\\_surcharge\\\\\n",
       "  & <chr> & <chr> & <int> & <dbl> & <dbl> & <dbl> & <dbl> & <dbl> & <dbl> & <dbl> & <dbl> & <int> & <int> & <dbl>\\\\\n",
       "\\hline\n",
       "\t1 & 2019-09-01 00:10:53 & 2019-09-01 00:23:46 & 5 & 2.00 & 10.5 & 0.5 & 0.5 & 2.36 & 0.00 & 0.3 & 14.16 & 1 & 1 & 0\\\\\n",
       "\t2 & 2019-09-01 00:31:22 & 2019-09-01 00:44:37 & 5 & 3.20 & 12.0 & 0.5 & 0.5 & 0.00 & 0.00 & 0.3 & 13.30 & 2 & 1 & 0\\\\\n",
       "\t3 & 2019-09-01 00:50:24 & 2019-09-01 01:03:20 & 5 & 2.99 & 12.0 & 0.5 & 0.5 & 0.00 & 0.00 & 0.3 & 13.30 & 2 & 1 & 0\\\\\n",
       "\t4 & 2019-09-01 00:27:06 & 2019-09-01 00:33:22 & 1 & 1.73 &  7.5 & 0.5 & 0.5 & 1.50 & 0.00 & 0.3 & 10.30 & 1 & 1 & 0\\\\\n",
       "\t5 & 2019-09-01 00:43:23 & 2019-09-01 00:59:54 & 1 & 3.42 & 14.0 & 0.5 & 0.5 & 3.06 & 0.00 & 0.3 & 18.36 & 1 & 1 & 0\\\\\n",
       "\t6 & 2019-09-01 00:55:37 & 2019-09-01 01:17:02 & 1 & 6.26 & 21.0 & 0.5 & 0.5 & 0.00 & 6.12 & 0.3 & 28.42 & 2 & 1 & 0\\\\\n",
       "\\end{tabular}\n"
      ],
      "text/markdown": [
       "\n",
       "A data.frame: 6 × 14\n",
       "\n",
       "| <!--/--> | lpep_pickup_datetime &lt;chr&gt; | lpep_dropoff_datetime &lt;chr&gt; | passenger_count &lt;int&gt; | trip_distance &lt;dbl&gt; | fare_amount &lt;dbl&gt; | extra &lt;dbl&gt; | mta_tax &lt;dbl&gt; | tip_amount &lt;dbl&gt; | tolls_amount &lt;dbl&gt; | improvement_surcharge &lt;dbl&gt; | total_amount &lt;dbl&gt; | payment_type &lt;int&gt; | trip_type &lt;int&gt; | congestion_surcharge &lt;dbl&gt; |\n",
       "|---|---|---|---|---|---|---|---|---|---|---|---|---|---|---|\n",
       "| 1 | 2019-09-01 00:10:53 | 2019-09-01 00:23:46 | 5 | 2.00 | 10.5 | 0.5 | 0.5 | 2.36 | 0.00 | 0.3 | 14.16 | 1 | 1 | 0 |\n",
       "| 2 | 2019-09-01 00:31:22 | 2019-09-01 00:44:37 | 5 | 3.20 | 12.0 | 0.5 | 0.5 | 0.00 | 0.00 | 0.3 | 13.30 | 2 | 1 | 0 |\n",
       "| 3 | 2019-09-01 00:50:24 | 2019-09-01 01:03:20 | 5 | 2.99 | 12.0 | 0.5 | 0.5 | 0.00 | 0.00 | 0.3 | 13.30 | 2 | 1 | 0 |\n",
       "| 4 | 2019-09-01 00:27:06 | 2019-09-01 00:33:22 | 1 | 1.73 |  7.5 | 0.5 | 0.5 | 1.50 | 0.00 | 0.3 | 10.30 | 1 | 1 | 0 |\n",
       "| 5 | 2019-09-01 00:43:23 | 2019-09-01 00:59:54 | 1 | 3.42 | 14.0 | 0.5 | 0.5 | 3.06 | 0.00 | 0.3 | 18.36 | 1 | 1 | 0 |\n",
       "| 6 | 2019-09-01 00:55:37 | 2019-09-01 01:17:02 | 1 | 6.26 | 21.0 | 0.5 | 0.5 | 0.00 | 6.12 | 0.3 | 28.42 | 2 | 1 | 0 |\n",
       "\n"
      ],
      "text/plain": [
       "  lpep_pickup_datetime lpep_dropoff_datetime passenger_count trip_distance\n",
       "1 2019-09-01 00:10:53  2019-09-01 00:23:46   5               2.00         \n",
       "2 2019-09-01 00:31:22  2019-09-01 00:44:37   5               3.20         \n",
       "3 2019-09-01 00:50:24  2019-09-01 01:03:20   5               2.99         \n",
       "4 2019-09-01 00:27:06  2019-09-01 00:33:22   1               1.73         \n",
       "5 2019-09-01 00:43:23  2019-09-01 00:59:54   1               3.42         \n",
       "6 2019-09-01 00:55:37  2019-09-01 01:17:02   1               6.26         \n",
       "  fare_amount extra mta_tax tip_amount tolls_amount improvement_surcharge\n",
       "1 10.5        0.5   0.5     2.36       0.00         0.3                  \n",
       "2 12.0        0.5   0.5     0.00       0.00         0.3                  \n",
       "3 12.0        0.5   0.5     0.00       0.00         0.3                  \n",
       "4  7.5        0.5   0.5     1.50       0.00         0.3                  \n",
       "5 14.0        0.5   0.5     3.06       0.00         0.3                  \n",
       "6 21.0        0.5   0.5     0.00       6.12         0.3                  \n",
       "  total_amount payment_type trip_type congestion_surcharge\n",
       "1 14.16        1            1         0                   \n",
       "2 13.30        2            1         0                   \n",
       "3 13.30        2            1         0                   \n",
       "4 10.30        1            1         0                   \n",
       "5 18.36        1            1         0                   \n",
       "6 28.42        2            1         0                   "
      ]
     },
     "metadata": {},
     "output_type": "display_data"
    }
   ],
   "source": [
    "head(clean_data[complete.cases(clean_data),])"
   ]
  },
  {
   "cell_type": "code",
   "execution_count": 183,
   "metadata": {
    "ExecuteTime": {
     "end_time": "2020-07-16T00:56:04.099861Z",
     "start_time": "2020-07-16T00:56:03.918Z"
    }
   },
   "outputs": [
    {
     "data": {
      "text/html": [
       "<style>\n",
       ".list-inline {list-style: none; margin:0; padding: 0}\n",
       ".list-inline>li {display: inline-block}\n",
       ".list-inline>li:not(:last-child)::after {content: \"\\00b7\"; padding: 0 .5ex}\n",
       "</style>\n",
       "<ol class=list-inline><li>389920</li><li>14</li></ol>\n"
      ],
      "text/latex": [
       "\\begin{enumerate*}\n",
       "\\item 389920\n",
       "\\item 14\n",
       "\\end{enumerate*}\n"
      ],
      "text/markdown": [
       "1. 389920\n",
       "2. 14\n",
       "\n",
       "\n"
      ],
      "text/plain": [
       "[1] 389920     14"
      ]
     },
     "metadata": {},
     "output_type": "display_data"
    }
   ],
   "source": [
    "dim((clean_data[complete.cases(clean_data),]))"
   ]
  },
  {
   "cell_type": "code",
   "execution_count": 184,
   "metadata": {
    "ExecuteTime": {
     "end_time": "2020-07-16T00:56:06.552743Z",
     "start_time": "2020-07-16T00:56:06.507Z"
    }
   },
   "outputs": [
    {
     "data": {
      "text/html": [
       "59143"
      ],
      "text/latex": [
       "59143"
      ],
      "text/markdown": [
       "59143"
      ],
      "text/plain": [
       "[1] 59143"
      ]
     },
     "metadata": {},
     "output_type": "display_data"
    }
   ],
   "source": [
    "449063 - 389920  #filas antes - filas sin nulos"
   ]
  },
  {
   "cell_type": "markdown",
   "metadata": {},
   "source": [
    "#### Podemos ir creando una función de limpieza más completa entonces  "
   ]
  },
  {
   "cell_type": "code",
   "execution_count": 185,
   "metadata": {
    "ExecuteTime": {
     "end_time": "2020-07-16T00:56:08.449126Z",
     "start_time": "2020-07-16T00:56:08.412Z"
    }
   },
   "outputs": [],
   "source": [
    "clean_dataframe <- function(data_frame) {\n",
    "    #function to remove unnecessary cols in r dataframe and na's\n",
    "    data_frame$VendorID <- NULL\n",
    "    data_frame$store_and_fwd_flag <- NULL\n",
    "    data_frame$PULocationID <- NULL\n",
    "    data_frame$DOLocationID <- NULL\n",
    "    data_frame$RatecodeID <- NULL\n",
    "    data_frame$ehail_fee <- NULL\n",
    "    data_frame$improvement_surcharge <- NULL \n",
    "    data_frame$tolls_amount <- NULL \n",
    "    data_frame$mta_tax <- NULL \n",
    "    data_frame$extra <- NULL \n",
    "    data_frame$congestion_surcharge <- NULL\n",
    "    return(data_frame[complete.cases(data_frame),])\n",
    "}"
   ]
  },
  {
   "cell_type": "code",
   "execution_count": 186,
   "metadata": {
    "ExecuteTime": {
     "end_time": "2020-07-16T00:56:09.732089Z",
     "start_time": "2020-07-16T00:56:09.070Z"
    }
   },
   "outputs": [],
   "source": [
    "clean_data <- clean_dataframe(sept)"
   ]
  },
  {
   "cell_type": "code",
   "execution_count": 187,
   "metadata": {
    "ExecuteTime": {
     "end_time": "2020-07-16T00:56:09.778037Z",
     "start_time": "2020-07-16T00:56:09.605Z"
    }
   },
   "outputs": [
    {
     "data": {
      "text/html": [
       "<table>\n",
       "<caption>A data.frame: 6 × 9</caption>\n",
       "<thead>\n",
       "\t<tr><th></th><th scope=col>lpep_pickup_datetime</th><th scope=col>lpep_dropoff_datetime</th><th scope=col>passenger_count</th><th scope=col>trip_distance</th><th scope=col>fare_amount</th><th scope=col>tip_amount</th><th scope=col>total_amount</th><th scope=col>payment_type</th><th scope=col>trip_type</th></tr>\n",
       "\t<tr><th></th><th scope=col>&lt;chr&gt;</th><th scope=col>&lt;chr&gt;</th><th scope=col>&lt;int&gt;</th><th scope=col>&lt;dbl&gt;</th><th scope=col>&lt;dbl&gt;</th><th scope=col>&lt;dbl&gt;</th><th scope=col>&lt;dbl&gt;</th><th scope=col>&lt;int&gt;</th><th scope=col>&lt;int&gt;</th></tr>\n",
       "</thead>\n",
       "<tbody>\n",
       "\t<tr><th scope=row>1</th><td>2019-09-01 00:10:53</td><td>2019-09-01 00:23:46</td><td>5</td><td>2.00</td><td>10.5</td><td>2.36</td><td>14.16</td><td>1</td><td>1</td></tr>\n",
       "\t<tr><th scope=row>2</th><td>2019-09-01 00:31:22</td><td>2019-09-01 00:44:37</td><td>5</td><td>3.20</td><td>12.0</td><td>0.00</td><td>13.30</td><td>2</td><td>1</td></tr>\n",
       "\t<tr><th scope=row>3</th><td>2019-09-01 00:50:24</td><td>2019-09-01 01:03:20</td><td>5</td><td>2.99</td><td>12.0</td><td>0.00</td><td>13.30</td><td>2</td><td>1</td></tr>\n",
       "\t<tr><th scope=row>4</th><td>2019-09-01 00:27:06</td><td>2019-09-01 00:33:22</td><td>1</td><td>1.73</td><td> 7.5</td><td>1.50</td><td>10.30</td><td>1</td><td>1</td></tr>\n",
       "\t<tr><th scope=row>5</th><td>2019-09-01 00:43:23</td><td>2019-09-01 00:59:54</td><td>1</td><td>3.42</td><td>14.0</td><td>3.06</td><td>18.36</td><td>1</td><td>1</td></tr>\n",
       "\t<tr><th scope=row>6</th><td>2019-09-01 00:55:37</td><td>2019-09-01 01:17:02</td><td>1</td><td>6.26</td><td>21.0</td><td>0.00</td><td>28.42</td><td>2</td><td>1</td></tr>\n",
       "</tbody>\n",
       "</table>\n"
      ],
      "text/latex": [
       "A data.frame: 6 × 9\n",
       "\\begin{tabular}{r|lllllllll}\n",
       "  & lpep\\_pickup\\_datetime & lpep\\_dropoff\\_datetime & passenger\\_count & trip\\_distance & fare\\_amount & tip\\_amount & total\\_amount & payment\\_type & trip\\_type\\\\\n",
       "  & <chr> & <chr> & <int> & <dbl> & <dbl> & <dbl> & <dbl> & <int> & <int>\\\\\n",
       "\\hline\n",
       "\t1 & 2019-09-01 00:10:53 & 2019-09-01 00:23:46 & 5 & 2.00 & 10.5 & 2.36 & 14.16 & 1 & 1\\\\\n",
       "\t2 & 2019-09-01 00:31:22 & 2019-09-01 00:44:37 & 5 & 3.20 & 12.0 & 0.00 & 13.30 & 2 & 1\\\\\n",
       "\t3 & 2019-09-01 00:50:24 & 2019-09-01 01:03:20 & 5 & 2.99 & 12.0 & 0.00 & 13.30 & 2 & 1\\\\\n",
       "\t4 & 2019-09-01 00:27:06 & 2019-09-01 00:33:22 & 1 & 1.73 &  7.5 & 1.50 & 10.30 & 1 & 1\\\\\n",
       "\t5 & 2019-09-01 00:43:23 & 2019-09-01 00:59:54 & 1 & 3.42 & 14.0 & 3.06 & 18.36 & 1 & 1\\\\\n",
       "\t6 & 2019-09-01 00:55:37 & 2019-09-01 01:17:02 & 1 & 6.26 & 21.0 & 0.00 & 28.42 & 2 & 1\\\\\n",
       "\\end{tabular}\n"
      ],
      "text/markdown": [
       "\n",
       "A data.frame: 6 × 9\n",
       "\n",
       "| <!--/--> | lpep_pickup_datetime &lt;chr&gt; | lpep_dropoff_datetime &lt;chr&gt; | passenger_count &lt;int&gt; | trip_distance &lt;dbl&gt; | fare_amount &lt;dbl&gt; | tip_amount &lt;dbl&gt; | total_amount &lt;dbl&gt; | payment_type &lt;int&gt; | trip_type &lt;int&gt; |\n",
       "|---|---|---|---|---|---|---|---|---|---|\n",
       "| 1 | 2019-09-01 00:10:53 | 2019-09-01 00:23:46 | 5 | 2.00 | 10.5 | 2.36 | 14.16 | 1 | 1 |\n",
       "| 2 | 2019-09-01 00:31:22 | 2019-09-01 00:44:37 | 5 | 3.20 | 12.0 | 0.00 | 13.30 | 2 | 1 |\n",
       "| 3 | 2019-09-01 00:50:24 | 2019-09-01 01:03:20 | 5 | 2.99 | 12.0 | 0.00 | 13.30 | 2 | 1 |\n",
       "| 4 | 2019-09-01 00:27:06 | 2019-09-01 00:33:22 | 1 | 1.73 |  7.5 | 1.50 | 10.30 | 1 | 1 |\n",
       "| 5 | 2019-09-01 00:43:23 | 2019-09-01 00:59:54 | 1 | 3.42 | 14.0 | 3.06 | 18.36 | 1 | 1 |\n",
       "| 6 | 2019-09-01 00:55:37 | 2019-09-01 01:17:02 | 1 | 6.26 | 21.0 | 0.00 | 28.42 | 2 | 1 |\n",
       "\n"
      ],
      "text/plain": [
       "  lpep_pickup_datetime lpep_dropoff_datetime passenger_count trip_distance\n",
       "1 2019-09-01 00:10:53  2019-09-01 00:23:46   5               2.00         \n",
       "2 2019-09-01 00:31:22  2019-09-01 00:44:37   5               3.20         \n",
       "3 2019-09-01 00:50:24  2019-09-01 01:03:20   5               2.99         \n",
       "4 2019-09-01 00:27:06  2019-09-01 00:33:22   1               1.73         \n",
       "5 2019-09-01 00:43:23  2019-09-01 00:59:54   1               3.42         \n",
       "6 2019-09-01 00:55:37  2019-09-01 01:17:02   1               6.26         \n",
       "  fare_amount tip_amount total_amount payment_type trip_type\n",
       "1 10.5        2.36       14.16        1            1        \n",
       "2 12.0        0.00       13.30        2            1        \n",
       "3 12.0        0.00       13.30        2            1        \n",
       "4  7.5        1.50       10.30        1            1        \n",
       "5 14.0        3.06       18.36        1            1        \n",
       "6 21.0        0.00       28.42        2            1        "
      ]
     },
     "metadata": {},
     "output_type": "display_data"
    }
   ],
   "source": [
    "head(clean_data)"
   ]
  },
  {
   "cell_type": "code",
   "execution_count": 188,
   "metadata": {
    "ExecuteTime": {
     "end_time": "2020-07-16T00:56:10.526389Z",
     "start_time": "2020-07-16T00:56:10.486Z"
    }
   },
   "outputs": [
    {
     "data": {
      "text/html": [
       "<style>\n",
       ".list-inline {list-style: none; margin:0; padding: 0}\n",
       ".list-inline>li {display: inline-block}\n",
       ".list-inline>li:not(:last-child)::after {content: \"\\00b7\"; padding: 0 .5ex}\n",
       "</style>\n",
       "<ol class=list-inline><li>389920</li><li>9</li></ol>\n"
      ],
      "text/latex": [
       "\\begin{enumerate*}\n",
       "\\item 389920\n",
       "\\item 9\n",
       "\\end{enumerate*}\n"
      ],
      "text/markdown": [
       "1. 389920\n",
       "2. 9\n",
       "\n",
       "\n"
      ],
      "text/plain": [
       "[1] 389920      9"
      ]
     },
     "metadata": {},
     "output_type": "display_data"
    }
   ],
   "source": [
    "dim(clean_data)"
   ]
  },
  {
   "cell_type": "markdown",
   "metadata": {},
   "source": [
    "# Encontrando la duración de los viajes\n",
    "\n",
    "Quiero encontrar la forma de restar dropoff menos pickup para encontrar la duración de un viaje..."
   ]
  },
  {
   "cell_type": "code",
   "execution_count": 189,
   "metadata": {
    "ExecuteTime": {
     "end_time": "2020-07-16T00:56:11.617776Z",
     "start_time": "2020-07-16T00:56:11.587Z"
    }
   },
   "outputs": [],
   "source": [
    "copy <- clean_data[,]"
   ]
  },
  {
   "cell_type": "code",
   "execution_count": 190,
   "metadata": {
    "ExecuteTime": {
     "end_time": "2020-07-16T00:56:12.082696Z",
     "start_time": "2020-07-16T00:56:12.043Z"
    }
   },
   "outputs": [
    {
     "data": {
      "text/html": [
       "'character'"
      ],
      "text/latex": [
       "'character'"
      ],
      "text/markdown": [
       "'character'"
      ],
      "text/plain": [
       "[1] \"character\""
      ]
     },
     "metadata": {},
     "output_type": "display_data"
    }
   ],
   "source": [
    "typeof(copy$lpep_pickup_datetime)"
   ]
  },
  {
   "cell_type": "code",
   "execution_count": 191,
   "metadata": {
    "ExecuteTime": {
     "end_time": "2020-07-16T00:56:18.115582Z",
     "start_time": "2020-07-16T00:56:12.474Z"
    }
   },
   "outputs": [],
   "source": [
    "copy$lpep_dropoff_datetime <- as.POSIXct(copy$lpep_dropoff_datetime,\n",
    "                                      format='%Y-%m-%d %H:%M:%S')\n",
    "copy$lpep_pickup_datetime <- as.POSIXct(copy$lpep_pickup_datetime,\n",
    "                                      format='%Y-%m-%d %H:%M:%S')"
   ]
  },
  {
   "cell_type": "code",
   "execution_count": 192,
   "metadata": {
    "ExecuteTime": {
     "end_time": "2020-07-16T00:56:18.187508Z",
     "start_time": "2020-07-16T00:56:12.880Z"
    }
   },
   "outputs": [
    {
     "data": {
      "text/html": [
       "<table>\n",
       "<caption>A data.frame: 6 × 9</caption>\n",
       "<thead>\n",
       "\t<tr><th></th><th scope=col>lpep_pickup_datetime</th><th scope=col>lpep_dropoff_datetime</th><th scope=col>passenger_count</th><th scope=col>trip_distance</th><th scope=col>fare_amount</th><th scope=col>tip_amount</th><th scope=col>total_amount</th><th scope=col>payment_type</th><th scope=col>trip_type</th></tr>\n",
       "\t<tr><th></th><th scope=col>&lt;dttm&gt;</th><th scope=col>&lt;dttm&gt;</th><th scope=col>&lt;int&gt;</th><th scope=col>&lt;dbl&gt;</th><th scope=col>&lt;dbl&gt;</th><th scope=col>&lt;dbl&gt;</th><th scope=col>&lt;dbl&gt;</th><th scope=col>&lt;int&gt;</th><th scope=col>&lt;int&gt;</th></tr>\n",
       "</thead>\n",
       "<tbody>\n",
       "\t<tr><th scope=row>1</th><td>2019-09-01 00:10:53</td><td>2019-09-01 00:23:46</td><td>5</td><td>2.00</td><td>10.5</td><td>2.36</td><td>14.16</td><td>1</td><td>1</td></tr>\n",
       "\t<tr><th scope=row>2</th><td>2019-09-01 00:31:22</td><td>2019-09-01 00:44:37</td><td>5</td><td>3.20</td><td>12.0</td><td>0.00</td><td>13.30</td><td>2</td><td>1</td></tr>\n",
       "\t<tr><th scope=row>3</th><td>2019-09-01 00:50:24</td><td>2019-09-01 01:03:20</td><td>5</td><td>2.99</td><td>12.0</td><td>0.00</td><td>13.30</td><td>2</td><td>1</td></tr>\n",
       "\t<tr><th scope=row>4</th><td>2019-09-01 00:27:06</td><td>2019-09-01 00:33:22</td><td>1</td><td>1.73</td><td> 7.5</td><td>1.50</td><td>10.30</td><td>1</td><td>1</td></tr>\n",
       "\t<tr><th scope=row>5</th><td>2019-09-01 00:43:23</td><td>2019-09-01 00:59:54</td><td>1</td><td>3.42</td><td>14.0</td><td>3.06</td><td>18.36</td><td>1</td><td>1</td></tr>\n",
       "\t<tr><th scope=row>6</th><td>2019-09-01 00:55:37</td><td>2019-09-01 01:17:02</td><td>1</td><td>6.26</td><td>21.0</td><td>0.00</td><td>28.42</td><td>2</td><td>1</td></tr>\n",
       "</tbody>\n",
       "</table>\n"
      ],
      "text/latex": [
       "A data.frame: 6 × 9\n",
       "\\begin{tabular}{r|lllllllll}\n",
       "  & lpep\\_pickup\\_datetime & lpep\\_dropoff\\_datetime & passenger\\_count & trip\\_distance & fare\\_amount & tip\\_amount & total\\_amount & payment\\_type & trip\\_type\\\\\n",
       "  & <dttm> & <dttm> & <int> & <dbl> & <dbl> & <dbl> & <dbl> & <int> & <int>\\\\\n",
       "\\hline\n",
       "\t1 & 2019-09-01 00:10:53 & 2019-09-01 00:23:46 & 5 & 2.00 & 10.5 & 2.36 & 14.16 & 1 & 1\\\\\n",
       "\t2 & 2019-09-01 00:31:22 & 2019-09-01 00:44:37 & 5 & 3.20 & 12.0 & 0.00 & 13.30 & 2 & 1\\\\\n",
       "\t3 & 2019-09-01 00:50:24 & 2019-09-01 01:03:20 & 5 & 2.99 & 12.0 & 0.00 & 13.30 & 2 & 1\\\\\n",
       "\t4 & 2019-09-01 00:27:06 & 2019-09-01 00:33:22 & 1 & 1.73 &  7.5 & 1.50 & 10.30 & 1 & 1\\\\\n",
       "\t5 & 2019-09-01 00:43:23 & 2019-09-01 00:59:54 & 1 & 3.42 & 14.0 & 3.06 & 18.36 & 1 & 1\\\\\n",
       "\t6 & 2019-09-01 00:55:37 & 2019-09-01 01:17:02 & 1 & 6.26 & 21.0 & 0.00 & 28.42 & 2 & 1\\\\\n",
       "\\end{tabular}\n"
      ],
      "text/markdown": [
       "\n",
       "A data.frame: 6 × 9\n",
       "\n",
       "| <!--/--> | lpep_pickup_datetime &lt;dttm&gt; | lpep_dropoff_datetime &lt;dttm&gt; | passenger_count &lt;int&gt; | trip_distance &lt;dbl&gt; | fare_amount &lt;dbl&gt; | tip_amount &lt;dbl&gt; | total_amount &lt;dbl&gt; | payment_type &lt;int&gt; | trip_type &lt;int&gt; |\n",
       "|---|---|---|---|---|---|---|---|---|---|\n",
       "| 1 | 2019-09-01 00:10:53 | 2019-09-01 00:23:46 | 5 | 2.00 | 10.5 | 2.36 | 14.16 | 1 | 1 |\n",
       "| 2 | 2019-09-01 00:31:22 | 2019-09-01 00:44:37 | 5 | 3.20 | 12.0 | 0.00 | 13.30 | 2 | 1 |\n",
       "| 3 | 2019-09-01 00:50:24 | 2019-09-01 01:03:20 | 5 | 2.99 | 12.0 | 0.00 | 13.30 | 2 | 1 |\n",
       "| 4 | 2019-09-01 00:27:06 | 2019-09-01 00:33:22 | 1 | 1.73 |  7.5 | 1.50 | 10.30 | 1 | 1 |\n",
       "| 5 | 2019-09-01 00:43:23 | 2019-09-01 00:59:54 | 1 | 3.42 | 14.0 | 3.06 | 18.36 | 1 | 1 |\n",
       "| 6 | 2019-09-01 00:55:37 | 2019-09-01 01:17:02 | 1 | 6.26 | 21.0 | 0.00 | 28.42 | 2 | 1 |\n",
       "\n"
      ],
      "text/plain": [
       "  lpep_pickup_datetime lpep_dropoff_datetime passenger_count trip_distance\n",
       "1 2019-09-01 00:10:53  2019-09-01 00:23:46   5               2.00         \n",
       "2 2019-09-01 00:31:22  2019-09-01 00:44:37   5               3.20         \n",
       "3 2019-09-01 00:50:24  2019-09-01 01:03:20   5               2.99         \n",
       "4 2019-09-01 00:27:06  2019-09-01 00:33:22   1               1.73         \n",
       "5 2019-09-01 00:43:23  2019-09-01 00:59:54   1               3.42         \n",
       "6 2019-09-01 00:55:37  2019-09-01 01:17:02   1               6.26         \n",
       "  fare_amount tip_amount total_amount payment_type trip_type\n",
       "1 10.5        2.36       14.16        1            1        \n",
       "2 12.0        0.00       13.30        2            1        \n",
       "3 12.0        0.00       13.30        2            1        \n",
       "4  7.5        1.50       10.30        1            1        \n",
       "5 14.0        3.06       18.36        1            1        \n",
       "6 21.0        0.00       28.42        2            1        "
      ]
     },
     "metadata": {},
     "output_type": "display_data"
    }
   ],
   "source": [
    "head(copy)"
   ]
  },
  {
   "cell_type": "code",
   "execution_count": 193,
   "metadata": {
    "ExecuteTime": {
     "end_time": "2020-07-16T00:56:19.333111Z",
     "start_time": "2020-07-16T00:56:19.304Z"
    }
   },
   "outputs": [],
   "source": [
    "#una vez que tenemos estas columnas en formato datetime, podemos calcular la diferencia"
   ]
  },
  {
   "cell_type": "code",
   "execution_count": 194,
   "metadata": {
    "ExecuteTime": {
     "end_time": "2020-07-16T00:56:19.907431Z",
     "start_time": "2020-07-16T00:56:19.857Z"
    }
   },
   "outputs": [],
   "source": [
    "copy$trip_duration <- as.numeric(difftime(copy$lpep_dropoff_datetime, copy$lpep_pickup_datetime, units=\"hours\"))"
   ]
  },
  {
   "cell_type": "markdown",
   "metadata": {},
   "source": [
    "# Algo misterioso ocurrió. \n",
    "\n",
    "¿En verdad ha habido viajes de 23 horas? ¿O fue un error en la medición de los datos? ¿Es posible que te cobren 12 o 15 dólares por un viaje de 23 horas, como se muestra a continuación?"
   ]
  },
  {
   "cell_type": "code",
   "execution_count": 195,
   "metadata": {
    "ExecuteTime": {
     "end_time": "2020-07-16T00:56:21.619609Z",
     "start_time": "2020-07-16T00:56:21.517Z"
    }
   },
   "outputs": [
    {
     "data": {
      "text/html": [
       "21.1408424846539"
      ],
      "text/latex": [
       "21.1408424846539"
      ],
      "text/markdown": [
       "21.1408424846539"
      ],
      "text/plain": [
       "[1] 21.14084"
      ]
     },
     "metadata": {},
     "output_type": "display_data"
    }
   ],
   "source": [
    "suspect <- copy[copy$trip_duration>5,]\n",
    "mean(suspect$trip_duration) #el promedio de la duración de los viajes del dataframe suspect es de 21 horas!"
   ]
  },
  {
   "cell_type": "code",
   "execution_count": 196,
   "metadata": {
    "ExecuteTime": {
     "end_time": "2020-07-16T00:56:22.515216Z",
     "start_time": "2020-07-16T00:56:22.445Z"
    }
   },
   "outputs": [
    {
     "data": {
      "text/html": [
       "<table>\n",
       "<caption>A data.frame: 6 × 10</caption>\n",
       "<thead>\n",
       "\t<tr><th></th><th scope=col>lpep_pickup_datetime</th><th scope=col>lpep_dropoff_datetime</th><th scope=col>passenger_count</th><th scope=col>trip_distance</th><th scope=col>fare_amount</th><th scope=col>tip_amount</th><th scope=col>total_amount</th><th scope=col>payment_type</th><th scope=col>trip_type</th><th scope=col>trip_duration</th></tr>\n",
       "\t<tr><th></th><th scope=col>&lt;dttm&gt;</th><th scope=col>&lt;dttm&gt;</th><th scope=col>&lt;int&gt;</th><th scope=col>&lt;dbl&gt;</th><th scope=col>&lt;dbl&gt;</th><th scope=col>&lt;dbl&gt;</th><th scope=col>&lt;dbl&gt;</th><th scope=col>&lt;int&gt;</th><th scope=col>&lt;int&gt;</th><th scope=col>&lt;dbl&gt;</th></tr>\n",
       "</thead>\n",
       "<tbody>\n",
       "\t<tr><th scope=row>41</th><td>2019-08-31 23:12:04</td><td>2019-09-01 22:30:13</td><td>1</td><td>2.57</td><td>13.5</td><td>0.00</td><td>14.80</td><td>2</td><td>1</td><td>23.30250</td></tr>\n",
       "\t<tr><th scope=row>244</th><td>2019-09-01 00:02:39</td><td>2019-09-01 23:41:29</td><td>1</td><td>4.77</td><td>18.5</td><td>0.00</td><td>19.80</td><td>1</td><td>1</td><td>23.64722</td></tr>\n",
       "\t<tr><th scope=row>270</th><td>2019-09-01 00:00:05</td><td>2019-09-01 23:18:29</td><td>1</td><td>2.11</td><td>11.0</td><td>0.00</td><td>12.30</td><td>2</td><td>1</td><td>23.30667</td></tr>\n",
       "\t<tr><th scope=row>405</th><td>2019-09-01 00:27:04</td><td>2019-09-02 00:12:56</td><td>1</td><td>0.89</td><td> 5.0</td><td>1.26</td><td> 7.56</td><td>1</td><td>1</td><td>23.76444</td></tr>\n",
       "\t<tr><th scope=row>443</th><td>2019-08-31 22:07:50</td><td>2019-09-01 21:29:08</td><td>1</td><td>5.09</td><td>20.0</td><td>4.26</td><td>25.56</td><td>1</td><td>1</td><td>23.35500</td></tr>\n",
       "\t<tr><th scope=row>637</th><td>2019-08-31 23:07:11</td><td>2019-09-01 22:22:13</td><td>1</td><td>3.04</td><td>13.0</td><td>1.80</td><td>16.10</td><td>1</td><td>1</td><td>23.25056</td></tr>\n",
       "</tbody>\n",
       "</table>\n"
      ],
      "text/latex": [
       "A data.frame: 6 × 10\n",
       "\\begin{tabular}{r|llllllllll}\n",
       "  & lpep\\_pickup\\_datetime & lpep\\_dropoff\\_datetime & passenger\\_count & trip\\_distance & fare\\_amount & tip\\_amount & total\\_amount & payment\\_type & trip\\_type & trip\\_duration\\\\\n",
       "  & <dttm> & <dttm> & <int> & <dbl> & <dbl> & <dbl> & <dbl> & <int> & <int> & <dbl>\\\\\n",
       "\\hline\n",
       "\t41 & 2019-08-31 23:12:04 & 2019-09-01 22:30:13 & 1 & 2.57 & 13.5 & 0.00 & 14.80 & 2 & 1 & 23.30250\\\\\n",
       "\t244 & 2019-09-01 00:02:39 & 2019-09-01 23:41:29 & 1 & 4.77 & 18.5 & 0.00 & 19.80 & 1 & 1 & 23.64722\\\\\n",
       "\t270 & 2019-09-01 00:00:05 & 2019-09-01 23:18:29 & 1 & 2.11 & 11.0 & 0.00 & 12.30 & 2 & 1 & 23.30667\\\\\n",
       "\t405 & 2019-09-01 00:27:04 & 2019-09-02 00:12:56 & 1 & 0.89 &  5.0 & 1.26 &  7.56 & 1 & 1 & 23.76444\\\\\n",
       "\t443 & 2019-08-31 22:07:50 & 2019-09-01 21:29:08 & 1 & 5.09 & 20.0 & 4.26 & 25.56 & 1 & 1 & 23.35500\\\\\n",
       "\t637 & 2019-08-31 23:07:11 & 2019-09-01 22:22:13 & 1 & 3.04 & 13.0 & 1.80 & 16.10 & 1 & 1 & 23.25056\\\\\n",
       "\\end{tabular}\n"
      ],
      "text/markdown": [
       "\n",
       "A data.frame: 6 × 10\n",
       "\n",
       "| <!--/--> | lpep_pickup_datetime &lt;dttm&gt; | lpep_dropoff_datetime &lt;dttm&gt; | passenger_count &lt;int&gt; | trip_distance &lt;dbl&gt; | fare_amount &lt;dbl&gt; | tip_amount &lt;dbl&gt; | total_amount &lt;dbl&gt; | payment_type &lt;int&gt; | trip_type &lt;int&gt; | trip_duration &lt;dbl&gt; |\n",
       "|---|---|---|---|---|---|---|---|---|---|---|\n",
       "| 41 | 2019-08-31 23:12:04 | 2019-09-01 22:30:13 | 1 | 2.57 | 13.5 | 0.00 | 14.80 | 2 | 1 | 23.30250 |\n",
       "| 244 | 2019-09-01 00:02:39 | 2019-09-01 23:41:29 | 1 | 4.77 | 18.5 | 0.00 | 19.80 | 1 | 1 | 23.64722 |\n",
       "| 270 | 2019-09-01 00:00:05 | 2019-09-01 23:18:29 | 1 | 2.11 | 11.0 | 0.00 | 12.30 | 2 | 1 | 23.30667 |\n",
       "| 405 | 2019-09-01 00:27:04 | 2019-09-02 00:12:56 | 1 | 0.89 |  5.0 | 1.26 |  7.56 | 1 | 1 | 23.76444 |\n",
       "| 443 | 2019-08-31 22:07:50 | 2019-09-01 21:29:08 | 1 | 5.09 | 20.0 | 4.26 | 25.56 | 1 | 1 | 23.35500 |\n",
       "| 637 | 2019-08-31 23:07:11 | 2019-09-01 22:22:13 | 1 | 3.04 | 13.0 | 1.80 | 16.10 | 1 | 1 | 23.25056 |\n",
       "\n"
      ],
      "text/plain": [
       "    lpep_pickup_datetime lpep_dropoff_datetime passenger_count trip_distance\n",
       "41  2019-08-31 23:12:04  2019-09-01 22:30:13   1               2.57         \n",
       "244 2019-09-01 00:02:39  2019-09-01 23:41:29   1               4.77         \n",
       "270 2019-09-01 00:00:05  2019-09-01 23:18:29   1               2.11         \n",
       "405 2019-09-01 00:27:04  2019-09-02 00:12:56   1               0.89         \n",
       "443 2019-08-31 22:07:50  2019-09-01 21:29:08   1               5.09         \n",
       "637 2019-08-31 23:07:11  2019-09-01 22:22:13   1               3.04         \n",
       "    fare_amount tip_amount total_amount payment_type trip_type trip_duration\n",
       "41  13.5        0.00       14.80        2            1         23.30250     \n",
       "244 18.5        0.00       19.80        1            1         23.64722     \n",
       "270 11.0        0.00       12.30        2            1         23.30667     \n",
       "405  5.0        1.26        7.56        1            1         23.76444     \n",
       "443 20.0        4.26       25.56        1            1         23.35500     \n",
       "637 13.0        1.80       16.10        1            1         23.25056     "
      ]
     },
     "metadata": {},
     "output_type": "display_data"
    }
   ],
   "source": [
    "head(suspect)"
   ]
  },
  {
   "cell_type": "code",
   "execution_count": 197,
   "metadata": {
    "ExecuteTime": {
     "end_time": "2020-07-16T00:56:23.547030Z",
     "start_time": "2020-07-16T00:56:23.489Z"
    }
   },
   "outputs": [
    {
     "data": {
      "text/html": [
       "<style>\n",
       ".list-inline {list-style: none; margin:0; padding: 0}\n",
       ".list-inline>li {display: inline-block}\n",
       ".list-inline>li:not(:last-child)::after {content: \"\\00b7\"; padding: 0 .5ex}\n",
       "</style>\n",
       "<ol class=list-inline><li>1973</li><li>10</li></ol>\n"
      ],
      "text/latex": [
       "\\begin{enumerate*}\n",
       "\\item 1973\n",
       "\\item 10\n",
       "\\end{enumerate*}\n"
      ],
      "text/markdown": [
       "1. 1973\n",
       "2. 10\n",
       "\n",
       "\n"
      ],
      "text/plain": [
       "[1] 1973   10"
      ]
     },
     "metadata": {},
     "output_type": "display_data"
    }
   ],
   "source": [
    "dim(suspect)"
   ]
  },
  {
   "cell_type": "code",
   "execution_count": 198,
   "metadata": {
    "ExecuteTime": {
     "end_time": "2020-07-16T00:56:26.820676Z",
     "start_time": "2020-07-16T00:56:26.775Z"
    }
   },
   "outputs": [
    {
     "data": {
      "text/html": [
       "24.9758134820071"
      ],
      "text/latex": [
       "24.9758134820071"
      ],
      "text/markdown": [
       "24.9758134820071"
      ],
      "text/plain": [
       "[1] 24.97581"
      ]
     },
     "metadata": {},
     "output_type": "display_data"
    }
   ],
   "source": [
    "mean(suspect$total_amount) #pero solo te cobran 25 dólares? Por 20 horas de viaje? "
   ]
  },
  {
   "cell_type": "markdown",
   "metadata": {},
   "source": [
    "Claro, y aquí vemos que en realidad estos datos MUY probablemente estén mal. Un promedio de 25 dólares de cobro por 21 horas de viaje? Cuando los datos originales tienen un costo mucho mayor. "
   ]
  },
  {
   "cell_type": "code",
   "execution_count": 199,
   "metadata": {
    "ExecuteTime": {
     "end_time": "2020-07-16T00:56:29.241059Z",
     "start_time": "2020-07-16T00:56:28.565Z"
    }
   },
   "outputs": [
    {
     "data": {
      "text/html": [
       "15.8603018969086"
      ],
      "text/latex": [
       "15.8603018969086"
      ],
      "text/markdown": [
       "15.8603018969086"
      ],
      "text/plain": [
       "[1] 15.8603"
      ]
     },
     "metadata": {},
     "output_type": "display_data"
    }
   ],
   "source": [
    "normal <- copy[copy$trip_duration<5,]\n",
    "mean(normal$total_amount)"
   ]
  },
  {
   "cell_type": "code",
   "execution_count": 200,
   "metadata": {
    "ExecuteTime": {
     "end_time": "2020-07-16T00:56:30.644330Z",
     "start_time": "2020-07-16T00:56:30.602Z"
    }
   },
   "outputs": [
    {
     "data": {
      "text/html": [
       "0.238135864349168"
      ],
      "text/latex": [
       "0.238135864349168"
      ],
      "text/markdown": [
       "0.238135864349168"
      ],
      "text/plain": [
       "[1] 0.2381359"
      ]
     },
     "metadata": {},
     "output_type": "display_data"
    }
   ],
   "source": [
    "mean(normal$trip_duration)"
   ]
  },
  {
   "cell_type": "markdown",
   "metadata": {},
   "source": [
    "Vemos un costo promedio de casi 16 dólares por viajes que en promedio duran una cuarto de hora, es decir, 15 minutos. Podemos tirar entonces los datos con duración de viaje de más de 5 horas. "
   ]
  },
  {
   "cell_type": "markdown",
   "metadata": {},
   "source": [
    "### Cobros negativos?\n",
    "\n",
    "Otra cosa que llama la atención en el dataframe es que hay renglones para los cuales total_amount, tip_amount y fare_amount es negativo, lo cual no hace sentido. Eliminémoslos. \n",
    "\n",
    "Nota: No se hace mención de esto en el diccionario de datos."
   ]
  },
  {
   "cell_type": "code",
   "execution_count": 201,
   "metadata": {
    "ExecuteTime": {
     "end_time": "2020-07-16T00:57:59.050307Z",
     "start_time": "2020-07-16T00:57:59.004Z"
    }
   },
   "outputs": [
    {
     "data": {
      "text/html": [
       "<table>\n",
       "<caption>A data.frame: 4 × 10</caption>\n",
       "<thead>\n",
       "\t<tr><th></th><th scope=col>lpep_pickup_datetime</th><th scope=col>lpep_dropoff_datetime</th><th scope=col>passenger_count</th><th scope=col>trip_distance</th><th scope=col>fare_amount</th><th scope=col>tip_amount</th><th scope=col>total_amount</th><th scope=col>payment_type</th><th scope=col>trip_type</th><th scope=col>trip_duration</th></tr>\n",
       "\t<tr><th></th><th scope=col>&lt;dttm&gt;</th><th scope=col>&lt;dttm&gt;</th><th scope=col>&lt;int&gt;</th><th scope=col>&lt;dbl&gt;</th><th scope=col>&lt;dbl&gt;</th><th scope=col>&lt;dbl&gt;</th><th scope=col>&lt;dbl&gt;</th><th scope=col>&lt;int&gt;</th><th scope=col>&lt;int&gt;</th><th scope=col>&lt;dbl&gt;</th></tr>\n",
       "</thead>\n",
       "<tbody>\n",
       "\t<tr><th scope=row>94095</th><td>2019-09-08 14:06:42</td><td>2019-09-09 13:12:10</td><td>2</td><td>0.24</td><td>-3.0</td><td>0</td><td>-3.8</td><td>4</td><td>1</td><td>23.09111</td></tr>\n",
       "\t<tr><th scope=row>225803</th><td>2019-09-18 16:34:12</td><td>2019-09-19 16:33:01</td><td>1</td><td>0.00</td><td>-3.0</td><td>0</td><td>-4.8</td><td>3</td><td>1</td><td>23.98028</td></tr>\n",
       "\t<tr><th scope=row>344322</th><td>2019-09-27 11:49:34</td><td>2019-09-28 11:10:38</td><td>2</td><td>0.01</td><td>-2.5</td><td>0</td><td>-3.3</td><td>3</td><td>1</td><td>23.35111</td></tr>\n",
       "\t<tr><th scope=row>387076</th><td>2019-09-30 18:09:20</td><td>2019-10-01 18:09:10</td><td>3</td><td>0.31</td><td>-3.5</td><td>0</td><td>-5.3</td><td>3</td><td>1</td><td>23.99722</td></tr>\n",
       "</tbody>\n",
       "</table>\n"
      ],
      "text/latex": [
       "A data.frame: 4 × 10\n",
       "\\begin{tabular}{r|llllllllll}\n",
       "  & lpep\\_pickup\\_datetime & lpep\\_dropoff\\_datetime & passenger\\_count & trip\\_distance & fare\\_amount & tip\\_amount & total\\_amount & payment\\_type & trip\\_type & trip\\_duration\\\\\n",
       "  & <dttm> & <dttm> & <int> & <dbl> & <dbl> & <dbl> & <dbl> & <int> & <int> & <dbl>\\\\\n",
       "\\hline\n",
       "\t94095 & 2019-09-08 14:06:42 & 2019-09-09 13:12:10 & 2 & 0.24 & -3.0 & 0 & -3.8 & 4 & 1 & 23.09111\\\\\n",
       "\t225803 & 2019-09-18 16:34:12 & 2019-09-19 16:33:01 & 1 & 0.00 & -3.0 & 0 & -4.8 & 3 & 1 & 23.98028\\\\\n",
       "\t344322 & 2019-09-27 11:49:34 & 2019-09-28 11:10:38 & 2 & 0.01 & -2.5 & 0 & -3.3 & 3 & 1 & 23.35111\\\\\n",
       "\t387076 & 2019-09-30 18:09:20 & 2019-10-01 18:09:10 & 3 & 0.31 & -3.5 & 0 & -5.3 & 3 & 1 & 23.99722\\\\\n",
       "\\end{tabular}\n"
      ],
      "text/markdown": [
       "\n",
       "A data.frame: 4 × 10\n",
       "\n",
       "| <!--/--> | lpep_pickup_datetime &lt;dttm&gt; | lpep_dropoff_datetime &lt;dttm&gt; | passenger_count &lt;int&gt; | trip_distance &lt;dbl&gt; | fare_amount &lt;dbl&gt; | tip_amount &lt;dbl&gt; | total_amount &lt;dbl&gt; | payment_type &lt;int&gt; | trip_type &lt;int&gt; | trip_duration &lt;dbl&gt; |\n",
       "|---|---|---|---|---|---|---|---|---|---|---|\n",
       "| 94095 | 2019-09-08 14:06:42 | 2019-09-09 13:12:10 | 2 | 0.24 | -3.0 | 0 | -3.8 | 4 | 1 | 23.09111 |\n",
       "| 225803 | 2019-09-18 16:34:12 | 2019-09-19 16:33:01 | 1 | 0.00 | -3.0 | 0 | -4.8 | 3 | 1 | 23.98028 |\n",
       "| 344322 | 2019-09-27 11:49:34 | 2019-09-28 11:10:38 | 2 | 0.01 | -2.5 | 0 | -3.3 | 3 | 1 | 23.35111 |\n",
       "| 387076 | 2019-09-30 18:09:20 | 2019-10-01 18:09:10 | 3 | 0.31 | -3.5 | 0 | -5.3 | 3 | 1 | 23.99722 |\n",
       "\n"
      ],
      "text/plain": [
       "       lpep_pickup_datetime lpep_dropoff_datetime passenger_count trip_distance\n",
       "94095  2019-09-08 14:06:42  2019-09-09 13:12:10   2               0.24         \n",
       "225803 2019-09-18 16:34:12  2019-09-19 16:33:01   1               0.00         \n",
       "344322 2019-09-27 11:49:34  2019-09-28 11:10:38   2               0.01         \n",
       "387076 2019-09-30 18:09:20  2019-10-01 18:09:10   3               0.31         \n",
       "       fare_amount tip_amount total_amount payment_type trip_type trip_duration\n",
       "94095  -3.0        0          -3.8         4            1         23.09111     \n",
       "225803 -3.0        0          -4.8         3            1         23.98028     \n",
       "344322 -2.5        0          -3.3         3            1         23.35111     \n",
       "387076 -3.5        0          -5.3         3            1         23.99722     "
      ]
     },
     "metadata": {},
     "output_type": "display_data"
    }
   ],
   "source": [
    "head(suspect[suspect$total_amount < 0, ])"
   ]
  },
  {
   "cell_type": "code",
   "execution_count": 203,
   "metadata": {
    "ExecuteTime": {
     "end_time": "2020-07-16T00:59:19.116813Z",
     "start_time": "2020-07-16T00:59:19.070Z"
    }
   },
   "outputs": [
    {
     "data": {
      "text/html": [
       "<table>\n",
       "<caption>A data.frame: 4 × 10</caption>\n",
       "<thead>\n",
       "\t<tr><th></th><th scope=col>lpep_pickup_datetime</th><th scope=col>lpep_dropoff_datetime</th><th scope=col>passenger_count</th><th scope=col>trip_distance</th><th scope=col>fare_amount</th><th scope=col>tip_amount</th><th scope=col>total_amount</th><th scope=col>payment_type</th><th scope=col>trip_type</th><th scope=col>trip_duration</th></tr>\n",
       "\t<tr><th></th><th scope=col>&lt;dttm&gt;</th><th scope=col>&lt;dttm&gt;</th><th scope=col>&lt;int&gt;</th><th scope=col>&lt;dbl&gt;</th><th scope=col>&lt;dbl&gt;</th><th scope=col>&lt;dbl&gt;</th><th scope=col>&lt;dbl&gt;</th><th scope=col>&lt;int&gt;</th><th scope=col>&lt;int&gt;</th><th scope=col>&lt;dbl&gt;</th></tr>\n",
       "</thead>\n",
       "<tbody>\n",
       "\t<tr><th scope=row>94095</th><td>2019-09-08 14:06:42</td><td>2019-09-09 13:12:10</td><td>2</td><td>0.24</td><td>-3.0</td><td>0</td><td>-3.8</td><td>4</td><td>1</td><td>23.09111</td></tr>\n",
       "\t<tr><th scope=row>225803</th><td>2019-09-18 16:34:12</td><td>2019-09-19 16:33:01</td><td>1</td><td>0.00</td><td>-3.0</td><td>0</td><td>-4.8</td><td>3</td><td>1</td><td>23.98028</td></tr>\n",
       "\t<tr><th scope=row>344322</th><td>2019-09-27 11:49:34</td><td>2019-09-28 11:10:38</td><td>2</td><td>0.01</td><td>-2.5</td><td>0</td><td>-3.3</td><td>3</td><td>1</td><td>23.35111</td></tr>\n",
       "\t<tr><th scope=row>387076</th><td>2019-09-30 18:09:20</td><td>2019-10-01 18:09:10</td><td>3</td><td>0.31</td><td>-3.5</td><td>0</td><td>-5.3</td><td>3</td><td>1</td><td>23.99722</td></tr>\n",
       "</tbody>\n",
       "</table>\n"
      ],
      "text/latex": [
       "A data.frame: 4 × 10\n",
       "\\begin{tabular}{r|llllllllll}\n",
       "  & lpep\\_pickup\\_datetime & lpep\\_dropoff\\_datetime & passenger\\_count & trip\\_distance & fare\\_amount & tip\\_amount & total\\_amount & payment\\_type & trip\\_type & trip\\_duration\\\\\n",
       "  & <dttm> & <dttm> & <int> & <dbl> & <dbl> & <dbl> & <dbl> & <int> & <int> & <dbl>\\\\\n",
       "\\hline\n",
       "\t94095 & 2019-09-08 14:06:42 & 2019-09-09 13:12:10 & 2 & 0.24 & -3.0 & 0 & -3.8 & 4 & 1 & 23.09111\\\\\n",
       "\t225803 & 2019-09-18 16:34:12 & 2019-09-19 16:33:01 & 1 & 0.00 & -3.0 & 0 & -4.8 & 3 & 1 & 23.98028\\\\\n",
       "\t344322 & 2019-09-27 11:49:34 & 2019-09-28 11:10:38 & 2 & 0.01 & -2.5 & 0 & -3.3 & 3 & 1 & 23.35111\\\\\n",
       "\t387076 & 2019-09-30 18:09:20 & 2019-10-01 18:09:10 & 3 & 0.31 & -3.5 & 0 & -5.3 & 3 & 1 & 23.99722\\\\\n",
       "\\end{tabular}\n"
      ],
      "text/markdown": [
       "\n",
       "A data.frame: 4 × 10\n",
       "\n",
       "| <!--/--> | lpep_pickup_datetime &lt;dttm&gt; | lpep_dropoff_datetime &lt;dttm&gt; | passenger_count &lt;int&gt; | trip_distance &lt;dbl&gt; | fare_amount &lt;dbl&gt; | tip_amount &lt;dbl&gt; | total_amount &lt;dbl&gt; | payment_type &lt;int&gt; | trip_type &lt;int&gt; | trip_duration &lt;dbl&gt; |\n",
       "|---|---|---|---|---|---|---|---|---|---|---|\n",
       "| 94095 | 2019-09-08 14:06:42 | 2019-09-09 13:12:10 | 2 | 0.24 | -3.0 | 0 | -3.8 | 4 | 1 | 23.09111 |\n",
       "| 225803 | 2019-09-18 16:34:12 | 2019-09-19 16:33:01 | 1 | 0.00 | -3.0 | 0 | -4.8 | 3 | 1 | 23.98028 |\n",
       "| 344322 | 2019-09-27 11:49:34 | 2019-09-28 11:10:38 | 2 | 0.01 | -2.5 | 0 | -3.3 | 3 | 1 | 23.35111 |\n",
       "| 387076 | 2019-09-30 18:09:20 | 2019-10-01 18:09:10 | 3 | 0.31 | -3.5 | 0 | -5.3 | 3 | 1 | 23.99722 |\n",
       "\n"
      ],
      "text/plain": [
       "       lpep_pickup_datetime lpep_dropoff_datetime passenger_count trip_distance\n",
       "94095  2019-09-08 14:06:42  2019-09-09 13:12:10   2               0.24         \n",
       "225803 2019-09-18 16:34:12  2019-09-19 16:33:01   1               0.00         \n",
       "344322 2019-09-27 11:49:34  2019-09-28 11:10:38   2               0.01         \n",
       "387076 2019-09-30 18:09:20  2019-10-01 18:09:10   3               0.31         \n",
       "       fare_amount tip_amount total_amount payment_type trip_type trip_duration\n",
       "94095  -3.0        0          -3.8         4            1         23.09111     \n",
       "225803 -3.0        0          -4.8         3            1         23.98028     \n",
       "344322 -2.5        0          -3.3         3            1         23.35111     \n",
       "387076 -3.5        0          -5.3         3            1         23.99722     "
      ]
     },
     "metadata": {},
     "output_type": "display_data"
    }
   ],
   "source": [
    "head(suspect[suspect$fare_amount < 0, ])"
   ]
  },
  {
   "cell_type": "code",
   "execution_count": 204,
   "metadata": {
    "ExecuteTime": {
     "end_time": "2020-07-16T00:59:39.903611Z",
     "start_time": "2020-07-16T00:59:39.840Z"
    }
   },
   "outputs": [
    {
     "data": {
      "text/html": [
       "<table>\n",
       "<caption>A data.frame: 10 × 9</caption>\n",
       "<thead>\n",
       "\t<tr><th></th><th scope=col>lpep_pickup_datetime</th><th scope=col>lpep_dropoff_datetime</th><th scope=col>passenger_count</th><th scope=col>trip_distance</th><th scope=col>fare_amount</th><th scope=col>tip_amount</th><th scope=col>total_amount</th><th scope=col>payment_type</th><th scope=col>trip_type</th></tr>\n",
       "\t<tr><th></th><th scope=col>&lt;chr&gt;</th><th scope=col>&lt;chr&gt;</th><th scope=col>&lt;int&gt;</th><th scope=col>&lt;dbl&gt;</th><th scope=col>&lt;dbl&gt;</th><th scope=col>&lt;dbl&gt;</th><th scope=col>&lt;dbl&gt;</th><th scope=col>&lt;int&gt;</th><th scope=col>&lt;int&gt;</th></tr>\n",
       "</thead>\n",
       "<tbody>\n",
       "\t<tr><th scope=row>14946</th><td>2019-09-02 14:25:36</td><td>2019-09-02 14:26:49</td><td>1</td><td>0</td><td> -3.00</td><td>-1.14</td><td> -4.94</td><td>3</td><td>1</td></tr>\n",
       "\t<tr><th scope=row>117805</th><td>2019-09-10 13:56:43</td><td>2019-09-10 13:57:34</td><td>1</td><td>0</td><td> -2.50</td><td>-0.99</td><td> -4.29</td><td>3</td><td>1</td></tr>\n",
       "\t<tr><th scope=row>125385</th><td>2019-09-10 23:36:44</td><td>2019-09-10 23:36:51</td><td>1</td><td>0</td><td>-15.55</td><td>-3.89</td><td>-19.44</td><td>4</td><td>2</td></tr>\n",
       "\t<tr><th scope=row>235948</th><td>2019-09-19 12:50:50</td><td>2019-09-19 12:52:04</td><td>1</td><td>0</td><td> -3.00</td><td>-0.76</td><td> -4.56</td><td>3</td><td>1</td></tr>\n",
       "\t<tr><th scope=row>236682</th><td>2019-09-19 13:22:01</td><td>2019-09-19 13:22:46</td><td>1</td><td>0</td><td> -2.50</td><td>-0.66</td><td> -3.96</td><td>3</td><td>1</td></tr>\n",
       "\t<tr><th scope=row>248773</th><td>2019-09-20 10:19:45</td><td>2019-09-20 10:21:13</td><td>1</td><td>0</td><td> -3.00</td><td>-1.14</td><td> -4.94</td><td>3</td><td>1</td></tr>\n",
       "\t<tr><th scope=row>290642</th><td>2019-09-23 10:24:17</td><td>2019-09-23 10:30:07</td><td>1</td><td>0</td><td> -3.00</td><td>-0.76</td><td> -4.56</td><td>3</td><td>1</td></tr>\n",
       "\t<tr><th scope=row>332570</th><td>2019-09-26 15:06:45</td><td>2019-09-26 15:07:24</td><td>1</td><td>0</td><td> -2.50</td><td>-0.99</td><td> -4.29</td><td>3</td><td>1</td></tr>\n",
       "\t<tr><th scope=row>373239</th><td>2019-09-29 13:48:42</td><td>2019-09-29 13:48:42</td><td>1</td><td>0</td><td> -2.50</td><td>-0.66</td><td> -3.96</td><td>3</td><td>1</td></tr>\n",
       "\t<tr><th scope=row>375481</th><td>2019-09-29 17:37:32</td><td>2019-09-29 17:38:05</td><td>1</td><td>0</td><td> -2.50</td><td>-2.55</td><td> -5.85</td><td>3</td><td>1</td></tr>\n",
       "</tbody>\n",
       "</table>\n"
      ],
      "text/latex": [
       "A data.frame: 10 × 9\n",
       "\\begin{tabular}{r|lllllllll}\n",
       "  & lpep\\_pickup\\_datetime & lpep\\_dropoff\\_datetime & passenger\\_count & trip\\_distance & fare\\_amount & tip\\_amount & total\\_amount & payment\\_type & trip\\_type\\\\\n",
       "  & <chr> & <chr> & <int> & <dbl> & <dbl> & <dbl> & <dbl> & <int> & <int>\\\\\n",
       "\\hline\n",
       "\t14946 & 2019-09-02 14:25:36 & 2019-09-02 14:26:49 & 1 & 0 &  -3.00 & -1.14 &  -4.94 & 3 & 1\\\\\n",
       "\t117805 & 2019-09-10 13:56:43 & 2019-09-10 13:57:34 & 1 & 0 &  -2.50 & -0.99 &  -4.29 & 3 & 1\\\\\n",
       "\t125385 & 2019-09-10 23:36:44 & 2019-09-10 23:36:51 & 1 & 0 & -15.55 & -3.89 & -19.44 & 4 & 2\\\\\n",
       "\t235948 & 2019-09-19 12:50:50 & 2019-09-19 12:52:04 & 1 & 0 &  -3.00 & -0.76 &  -4.56 & 3 & 1\\\\\n",
       "\t236682 & 2019-09-19 13:22:01 & 2019-09-19 13:22:46 & 1 & 0 &  -2.50 & -0.66 &  -3.96 & 3 & 1\\\\\n",
       "\t248773 & 2019-09-20 10:19:45 & 2019-09-20 10:21:13 & 1 & 0 &  -3.00 & -1.14 &  -4.94 & 3 & 1\\\\\n",
       "\t290642 & 2019-09-23 10:24:17 & 2019-09-23 10:30:07 & 1 & 0 &  -3.00 & -0.76 &  -4.56 & 3 & 1\\\\\n",
       "\t332570 & 2019-09-26 15:06:45 & 2019-09-26 15:07:24 & 1 & 0 &  -2.50 & -0.99 &  -4.29 & 3 & 1\\\\\n",
       "\t373239 & 2019-09-29 13:48:42 & 2019-09-29 13:48:42 & 1 & 0 &  -2.50 & -0.66 &  -3.96 & 3 & 1\\\\\n",
       "\t375481 & 2019-09-29 17:37:32 & 2019-09-29 17:38:05 & 1 & 0 &  -2.50 & -2.55 &  -5.85 & 3 & 1\\\\\n",
       "\\end{tabular}\n"
      ],
      "text/markdown": [
       "\n",
       "A data.frame: 10 × 9\n",
       "\n",
       "| <!--/--> | lpep_pickup_datetime &lt;chr&gt; | lpep_dropoff_datetime &lt;chr&gt; | passenger_count &lt;int&gt; | trip_distance &lt;dbl&gt; | fare_amount &lt;dbl&gt; | tip_amount &lt;dbl&gt; | total_amount &lt;dbl&gt; | payment_type &lt;int&gt; | trip_type &lt;int&gt; |\n",
       "|---|---|---|---|---|---|---|---|---|---|\n",
       "| 14946 | 2019-09-02 14:25:36 | 2019-09-02 14:26:49 | 1 | 0 |  -3.00 | -1.14 |  -4.94 | 3 | 1 |\n",
       "| 117805 | 2019-09-10 13:56:43 | 2019-09-10 13:57:34 | 1 | 0 |  -2.50 | -0.99 |  -4.29 | 3 | 1 |\n",
       "| 125385 | 2019-09-10 23:36:44 | 2019-09-10 23:36:51 | 1 | 0 | -15.55 | -3.89 | -19.44 | 4 | 2 |\n",
       "| 235948 | 2019-09-19 12:50:50 | 2019-09-19 12:52:04 | 1 | 0 |  -3.00 | -0.76 |  -4.56 | 3 | 1 |\n",
       "| 236682 | 2019-09-19 13:22:01 | 2019-09-19 13:22:46 | 1 | 0 |  -2.50 | -0.66 |  -3.96 | 3 | 1 |\n",
       "| 248773 | 2019-09-20 10:19:45 | 2019-09-20 10:21:13 | 1 | 0 |  -3.00 | -1.14 |  -4.94 | 3 | 1 |\n",
       "| 290642 | 2019-09-23 10:24:17 | 2019-09-23 10:30:07 | 1 | 0 |  -3.00 | -0.76 |  -4.56 | 3 | 1 |\n",
       "| 332570 | 2019-09-26 15:06:45 | 2019-09-26 15:07:24 | 1 | 0 |  -2.50 | -0.99 |  -4.29 | 3 | 1 |\n",
       "| 373239 | 2019-09-29 13:48:42 | 2019-09-29 13:48:42 | 1 | 0 |  -2.50 | -0.66 |  -3.96 | 3 | 1 |\n",
       "| 375481 | 2019-09-29 17:37:32 | 2019-09-29 17:38:05 | 1 | 0 |  -2.50 | -2.55 |  -5.85 | 3 | 1 |\n",
       "\n"
      ],
      "text/plain": [
       "       lpep_pickup_datetime lpep_dropoff_datetime passenger_count trip_distance\n",
       "14946  2019-09-02 14:25:36  2019-09-02 14:26:49   1               0            \n",
       "117805 2019-09-10 13:56:43  2019-09-10 13:57:34   1               0            \n",
       "125385 2019-09-10 23:36:44  2019-09-10 23:36:51   1               0            \n",
       "235948 2019-09-19 12:50:50  2019-09-19 12:52:04   1               0            \n",
       "236682 2019-09-19 13:22:01  2019-09-19 13:22:46   1               0            \n",
       "248773 2019-09-20 10:19:45  2019-09-20 10:21:13   1               0            \n",
       "290642 2019-09-23 10:24:17  2019-09-23 10:30:07   1               0            \n",
       "332570 2019-09-26 15:06:45  2019-09-26 15:07:24   1               0            \n",
       "373239 2019-09-29 13:48:42  2019-09-29 13:48:42   1               0            \n",
       "375481 2019-09-29 17:37:32  2019-09-29 17:38:05   1               0            \n",
       "       fare_amount tip_amount total_amount payment_type trip_type\n",
       "14946   -3.00      -1.14       -4.94       3            1        \n",
       "117805  -2.50      -0.99       -4.29       3            1        \n",
       "125385 -15.55      -3.89      -19.44       4            2        \n",
       "235948  -3.00      -0.76       -4.56       3            1        \n",
       "236682  -2.50      -0.66       -3.96       3            1        \n",
       "248773  -3.00      -1.14       -4.94       3            1        \n",
       "290642  -3.00      -0.76       -4.56       3            1        \n",
       "332570  -2.50      -0.99       -4.29       3            1        \n",
       "373239  -2.50      -0.66       -3.96       3            1        \n",
       "375481  -2.50      -2.55       -5.85       3            1        "
      ]
     },
     "metadata": {},
     "output_type": "display_data"
    }
   ],
   "source": [
    "clean_data[clean_data$tip_amount <0,]"
   ]
  },
  {
   "cell_type": "code",
   "execution_count": 209,
   "metadata": {
    "ExecuteTime": {
     "end_time": "2020-07-16T01:01:04.574131Z",
     "start_time": "2020-07-16T01:01:04.518Z"
    }
   },
   "outputs": [
    {
     "data": {
      "text/plain": [
       "   Min. 1st Qu.  Median    Mean 3rd Qu.    Max. \n",
       "  1.000   1.000   1.000   1.456   2.000   5.000 "
      ]
     },
     "metadata": {},
     "output_type": "display_data"
    }
   ],
   "source": [
    "summary(clean_data$payment_type)"
   ]
  },
  {
   "cell_type": "markdown",
   "metadata": {},
   "source": [
    "### Hay columnas que es necesario crear por nuestra cuenta. \n",
    "\n",
    "Además de la columna que calcular el tiempo del viaje, sería útil tener una columna que señale el porcentaje que representa la propina del costo total."
   ]
  },
  {
   "cell_type": "code",
   "execution_count": 142,
   "metadata": {
    "ExecuteTime": {
     "end_time": "2020-07-16T00:22:25.714444Z",
     "start_time": "2020-07-16T00:22:25.657Z"
    }
   },
   "outputs": [
    {
     "data": {
      "text/html": [
       "<table>\n",
       "<caption>A data.frame: 6 × 11</caption>\n",
       "<thead>\n",
       "\t<tr><th></th><th scope=col>lpep_pickup_datetime</th><th scope=col>lpep_dropoff_datetime</th><th scope=col>passenger_count</th><th scope=col>trip_distance</th><th scope=col>fare_amount</th><th scope=col>tip_amount</th><th scope=col>total_amount</th><th scope=col>payment_type</th><th scope=col>trip_type</th><th scope=col>trip_duration</th><th scope=col>tip_pct</th></tr>\n",
       "\t<tr><th></th><th scope=col>&lt;dttm&gt;</th><th scope=col>&lt;dttm&gt;</th><th scope=col>&lt;int&gt;</th><th scope=col>&lt;dbl&gt;</th><th scope=col>&lt;dbl&gt;</th><th scope=col>&lt;dbl&gt;</th><th scope=col>&lt;dbl&gt;</th><th scope=col>&lt;int&gt;</th><th scope=col>&lt;int&gt;</th><th scope=col>&lt;dbl&gt;</th><th scope=col>&lt;dbl&gt;</th></tr>\n",
       "</thead>\n",
       "<tbody>\n",
       "\t<tr><th scope=row>1</th><td>2019-09-01 00:10:53</td><td>2019-09-01 00:23:46</td><td>5</td><td>2.00</td><td>10.5</td><td>2.36</td><td>14.16</td><td>1</td><td>1</td><td>0.2147222</td><td>0.1666667</td></tr>\n",
       "\t<tr><th scope=row>2</th><td>2019-09-01 00:31:22</td><td>2019-09-01 00:44:37</td><td>5</td><td>3.20</td><td>12.0</td><td>0.00</td><td>13.30</td><td>2</td><td>1</td><td>0.2208333</td><td>0.0000000</td></tr>\n",
       "\t<tr><th scope=row>3</th><td>2019-09-01 00:50:24</td><td>2019-09-01 01:03:20</td><td>5</td><td>2.99</td><td>12.0</td><td>0.00</td><td>13.30</td><td>2</td><td>1</td><td>0.2155556</td><td>0.0000000</td></tr>\n",
       "\t<tr><th scope=row>4</th><td>2019-09-01 00:27:06</td><td>2019-09-01 00:33:22</td><td>1</td><td>1.73</td><td> 7.5</td><td>1.50</td><td>10.30</td><td>1</td><td>1</td><td>0.1044444</td><td>0.1456311</td></tr>\n",
       "\t<tr><th scope=row>5</th><td>2019-09-01 00:43:23</td><td>2019-09-01 00:59:54</td><td>1</td><td>3.42</td><td>14.0</td><td>3.06</td><td>18.36</td><td>1</td><td>1</td><td>0.2752778</td><td>0.1666667</td></tr>\n",
       "\t<tr><th scope=row>6</th><td>2019-09-01 00:55:37</td><td>2019-09-01 01:17:02</td><td>1</td><td>6.26</td><td>21.0</td><td>0.00</td><td>28.42</td><td>2</td><td>1</td><td>0.3569444</td><td>0.0000000</td></tr>\n",
       "</tbody>\n",
       "</table>\n"
      ],
      "text/latex": [
       "A data.frame: 6 × 11\n",
       "\\begin{tabular}{r|lllllllllll}\n",
       "  & lpep\\_pickup\\_datetime & lpep\\_dropoff\\_datetime & passenger\\_count & trip\\_distance & fare\\_amount & tip\\_amount & total\\_amount & payment\\_type & trip\\_type & trip\\_duration & tip\\_pct\\\\\n",
       "  & <dttm> & <dttm> & <int> & <dbl> & <dbl> & <dbl> & <dbl> & <int> & <int> & <dbl> & <dbl>\\\\\n",
       "\\hline\n",
       "\t1 & 2019-09-01 00:10:53 & 2019-09-01 00:23:46 & 5 & 2.00 & 10.5 & 2.36 & 14.16 & 1 & 1 & 0.2147222 & 0.1666667\\\\\n",
       "\t2 & 2019-09-01 00:31:22 & 2019-09-01 00:44:37 & 5 & 3.20 & 12.0 & 0.00 & 13.30 & 2 & 1 & 0.2208333 & 0.0000000\\\\\n",
       "\t3 & 2019-09-01 00:50:24 & 2019-09-01 01:03:20 & 5 & 2.99 & 12.0 & 0.00 & 13.30 & 2 & 1 & 0.2155556 & 0.0000000\\\\\n",
       "\t4 & 2019-09-01 00:27:06 & 2019-09-01 00:33:22 & 1 & 1.73 &  7.5 & 1.50 & 10.30 & 1 & 1 & 0.1044444 & 0.1456311\\\\\n",
       "\t5 & 2019-09-01 00:43:23 & 2019-09-01 00:59:54 & 1 & 3.42 & 14.0 & 3.06 & 18.36 & 1 & 1 & 0.2752778 & 0.1666667\\\\\n",
       "\t6 & 2019-09-01 00:55:37 & 2019-09-01 01:17:02 & 1 & 6.26 & 21.0 & 0.00 & 28.42 & 2 & 1 & 0.3569444 & 0.0000000\\\\\n",
       "\\end{tabular}\n"
      ],
      "text/markdown": [
       "\n",
       "A data.frame: 6 × 11\n",
       "\n",
       "| <!--/--> | lpep_pickup_datetime &lt;dttm&gt; | lpep_dropoff_datetime &lt;dttm&gt; | passenger_count &lt;int&gt; | trip_distance &lt;dbl&gt; | fare_amount &lt;dbl&gt; | tip_amount &lt;dbl&gt; | total_amount &lt;dbl&gt; | payment_type &lt;int&gt; | trip_type &lt;int&gt; | trip_duration &lt;dbl&gt; | tip_pct &lt;dbl&gt; |\n",
       "|---|---|---|---|---|---|---|---|---|---|---|---|\n",
       "| 1 | 2019-09-01 00:10:53 | 2019-09-01 00:23:46 | 5 | 2.00 | 10.5 | 2.36 | 14.16 | 1 | 1 | 0.2147222 | 0.1666667 |\n",
       "| 2 | 2019-09-01 00:31:22 | 2019-09-01 00:44:37 | 5 | 3.20 | 12.0 | 0.00 | 13.30 | 2 | 1 | 0.2208333 | 0.0000000 |\n",
       "| 3 | 2019-09-01 00:50:24 | 2019-09-01 01:03:20 | 5 | 2.99 | 12.0 | 0.00 | 13.30 | 2 | 1 | 0.2155556 | 0.0000000 |\n",
       "| 4 | 2019-09-01 00:27:06 | 2019-09-01 00:33:22 | 1 | 1.73 |  7.5 | 1.50 | 10.30 | 1 | 1 | 0.1044444 | 0.1456311 |\n",
       "| 5 | 2019-09-01 00:43:23 | 2019-09-01 00:59:54 | 1 | 3.42 | 14.0 | 3.06 | 18.36 | 1 | 1 | 0.2752778 | 0.1666667 |\n",
       "| 6 | 2019-09-01 00:55:37 | 2019-09-01 01:17:02 | 1 | 6.26 | 21.0 | 0.00 | 28.42 | 2 | 1 | 0.3569444 | 0.0000000 |\n",
       "\n"
      ],
      "text/plain": [
       "  lpep_pickup_datetime lpep_dropoff_datetime passenger_count trip_distance\n",
       "1 2019-09-01 00:10:53  2019-09-01 00:23:46   5               2.00         \n",
       "2 2019-09-01 00:31:22  2019-09-01 00:44:37   5               3.20         \n",
       "3 2019-09-01 00:50:24  2019-09-01 01:03:20   5               2.99         \n",
       "4 2019-09-01 00:27:06  2019-09-01 00:33:22   1               1.73         \n",
       "5 2019-09-01 00:43:23  2019-09-01 00:59:54   1               3.42         \n",
       "6 2019-09-01 00:55:37  2019-09-01 01:17:02   1               6.26         \n",
       "  fare_amount tip_amount total_amount payment_type trip_type trip_duration\n",
       "1 10.5        2.36       14.16        1            1         0.2147222    \n",
       "2 12.0        0.00       13.30        2            1         0.2208333    \n",
       "3 12.0        0.00       13.30        2            1         0.2155556    \n",
       "4  7.5        1.50       10.30        1            1         0.1044444    \n",
       "5 14.0        3.06       18.36        1            1         0.2752778    \n",
       "6 21.0        0.00       28.42        2            1         0.3569444    \n",
       "  tip_pct  \n",
       "1 0.1666667\n",
       "2 0.0000000\n",
       "3 0.0000000\n",
       "4 0.1456311\n",
       "5 0.1666667\n",
       "6 0.0000000"
      ]
     },
     "metadata": {},
     "output_type": "display_data"
    }
   ],
   "source": [
    "#probando lo de la propina \n",
    "copy$tip_pct <- copy$tip_amount / copy$total_amount\n",
    "head(copy)"
   ]
  },
  {
   "cell_type": "code",
   "execution_count": 1,
   "metadata": {
    "ExecuteTime": {
     "end_time": "2020-07-17T16:40:38.238133Z",
     "start_time": "2020-07-17T16:40:38.121Z"
    }
   },
   "outputs": [],
   "source": [
    "#Funciones relevantes hasta ahora:\n",
    "\n",
    "clean_dataframe <- function(data_frame) {\n",
    "    #function to remove unnecessary cols in r dataframe and na's\n",
    "    data_frame$VendorID <- NULL\n",
    "    data_frame$store_and_fwd_flag <- NULL\n",
    "    data_frame$PULocationID <- NULL\n",
    "    data_frame$DOLocationID <- NULL\n",
    "    data_frame$RatecodeID <- NULL\n",
    "    data_frame$ehail_fee <- NULL\n",
    "    data_frame$improvement_surcharge <- NULL \n",
    "    data_frame$tolls_amount <- NULL \n",
    "    data_frame$mta_tax <- NULL \n",
    "    data_frame$extra <- NULL \n",
    "    data_frame$congestion_surcharge <- NULL\n",
    "    return(data_frame[complete.cases(data_frame),])\n",
    "}\n",
    "\n",
    "add_columns <- function(data_frame, month) {\n",
    "    #function to add 2 columns to data frame to improve analysis\n",
    "    #first we add trip duration in hours\n",
    "    data_frame$lpep_dropoff_datetime <- as.POSIXct(data_frame$lpep_dropoff_datetime,\n",
    "                                      format='%Y-%m-%d %H:%M:%S')\n",
    "    data_frame$lpep_pickup_datetime <- as.POSIXct(data_frame$lpep_pickup_datetime,\n",
    "                                      format='%Y-%m-%d %H:%M:%S')\n",
    "    data_frame$trip_duration <- as.numeric(difftime(data_frame[,2], data_frame[,1], units=\"hours\"))\n",
    "    \n",
    "    #then we add tip percentage\n",
    "    data_frame$tip_pct <- data_frame$tip_amount / data_frame$total_amount\n",
    "    data_frame$month <- month\n",
    "    data_frame <- data_frame[data_frame$trip_duration<5,]\n",
    "    data_frame <- data_frame[data_frame$total_amount > 0,]\n",
    "    data_frame <- data_frame[data_frame$fare_amount > 0,]\n",
    "    data_frame <- data_frame[data_frame$tip_amount > 0,]\n",
    "    data_frame <- data_frame[data_frame$trip_duration >0,]\n",
    "    data_frame <- data_frame[data_frame$trip_distance >0,]\n",
    "    return(data_frame)\n",
    "}\n",
    "\n",
    "\n",
    "data_pipeline <- function(csv, month){\n",
    "    #function to include all cleaning and transformation functions \n",
    "    data <- read.csv(csv)\n",
    "    data <- clean_dataframe(data)\n",
    "    data <- add_columns(data, month)\n",
    "    return(data)\n",
    "}\n"
   ]
  },
  {
   "cell_type": "code",
   "execution_count": 2,
   "metadata": {
    "ExecuteTime": {
     "end_time": "2020-07-17T16:40:52.586050Z",
     "start_time": "2020-07-17T16:40:39.798Z"
    }
   },
   "outputs": [
    {
     "data": {
      "text/html": [
       "<table>\n",
       "<caption>A data.frame: 6 × 12</caption>\n",
       "<thead>\n",
       "\t<tr><th></th><th scope=col>lpep_pickup_datetime</th><th scope=col>lpep_dropoff_datetime</th><th scope=col>passenger_count</th><th scope=col>trip_distance</th><th scope=col>fare_amount</th><th scope=col>tip_amount</th><th scope=col>total_amount</th><th scope=col>payment_type</th><th scope=col>trip_type</th><th scope=col>trip_duration</th><th scope=col>tip_pct</th><th scope=col>month</th></tr>\n",
       "\t<tr><th></th><th scope=col>&lt;dttm&gt;</th><th scope=col>&lt;dttm&gt;</th><th scope=col>&lt;int&gt;</th><th scope=col>&lt;dbl&gt;</th><th scope=col>&lt;dbl&gt;</th><th scope=col>&lt;dbl&gt;</th><th scope=col>&lt;dbl&gt;</th><th scope=col>&lt;int&gt;</th><th scope=col>&lt;int&gt;</th><th scope=col>&lt;dbl&gt;</th><th scope=col>&lt;dbl&gt;</th><th scope=col>&lt;chr&gt;</th></tr>\n",
       "</thead>\n",
       "<tbody>\n",
       "\t<tr><th scope=row>1</th><td>2019-09-01 00:10:53</td><td>2019-09-01 00:23:46</td><td>5</td><td>2.00</td><td>10.5</td><td>2.36</td><td>14.16</td><td>1</td><td>1</td><td>0.2147222</td><td>0.1666667</td><td>Septiembre</td></tr>\n",
       "\t<tr><th scope=row>4</th><td>2019-09-01 00:27:06</td><td>2019-09-01 00:33:22</td><td>1</td><td>1.73</td><td> 7.5</td><td>1.50</td><td>10.30</td><td>1</td><td>1</td><td>0.1044444</td><td>0.1456311</td><td>Septiembre</td></tr>\n",
       "\t<tr><th scope=row>5</th><td>2019-09-01 00:43:23</td><td>2019-09-01 00:59:54</td><td>1</td><td>3.42</td><td>14.0</td><td>3.06</td><td>18.36</td><td>1</td><td>1</td><td>0.2752778</td><td>0.1666667</td><td>Septiembre</td></tr>\n",
       "\t<tr><th scope=row>7</th><td>2019-09-01 00:28:55</td><td>2019-09-01 00:52:09</td><td>1</td><td>4.34</td><td>18.0</td><td>3.86</td><td>23.16</td><td>1</td><td>1</td><td>0.3872222</td><td>0.1666667</td><td>Septiembre</td></tr>\n",
       "\t<tr><th scope=row>15</th><td>2019-09-01 00:13:37</td><td>2019-09-01 00:26:46</td><td>1</td><td>3.59</td><td>13.0</td><td>5.12</td><td>22.17</td><td>1</td><td>1</td><td>0.2191667</td><td>0.2309427</td><td>Septiembre</td></tr>\n",
       "\t<tr><th scope=row>16</th><td>2019-09-01 00:35:43</td><td>2019-09-01 00:47:21</td><td>1</td><td>2.10</td><td> 9.5</td><td>1.70</td><td>13.00</td><td>1</td><td>1</td><td>0.1938889</td><td>0.1307692</td><td>Septiembre</td></tr>\n",
       "</tbody>\n",
       "</table>\n"
      ],
      "text/latex": [
       "A data.frame: 6 × 12\n",
       "\\begin{tabular}{r|llllllllllll}\n",
       "  & lpep\\_pickup\\_datetime & lpep\\_dropoff\\_datetime & passenger\\_count & trip\\_distance & fare\\_amount & tip\\_amount & total\\_amount & payment\\_type & trip\\_type & trip\\_duration & tip\\_pct & month\\\\\n",
       "  & <dttm> & <dttm> & <int> & <dbl> & <dbl> & <dbl> & <dbl> & <int> & <int> & <dbl> & <dbl> & <chr>\\\\\n",
       "\\hline\n",
       "\t1 & 2019-09-01 00:10:53 & 2019-09-01 00:23:46 & 5 & 2.00 & 10.5 & 2.36 & 14.16 & 1 & 1 & 0.2147222 & 0.1666667 & Septiembre\\\\\n",
       "\t4 & 2019-09-01 00:27:06 & 2019-09-01 00:33:22 & 1 & 1.73 &  7.5 & 1.50 & 10.30 & 1 & 1 & 0.1044444 & 0.1456311 & Septiembre\\\\\n",
       "\t5 & 2019-09-01 00:43:23 & 2019-09-01 00:59:54 & 1 & 3.42 & 14.0 & 3.06 & 18.36 & 1 & 1 & 0.2752778 & 0.1666667 & Septiembre\\\\\n",
       "\t7 & 2019-09-01 00:28:55 & 2019-09-01 00:52:09 & 1 & 4.34 & 18.0 & 3.86 & 23.16 & 1 & 1 & 0.3872222 & 0.1666667 & Septiembre\\\\\n",
       "\t15 & 2019-09-01 00:13:37 & 2019-09-01 00:26:46 & 1 & 3.59 & 13.0 & 5.12 & 22.17 & 1 & 1 & 0.2191667 & 0.2309427 & Septiembre\\\\\n",
       "\t16 & 2019-09-01 00:35:43 & 2019-09-01 00:47:21 & 1 & 2.10 &  9.5 & 1.70 & 13.00 & 1 & 1 & 0.1938889 & 0.1307692 & Septiembre\\\\\n",
       "\\end{tabular}\n"
      ],
      "text/markdown": [
       "\n",
       "A data.frame: 6 × 12\n",
       "\n",
       "| <!--/--> | lpep_pickup_datetime &lt;dttm&gt; | lpep_dropoff_datetime &lt;dttm&gt; | passenger_count &lt;int&gt; | trip_distance &lt;dbl&gt; | fare_amount &lt;dbl&gt; | tip_amount &lt;dbl&gt; | total_amount &lt;dbl&gt; | payment_type &lt;int&gt; | trip_type &lt;int&gt; | trip_duration &lt;dbl&gt; | tip_pct &lt;dbl&gt; | month &lt;chr&gt; |\n",
       "|---|---|---|---|---|---|---|---|---|---|---|---|---|\n",
       "| 1 | 2019-09-01 00:10:53 | 2019-09-01 00:23:46 | 5 | 2.00 | 10.5 | 2.36 | 14.16 | 1 | 1 | 0.2147222 | 0.1666667 | Septiembre |\n",
       "| 4 | 2019-09-01 00:27:06 | 2019-09-01 00:33:22 | 1 | 1.73 |  7.5 | 1.50 | 10.30 | 1 | 1 | 0.1044444 | 0.1456311 | Septiembre |\n",
       "| 5 | 2019-09-01 00:43:23 | 2019-09-01 00:59:54 | 1 | 3.42 | 14.0 | 3.06 | 18.36 | 1 | 1 | 0.2752778 | 0.1666667 | Septiembre |\n",
       "| 7 | 2019-09-01 00:28:55 | 2019-09-01 00:52:09 | 1 | 4.34 | 18.0 | 3.86 | 23.16 | 1 | 1 | 0.3872222 | 0.1666667 | Septiembre |\n",
       "| 15 | 2019-09-01 00:13:37 | 2019-09-01 00:26:46 | 1 | 3.59 | 13.0 | 5.12 | 22.17 | 1 | 1 | 0.2191667 | 0.2309427 | Septiembre |\n",
       "| 16 | 2019-09-01 00:35:43 | 2019-09-01 00:47:21 | 1 | 2.10 |  9.5 | 1.70 | 13.00 | 1 | 1 | 0.1938889 | 0.1307692 | Septiembre |\n",
       "\n"
      ],
      "text/plain": [
       "   lpep_pickup_datetime lpep_dropoff_datetime passenger_count trip_distance\n",
       "1  2019-09-01 00:10:53  2019-09-01 00:23:46   5               2.00         \n",
       "4  2019-09-01 00:27:06  2019-09-01 00:33:22   1               1.73         \n",
       "5  2019-09-01 00:43:23  2019-09-01 00:59:54   1               3.42         \n",
       "7  2019-09-01 00:28:55  2019-09-01 00:52:09   1               4.34         \n",
       "15 2019-09-01 00:13:37  2019-09-01 00:26:46   1               3.59         \n",
       "16 2019-09-01 00:35:43  2019-09-01 00:47:21   1               2.10         \n",
       "   fare_amount tip_amount total_amount payment_type trip_type trip_duration\n",
       "1  10.5        2.36       14.16        1            1         0.2147222    \n",
       "4   7.5        1.50       10.30        1            1         0.1044444    \n",
       "5  14.0        3.06       18.36        1            1         0.2752778    \n",
       "7  18.0        3.86       23.16        1            1         0.3872222    \n",
       "15 13.0        5.12       22.17        1            1         0.2191667    \n",
       "16  9.5        1.70       13.00        1            1         0.1938889    \n",
       "   tip_pct   month     \n",
       "1  0.1666667 Septiembre\n",
       "4  0.1456311 Septiembre\n",
       "5  0.1666667 Septiembre\n",
       "7  0.1666667 Septiembre\n",
       "15 0.2309427 Septiembre\n",
       "16 0.1307692 Septiembre"
      ]
     },
     "metadata": {},
     "output_type": "display_data"
    }
   ],
   "source": [
    "test <- data_pipeline('septiembre.csv', 'Septiembre')\n",
    "head(test)"
   ]
  },
  {
   "cell_type": "code",
   "execution_count": 3,
   "metadata": {
    "ExecuteTime": {
     "end_time": "2020-07-17T16:41:06.551926Z",
     "start_time": "2020-07-17T16:40:54.292Z"
    }
   },
   "outputs": [
    {
     "data": {
      "text/html": [
       "<table>\n",
       "<caption>A data.frame: 6 × 12</caption>\n",
       "<thead>\n",
       "\t<tr><th></th><th scope=col>lpep_pickup_datetime</th><th scope=col>lpep_dropoff_datetime</th><th scope=col>passenger_count</th><th scope=col>trip_distance</th><th scope=col>fare_amount</th><th scope=col>tip_amount</th><th scope=col>total_amount</th><th scope=col>payment_type</th><th scope=col>trip_type</th><th scope=col>trip_duration</th><th scope=col>tip_pct</th><th scope=col>month</th></tr>\n",
       "\t<tr><th></th><th scope=col>&lt;dttm&gt;</th><th scope=col>&lt;dttm&gt;</th><th scope=col>&lt;int&gt;</th><th scope=col>&lt;dbl&gt;</th><th scope=col>&lt;dbl&gt;</th><th scope=col>&lt;dbl&gt;</th><th scope=col>&lt;dbl&gt;</th><th scope=col>&lt;int&gt;</th><th scope=col>&lt;int&gt;</th><th scope=col>&lt;dbl&gt;</th><th scope=col>&lt;dbl&gt;</th><th scope=col>&lt;chr&gt;</th></tr>\n",
       "</thead>\n",
       "<tbody>\n",
       "\t<tr><th scope=row>5</th><td>2019-10-01 00:08:13</td><td>2019-10-01 00:17:56</td><td>1</td><td>2.52</td><td>10</td><td>2.26</td><td>13.56</td><td>1</td><td>1</td><td>0.16194444</td><td>0.16666667</td><td>Octubre</td></tr>\n",
       "\t<tr><th scope=row>6</th><td>2019-10-01 00:35:01</td><td>2019-10-01 00:43:40</td><td>1</td><td>1.47</td><td> 8</td><td>1.86</td><td>11.16</td><td>1</td><td>1</td><td>0.14416667</td><td>0.16666667</td><td>Octubre</td></tr>\n",
       "\t<tr><th scope=row>7</th><td>2019-10-01 00:28:09</td><td>2019-10-01 00:30:49</td><td>1</td><td>0.60</td><td> 4</td><td>1.00</td><td> 6.30</td><td>1</td><td>1</td><td>0.04444444</td><td>0.15873016</td><td>Octubre</td></tr>\n",
       "\t<tr><th scope=row>10</th><td>2019-10-01 00:03:03</td><td>2019-10-01 00:17:13</td><td>1</td><td>3.40</td><td>13</td><td>2.85</td><td>17.15</td><td>1</td><td>1</td><td>0.23611111</td><td>0.16618076</td><td>Octubre</td></tr>\n",
       "\t<tr><th scope=row>12</th><td>2019-10-01 00:25:48</td><td>2019-10-01 00:49:52</td><td>1</td><td>4.70</td><td>18</td><td>1.00</td><td>20.30</td><td>1</td><td>1</td><td>0.40111111</td><td>0.04926108</td><td>Octubre</td></tr>\n",
       "\t<tr><th scope=row>14</th><td>2019-10-01 00:44:56</td><td>2019-10-01 00:51:06</td><td>1</td><td>1.19</td><td>10</td><td>0.25</td><td>10.25</td><td>1</td><td>2</td><td>0.10277778</td><td>0.02439024</td><td>Octubre</td></tr>\n",
       "</tbody>\n",
       "</table>\n"
      ],
      "text/latex": [
       "A data.frame: 6 × 12\n",
       "\\begin{tabular}{r|llllllllllll}\n",
       "  & lpep\\_pickup\\_datetime & lpep\\_dropoff\\_datetime & passenger\\_count & trip\\_distance & fare\\_amount & tip\\_amount & total\\_amount & payment\\_type & trip\\_type & trip\\_duration & tip\\_pct & month\\\\\n",
       "  & <dttm> & <dttm> & <int> & <dbl> & <dbl> & <dbl> & <dbl> & <int> & <int> & <dbl> & <dbl> & <chr>\\\\\n",
       "\\hline\n",
       "\t5 & 2019-10-01 00:08:13 & 2019-10-01 00:17:56 & 1 & 2.52 & 10 & 2.26 & 13.56 & 1 & 1 & 0.16194444 & 0.16666667 & Octubre\\\\\n",
       "\t6 & 2019-10-01 00:35:01 & 2019-10-01 00:43:40 & 1 & 1.47 &  8 & 1.86 & 11.16 & 1 & 1 & 0.14416667 & 0.16666667 & Octubre\\\\\n",
       "\t7 & 2019-10-01 00:28:09 & 2019-10-01 00:30:49 & 1 & 0.60 &  4 & 1.00 &  6.30 & 1 & 1 & 0.04444444 & 0.15873016 & Octubre\\\\\n",
       "\t10 & 2019-10-01 00:03:03 & 2019-10-01 00:17:13 & 1 & 3.40 & 13 & 2.85 & 17.15 & 1 & 1 & 0.23611111 & 0.16618076 & Octubre\\\\\n",
       "\t12 & 2019-10-01 00:25:48 & 2019-10-01 00:49:52 & 1 & 4.70 & 18 & 1.00 & 20.30 & 1 & 1 & 0.40111111 & 0.04926108 & Octubre\\\\\n",
       "\t14 & 2019-10-01 00:44:56 & 2019-10-01 00:51:06 & 1 & 1.19 & 10 & 0.25 & 10.25 & 1 & 2 & 0.10277778 & 0.02439024 & Octubre\\\\\n",
       "\\end{tabular}\n"
      ],
      "text/markdown": [
       "\n",
       "A data.frame: 6 × 12\n",
       "\n",
       "| <!--/--> | lpep_pickup_datetime &lt;dttm&gt; | lpep_dropoff_datetime &lt;dttm&gt; | passenger_count &lt;int&gt; | trip_distance &lt;dbl&gt; | fare_amount &lt;dbl&gt; | tip_amount &lt;dbl&gt; | total_amount &lt;dbl&gt; | payment_type &lt;int&gt; | trip_type &lt;int&gt; | trip_duration &lt;dbl&gt; | tip_pct &lt;dbl&gt; | month &lt;chr&gt; |\n",
       "|---|---|---|---|---|---|---|---|---|---|---|---|---|\n",
       "| 5 | 2019-10-01 00:08:13 | 2019-10-01 00:17:56 | 1 | 2.52 | 10 | 2.26 | 13.56 | 1 | 1 | 0.16194444 | 0.16666667 | Octubre |\n",
       "| 6 | 2019-10-01 00:35:01 | 2019-10-01 00:43:40 | 1 | 1.47 |  8 | 1.86 | 11.16 | 1 | 1 | 0.14416667 | 0.16666667 | Octubre |\n",
       "| 7 | 2019-10-01 00:28:09 | 2019-10-01 00:30:49 | 1 | 0.60 |  4 | 1.00 |  6.30 | 1 | 1 | 0.04444444 | 0.15873016 | Octubre |\n",
       "| 10 | 2019-10-01 00:03:03 | 2019-10-01 00:17:13 | 1 | 3.40 | 13 | 2.85 | 17.15 | 1 | 1 | 0.23611111 | 0.16618076 | Octubre |\n",
       "| 12 | 2019-10-01 00:25:48 | 2019-10-01 00:49:52 | 1 | 4.70 | 18 | 1.00 | 20.30 | 1 | 1 | 0.40111111 | 0.04926108 | Octubre |\n",
       "| 14 | 2019-10-01 00:44:56 | 2019-10-01 00:51:06 | 1 | 1.19 | 10 | 0.25 | 10.25 | 1 | 2 | 0.10277778 | 0.02439024 | Octubre |\n",
       "\n"
      ],
      "text/plain": [
       "   lpep_pickup_datetime lpep_dropoff_datetime passenger_count trip_distance\n",
       "5  2019-10-01 00:08:13  2019-10-01 00:17:56   1               2.52         \n",
       "6  2019-10-01 00:35:01  2019-10-01 00:43:40   1               1.47         \n",
       "7  2019-10-01 00:28:09  2019-10-01 00:30:49   1               0.60         \n",
       "10 2019-10-01 00:03:03  2019-10-01 00:17:13   1               3.40         \n",
       "12 2019-10-01 00:25:48  2019-10-01 00:49:52   1               4.70         \n",
       "14 2019-10-01 00:44:56  2019-10-01 00:51:06   1               1.19         \n",
       "   fare_amount tip_amount total_amount payment_type trip_type trip_duration\n",
       "5  10          2.26       13.56        1            1         0.16194444   \n",
       "6   8          1.86       11.16        1            1         0.14416667   \n",
       "7   4          1.00        6.30        1            1         0.04444444   \n",
       "10 13          2.85       17.15        1            1         0.23611111   \n",
       "12 18          1.00       20.30        1            1         0.40111111   \n",
       "14 10          0.25       10.25        1            2         0.10277778   \n",
       "   tip_pct    month  \n",
       "5  0.16666667 Octubre\n",
       "6  0.16666667 Octubre\n",
       "7  0.15873016 Octubre\n",
       "10 0.16618076 Octubre\n",
       "12 0.04926108 Octubre\n",
       "14 0.02439024 Octubre"
      ]
     },
     "metadata": {},
     "output_type": "display_data"
    }
   ],
   "source": [
    "#funciona con otros meses también\n",
    "oct <- data_pipeline('octubre.csv', 'Octubre')\n",
    "head(oct)"
   ]
  },
  {
   "cell_type": "markdown",
   "metadata": {
    "ExecuteTime": {
     "end_time": "2020-07-16T00:25:50.916691Z",
     "start_time": "2020-07-16T00:25:50.856Z"
    }
   },
   "source": [
    "# 2- Uniendo los distintos meses\n",
    "\n",
    "Será más fácil trabajar con un dataframe que incluya todos los meses. Hay que concatenar los dataframes. \n"
   ]
  },
  {
   "cell_type": "code",
   "execution_count": 4,
   "metadata": {
    "ExecuteTime": {
     "end_time": "2020-07-17T16:41:30.118463Z",
     "start_time": "2020-07-17T16:41:09.468Z"
    }
   },
   "outputs": [],
   "source": [
    "nov <- data_pipeline('noviembre.csv', 'Noviembre')\n",
    "dic <- data_pipeline('diciembre.csv', 'Diciembre')"
   ]
  },
  {
   "cell_type": "code",
   "execution_count": 6,
   "metadata": {
    "ExecuteTime": {
     "end_time": "2020-07-17T16:41:55.065739Z",
     "start_time": "2020-07-17T16:41:54.965Z"
    }
   },
   "outputs": [
    {
     "name": "stdout",
     "output_type": "stream",
     "text": [
      "[1] \"Dimensiones de Septiembre:\"\n",
      "[1] 154789     12\n",
      "[1] \"Dimensiones de Octubre:\"\n",
      "[1] 164296     12\n",
      "[1] \"Dimensiones de Noviembre:\"\n",
      "[1] 156204     12\n",
      "[1] \"Dimensiones de Diciembre:\"\n",
      "[1] 151713     12\n"
     ]
    }
   ],
   "source": [
    "print(\"Dimensiones de Septiembre:\")\n",
    "print(dim(test))\n",
    "print(\"Dimensiones de Octubre:\")\n",
    "print(dim(oct))\n",
    "print(\"Dimensiones de Noviembre:\")\n",
    "print(dim(nov))\n",
    "print(\"Dimensiones de Diciembre:\")\n",
    "print(dim(dic))"
   ]
  },
  {
   "cell_type": "markdown",
   "metadata": {},
   "source": [
    "Lo importante es que tengan las mismas columnas. Tiempo de concatenarlos. "
   ]
  },
  {
   "cell_type": "code",
   "execution_count": 11,
   "metadata": {
    "ExecuteTime": {
     "end_time": "2020-07-17T16:42:27.241097Z",
     "start_time": "2020-07-17T16:42:27.068Z"
    }
   },
   "outputs": [
    {
     "data": {
      "text/html": [
       "<style>\n",
       ".list-inline {list-style: none; margin:0; padding: 0}\n",
       ".list-inline>li {display: inline-block}\n",
       ".list-inline>li:not(:last-child)::after {content: \"\\00b7\"; padding: 0 .5ex}\n",
       "</style>\n",
       "<ol class=list-inline><li>627002</li><li>12</li></ol>\n"
      ],
      "text/latex": [
       "\\begin{enumerate*}\n",
       "\\item 627002\n",
       "\\item 12\n",
       "\\end{enumerate*}\n"
      ],
      "text/markdown": [
       "1. 627002\n",
       "2. 12\n",
       "\n",
       "\n"
      ],
      "text/plain": [
       "[1] 627002     12"
      ]
     },
     "metadata": {},
     "output_type": "display_data"
    }
   ],
   "source": [
    "total_data <- bind_rows(test,oct,nov,dic)\n",
    "dim(total_data) #la suma de todas"
   ]
  },
  {
   "cell_type": "code",
   "execution_count": 214,
   "metadata": {
    "ExecuteTime": {
     "end_time": "2020-07-16T01:02:04.625685Z",
     "start_time": "2020-07-16T01:02:04.568Z"
    }
   },
   "outputs": [
    {
     "data": {
      "text/html": [
       "<table>\n",
       "<caption>A data.frame: 6 × 12</caption>\n",
       "<thead>\n",
       "\t<tr><th></th><th scope=col>lpep_pickup_datetime</th><th scope=col>lpep_dropoff_datetime</th><th scope=col>passenger_count</th><th scope=col>trip_distance</th><th scope=col>fare_amount</th><th scope=col>tip_amount</th><th scope=col>total_amount</th><th scope=col>payment_type</th><th scope=col>trip_type</th><th scope=col>trip_duration</th><th scope=col>tip_pct</th><th scope=col>month</th></tr>\n",
       "\t<tr><th></th><th scope=col>&lt;dttm&gt;</th><th scope=col>&lt;dttm&gt;</th><th scope=col>&lt;int&gt;</th><th scope=col>&lt;dbl&gt;</th><th scope=col>&lt;dbl&gt;</th><th scope=col>&lt;dbl&gt;</th><th scope=col>&lt;dbl&gt;</th><th scope=col>&lt;int&gt;</th><th scope=col>&lt;int&gt;</th><th scope=col>&lt;dbl&gt;</th><th scope=col>&lt;dbl&gt;</th><th scope=col>&lt;chr&gt;</th></tr>\n",
       "</thead>\n",
       "<tbody>\n",
       "\t<tr><th scope=row>1</th><td>2019-09-01 00:10:53</td><td>2019-09-01 00:23:46</td><td>5</td><td>2.00</td><td>10.5</td><td>2.36</td><td>14.16</td><td>1</td><td>1</td><td>0.2147222</td><td>0.1666667</td><td>Septiembre</td></tr>\n",
       "\t<tr><th scope=row>2</th><td>2019-09-01 00:27:06</td><td>2019-09-01 00:33:22</td><td>1</td><td>1.73</td><td> 7.5</td><td>1.50</td><td>10.30</td><td>1</td><td>1</td><td>0.1044444</td><td>0.1456311</td><td>Septiembre</td></tr>\n",
       "\t<tr><th scope=row>3</th><td>2019-09-01 00:43:23</td><td>2019-09-01 00:59:54</td><td>1</td><td>3.42</td><td>14.0</td><td>3.06</td><td>18.36</td><td>1</td><td>1</td><td>0.2752778</td><td>0.1666667</td><td>Septiembre</td></tr>\n",
       "\t<tr><th scope=row>4</th><td>2019-09-01 00:28:55</td><td>2019-09-01 00:52:09</td><td>1</td><td>4.34</td><td>18.0</td><td>3.86</td><td>23.16</td><td>1</td><td>1</td><td>0.3872222</td><td>0.1666667</td><td>Septiembre</td></tr>\n",
       "\t<tr><th scope=row>5</th><td>2019-09-01 00:13:37</td><td>2019-09-01 00:26:46</td><td>1</td><td>3.59</td><td>13.0</td><td>5.12</td><td>22.17</td><td>1</td><td>1</td><td>0.2191667</td><td>0.2309427</td><td>Septiembre</td></tr>\n",
       "\t<tr><th scope=row>6</th><td>2019-09-01 00:35:43</td><td>2019-09-01 00:47:21</td><td>1</td><td>2.10</td><td> 9.5</td><td>1.70</td><td>13.00</td><td>1</td><td>1</td><td>0.1938889</td><td>0.1307692</td><td>Septiembre</td></tr>\n",
       "</tbody>\n",
       "</table>\n"
      ],
      "text/latex": [
       "A data.frame: 6 × 12\n",
       "\\begin{tabular}{r|llllllllllll}\n",
       "  & lpep\\_pickup\\_datetime & lpep\\_dropoff\\_datetime & passenger\\_count & trip\\_distance & fare\\_amount & tip\\_amount & total\\_amount & payment\\_type & trip\\_type & trip\\_duration & tip\\_pct & month\\\\\n",
       "  & <dttm> & <dttm> & <int> & <dbl> & <dbl> & <dbl> & <dbl> & <int> & <int> & <dbl> & <dbl> & <chr>\\\\\n",
       "\\hline\n",
       "\t1 & 2019-09-01 00:10:53 & 2019-09-01 00:23:46 & 5 & 2.00 & 10.5 & 2.36 & 14.16 & 1 & 1 & 0.2147222 & 0.1666667 & Septiembre\\\\\n",
       "\t2 & 2019-09-01 00:27:06 & 2019-09-01 00:33:22 & 1 & 1.73 &  7.5 & 1.50 & 10.30 & 1 & 1 & 0.1044444 & 0.1456311 & Septiembre\\\\\n",
       "\t3 & 2019-09-01 00:43:23 & 2019-09-01 00:59:54 & 1 & 3.42 & 14.0 & 3.06 & 18.36 & 1 & 1 & 0.2752778 & 0.1666667 & Septiembre\\\\\n",
       "\t4 & 2019-09-01 00:28:55 & 2019-09-01 00:52:09 & 1 & 4.34 & 18.0 & 3.86 & 23.16 & 1 & 1 & 0.3872222 & 0.1666667 & Septiembre\\\\\n",
       "\t5 & 2019-09-01 00:13:37 & 2019-09-01 00:26:46 & 1 & 3.59 & 13.0 & 5.12 & 22.17 & 1 & 1 & 0.2191667 & 0.2309427 & Septiembre\\\\\n",
       "\t6 & 2019-09-01 00:35:43 & 2019-09-01 00:47:21 & 1 & 2.10 &  9.5 & 1.70 & 13.00 & 1 & 1 & 0.1938889 & 0.1307692 & Septiembre\\\\\n",
       "\\end{tabular}\n"
      ],
      "text/markdown": [
       "\n",
       "A data.frame: 6 × 12\n",
       "\n",
       "| <!--/--> | lpep_pickup_datetime &lt;dttm&gt; | lpep_dropoff_datetime &lt;dttm&gt; | passenger_count &lt;int&gt; | trip_distance &lt;dbl&gt; | fare_amount &lt;dbl&gt; | tip_amount &lt;dbl&gt; | total_amount &lt;dbl&gt; | payment_type &lt;int&gt; | trip_type &lt;int&gt; | trip_duration &lt;dbl&gt; | tip_pct &lt;dbl&gt; | month &lt;chr&gt; |\n",
       "|---|---|---|---|---|---|---|---|---|---|---|---|---|\n",
       "| 1 | 2019-09-01 00:10:53 | 2019-09-01 00:23:46 | 5 | 2.00 | 10.5 | 2.36 | 14.16 | 1 | 1 | 0.2147222 | 0.1666667 | Septiembre |\n",
       "| 2 | 2019-09-01 00:27:06 | 2019-09-01 00:33:22 | 1 | 1.73 |  7.5 | 1.50 | 10.30 | 1 | 1 | 0.1044444 | 0.1456311 | Septiembre |\n",
       "| 3 | 2019-09-01 00:43:23 | 2019-09-01 00:59:54 | 1 | 3.42 | 14.0 | 3.06 | 18.36 | 1 | 1 | 0.2752778 | 0.1666667 | Septiembre |\n",
       "| 4 | 2019-09-01 00:28:55 | 2019-09-01 00:52:09 | 1 | 4.34 | 18.0 | 3.86 | 23.16 | 1 | 1 | 0.3872222 | 0.1666667 | Septiembre |\n",
       "| 5 | 2019-09-01 00:13:37 | 2019-09-01 00:26:46 | 1 | 3.59 | 13.0 | 5.12 | 22.17 | 1 | 1 | 0.2191667 | 0.2309427 | Septiembre |\n",
       "| 6 | 2019-09-01 00:35:43 | 2019-09-01 00:47:21 | 1 | 2.10 |  9.5 | 1.70 | 13.00 | 1 | 1 | 0.1938889 | 0.1307692 | Septiembre |\n",
       "\n"
      ],
      "text/plain": [
       "  lpep_pickup_datetime lpep_dropoff_datetime passenger_count trip_distance\n",
       "1 2019-09-01 00:10:53  2019-09-01 00:23:46   5               2.00         \n",
       "2 2019-09-01 00:27:06  2019-09-01 00:33:22   1               1.73         \n",
       "3 2019-09-01 00:43:23  2019-09-01 00:59:54   1               3.42         \n",
       "4 2019-09-01 00:28:55  2019-09-01 00:52:09   1               4.34         \n",
       "5 2019-09-01 00:13:37  2019-09-01 00:26:46   1               3.59         \n",
       "6 2019-09-01 00:35:43  2019-09-01 00:47:21   1               2.10         \n",
       "  fare_amount tip_amount total_amount payment_type trip_type trip_duration\n",
       "1 10.5        2.36       14.16        1            1         0.2147222    \n",
       "2  7.5        1.50       10.30        1            1         0.1044444    \n",
       "3 14.0        3.06       18.36        1            1         0.2752778    \n",
       "4 18.0        3.86       23.16        1            1         0.3872222    \n",
       "5 13.0        5.12       22.17        1            1         0.2191667    \n",
       "6  9.5        1.70       13.00        1            1         0.1938889    \n",
       "  tip_pct   month     \n",
       "1 0.1666667 Septiembre\n",
       "2 0.1456311 Septiembre\n",
       "3 0.1666667 Septiembre\n",
       "4 0.1666667 Septiembre\n",
       "5 0.2309427 Septiembre\n",
       "6 0.1307692 Septiembre"
      ]
     },
     "metadata": {},
     "output_type": "display_data"
    }
   ],
   "source": [
    "head(total_data) #inicia con septiembre"
   ]
  },
  {
   "cell_type": "code",
   "execution_count": 215,
   "metadata": {
    "ExecuteTime": {
     "end_time": "2020-07-16T01:02:07.573387Z",
     "start_time": "2020-07-16T01:02:07.517Z"
    }
   },
   "outputs": [
    {
     "data": {
      "text/html": [
       "<table>\n",
       "<caption>A data.frame: 6 × 12</caption>\n",
       "<thead>\n",
       "\t<tr><th></th><th scope=col>lpep_pickup_datetime</th><th scope=col>lpep_dropoff_datetime</th><th scope=col>passenger_count</th><th scope=col>trip_distance</th><th scope=col>fare_amount</th><th scope=col>tip_amount</th><th scope=col>total_amount</th><th scope=col>payment_type</th><th scope=col>trip_type</th><th scope=col>trip_duration</th><th scope=col>tip_pct</th><th scope=col>month</th></tr>\n",
       "\t<tr><th></th><th scope=col>&lt;dttm&gt;</th><th scope=col>&lt;dttm&gt;</th><th scope=col>&lt;int&gt;</th><th scope=col>&lt;dbl&gt;</th><th scope=col>&lt;dbl&gt;</th><th scope=col>&lt;dbl&gt;</th><th scope=col>&lt;dbl&gt;</th><th scope=col>&lt;int&gt;</th><th scope=col>&lt;int&gt;</th><th scope=col>&lt;dbl&gt;</th><th scope=col>&lt;dbl&gt;</th><th scope=col>&lt;chr&gt;</th></tr>\n",
       "</thead>\n",
       "<tbody>\n",
       "\t<tr><th scope=row>633869</th><td>2019-12-31 23:47:50</td><td>2020-01-01 00:04:53</td><td>1</td><td> 3.84</td><td>14.5</td><td>3.71</td><td>22.26</td><td>1</td><td>1</td><td>0.28416667</td><td>0.1666667</td><td>Diciembre</td></tr>\n",
       "\t<tr><th scope=row>633870</th><td>2019-12-31 23:21:37</td><td>2019-12-31 23:47:09</td><td>1</td><td>14.61</td><td>40.5</td><td>7.19</td><td>55.11</td><td>1</td><td>1</td><td>0.42555556</td><td>0.1304663</td><td>Diciembre</td></tr>\n",
       "\t<tr><th scope=row>633871</th><td>2019-12-31 23:40:39</td><td>2019-12-31 23:43:46</td><td>1</td><td> 0.93</td><td> 4.5</td><td>5.00</td><td>10.80</td><td>1</td><td>1</td><td>0.05194444</td><td>0.4629630</td><td>Diciembre</td></tr>\n",
       "\t<tr><th scope=row>633872</th><td>2019-12-31 23:17:45</td><td>2019-12-31 23:38:27</td><td>1</td><td> 6.45</td><td>22.0</td><td>3.50</td><td>28.75</td><td>1</td><td>1</td><td>0.34500000</td><td>0.1217391</td><td>Diciembre</td></tr>\n",
       "\t<tr><th scope=row>633873</th><td>2019-12-31 23:07:37</td><td>2019-12-31 23:26:38</td><td>1</td><td> 3.77</td><td>15.5</td><td>5.04</td><td>21.84</td><td>1</td><td>1</td><td>0.31694444</td><td>0.2307692</td><td>Diciembre</td></tr>\n",
       "\t<tr><th scope=row>633874</th><td>2019-12-31 23:21:06</td><td>2019-12-31 23:47:15</td><td>1</td><td> 8.27</td><td>27.5</td><td>6.31</td><td>37.86</td><td>1</td><td>1</td><td>0.43583333</td><td>0.1666667</td><td>Diciembre</td></tr>\n",
       "</tbody>\n",
       "</table>\n"
      ],
      "text/latex": [
       "A data.frame: 6 × 12\n",
       "\\begin{tabular}{r|llllllllllll}\n",
       "  & lpep\\_pickup\\_datetime & lpep\\_dropoff\\_datetime & passenger\\_count & trip\\_distance & fare\\_amount & tip\\_amount & total\\_amount & payment\\_type & trip\\_type & trip\\_duration & tip\\_pct & month\\\\\n",
       "  & <dttm> & <dttm> & <int> & <dbl> & <dbl> & <dbl> & <dbl> & <int> & <int> & <dbl> & <dbl> & <chr>\\\\\n",
       "\\hline\n",
       "\t633869 & 2019-12-31 23:47:50 & 2020-01-01 00:04:53 & 1 &  3.84 & 14.5 & 3.71 & 22.26 & 1 & 1 & 0.28416667 & 0.1666667 & Diciembre\\\\\n",
       "\t633870 & 2019-12-31 23:21:37 & 2019-12-31 23:47:09 & 1 & 14.61 & 40.5 & 7.19 & 55.11 & 1 & 1 & 0.42555556 & 0.1304663 & Diciembre\\\\\n",
       "\t633871 & 2019-12-31 23:40:39 & 2019-12-31 23:43:46 & 1 &  0.93 &  4.5 & 5.00 & 10.80 & 1 & 1 & 0.05194444 & 0.4629630 & Diciembre\\\\\n",
       "\t633872 & 2019-12-31 23:17:45 & 2019-12-31 23:38:27 & 1 &  6.45 & 22.0 & 3.50 & 28.75 & 1 & 1 & 0.34500000 & 0.1217391 & Diciembre\\\\\n",
       "\t633873 & 2019-12-31 23:07:37 & 2019-12-31 23:26:38 & 1 &  3.77 & 15.5 & 5.04 & 21.84 & 1 & 1 & 0.31694444 & 0.2307692 & Diciembre\\\\\n",
       "\t633874 & 2019-12-31 23:21:06 & 2019-12-31 23:47:15 & 1 &  8.27 & 27.5 & 6.31 & 37.86 & 1 & 1 & 0.43583333 & 0.1666667 & Diciembre\\\\\n",
       "\\end{tabular}\n"
      ],
      "text/markdown": [
       "\n",
       "A data.frame: 6 × 12\n",
       "\n",
       "| <!--/--> | lpep_pickup_datetime &lt;dttm&gt; | lpep_dropoff_datetime &lt;dttm&gt; | passenger_count &lt;int&gt; | trip_distance &lt;dbl&gt; | fare_amount &lt;dbl&gt; | tip_amount &lt;dbl&gt; | total_amount &lt;dbl&gt; | payment_type &lt;int&gt; | trip_type &lt;int&gt; | trip_duration &lt;dbl&gt; | tip_pct &lt;dbl&gt; | month &lt;chr&gt; |\n",
       "|---|---|---|---|---|---|---|---|---|---|---|---|---|\n",
       "| 633869 | 2019-12-31 23:47:50 | 2020-01-01 00:04:53 | 1 |  3.84 | 14.5 | 3.71 | 22.26 | 1 | 1 | 0.28416667 | 0.1666667 | Diciembre |\n",
       "| 633870 | 2019-12-31 23:21:37 | 2019-12-31 23:47:09 | 1 | 14.61 | 40.5 | 7.19 | 55.11 | 1 | 1 | 0.42555556 | 0.1304663 | Diciembre |\n",
       "| 633871 | 2019-12-31 23:40:39 | 2019-12-31 23:43:46 | 1 |  0.93 |  4.5 | 5.00 | 10.80 | 1 | 1 | 0.05194444 | 0.4629630 | Diciembre |\n",
       "| 633872 | 2019-12-31 23:17:45 | 2019-12-31 23:38:27 | 1 |  6.45 | 22.0 | 3.50 | 28.75 | 1 | 1 | 0.34500000 | 0.1217391 | Diciembre |\n",
       "| 633873 | 2019-12-31 23:07:37 | 2019-12-31 23:26:38 | 1 |  3.77 | 15.5 | 5.04 | 21.84 | 1 | 1 | 0.31694444 | 0.2307692 | Diciembre |\n",
       "| 633874 | 2019-12-31 23:21:06 | 2019-12-31 23:47:15 | 1 |  8.27 | 27.5 | 6.31 | 37.86 | 1 | 1 | 0.43583333 | 0.1666667 | Diciembre |\n",
       "\n"
      ],
      "text/plain": [
       "       lpep_pickup_datetime lpep_dropoff_datetime passenger_count trip_distance\n",
       "633869 2019-12-31 23:47:50  2020-01-01 00:04:53   1                3.84        \n",
       "633870 2019-12-31 23:21:37  2019-12-31 23:47:09   1               14.61        \n",
       "633871 2019-12-31 23:40:39  2019-12-31 23:43:46   1                0.93        \n",
       "633872 2019-12-31 23:17:45  2019-12-31 23:38:27   1                6.45        \n",
       "633873 2019-12-31 23:07:37  2019-12-31 23:26:38   1                3.77        \n",
       "633874 2019-12-31 23:21:06  2019-12-31 23:47:15   1                8.27        \n",
       "       fare_amount tip_amount total_amount payment_type trip_type trip_duration\n",
       "633869 14.5        3.71       22.26        1            1         0.28416667   \n",
       "633870 40.5        7.19       55.11        1            1         0.42555556   \n",
       "633871  4.5        5.00       10.80        1            1         0.05194444   \n",
       "633872 22.0        3.50       28.75        1            1         0.34500000   \n",
       "633873 15.5        5.04       21.84        1            1         0.31694444   \n",
       "633874 27.5        6.31       37.86        1            1         0.43583333   \n",
       "       tip_pct   month    \n",
       "633869 0.1666667 Diciembre\n",
       "633870 0.1304663 Diciembre\n",
       "633871 0.4629630 Diciembre\n",
       "633872 0.1217391 Diciembre\n",
       "633873 0.2307692 Diciembre\n",
       "633874 0.1666667 Diciembre"
      ]
     },
     "metadata": {},
     "output_type": "display_data"
    }
   ],
   "source": [
    "tail(total_data) #acaba con diciembre"
   ]
  },
  {
   "cell_type": "markdown",
   "metadata": {},
   "source": [
    "# 3 - Exportar datos \n",
    "\n",
    "El análisis estadístico será realizado en otro notebook sobre el csv que exportaremos ahora. "
   ]
  },
  {
   "cell_type": "code",
   "execution_count": 216,
   "metadata": {
    "ExecuteTime": {
     "end_time": "2020-07-16T01:02:40.437851Z",
     "start_time": "2020-07-16T01:02:31.604Z"
    }
   },
   "outputs": [],
   "source": [
    "write.csv(x=total_data, file=\"cuarto_cuatrimestre.csv\")"
   ]
  },
  {
   "cell_type": "code",
   "execution_count": 217,
   "metadata": {
    "ExecuteTime": {
     "end_time": "2020-07-16T01:02:46.895688Z",
     "start_time": "2020-07-16T01:02:42.145Z"
    }
   },
   "outputs": [
    {
     "data": {
      "text/html": [
       "<table>\n",
       "<caption>A data.frame: 6 × 13</caption>\n",
       "<thead>\n",
       "\t<tr><th></th><th scope=col>X</th><th scope=col>lpep_pickup_datetime</th><th scope=col>lpep_dropoff_datetime</th><th scope=col>passenger_count</th><th scope=col>trip_distance</th><th scope=col>fare_amount</th><th scope=col>tip_amount</th><th scope=col>total_amount</th><th scope=col>payment_type</th><th scope=col>trip_type</th><th scope=col>trip_duration</th><th scope=col>tip_pct</th><th scope=col>month</th></tr>\n",
       "\t<tr><th></th><th scope=col>&lt;int&gt;</th><th scope=col>&lt;chr&gt;</th><th scope=col>&lt;chr&gt;</th><th scope=col>&lt;int&gt;</th><th scope=col>&lt;dbl&gt;</th><th scope=col>&lt;dbl&gt;</th><th scope=col>&lt;dbl&gt;</th><th scope=col>&lt;dbl&gt;</th><th scope=col>&lt;int&gt;</th><th scope=col>&lt;int&gt;</th><th scope=col>&lt;dbl&gt;</th><th scope=col>&lt;dbl&gt;</th><th scope=col>&lt;chr&gt;</th></tr>\n",
       "</thead>\n",
       "<tbody>\n",
       "\t<tr><th scope=row>1</th><td>1</td><td>2019-09-01 00:10:53</td><td>2019-09-01 00:23:46</td><td>5</td><td>2.00</td><td>10.5</td><td>2.36</td><td>14.16</td><td>1</td><td>1</td><td>0.2147222</td><td>0.1666667</td><td>Septiembre</td></tr>\n",
       "\t<tr><th scope=row>2</th><td>2</td><td>2019-09-01 00:27:06</td><td>2019-09-01 00:33:22</td><td>1</td><td>1.73</td><td> 7.5</td><td>1.50</td><td>10.30</td><td>1</td><td>1</td><td>0.1044444</td><td>0.1456311</td><td>Septiembre</td></tr>\n",
       "\t<tr><th scope=row>3</th><td>3</td><td>2019-09-01 00:43:23</td><td>2019-09-01 00:59:54</td><td>1</td><td>3.42</td><td>14.0</td><td>3.06</td><td>18.36</td><td>1</td><td>1</td><td>0.2752778</td><td>0.1666667</td><td>Septiembre</td></tr>\n",
       "\t<tr><th scope=row>4</th><td>4</td><td>2019-09-01 00:28:55</td><td>2019-09-01 00:52:09</td><td>1</td><td>4.34</td><td>18.0</td><td>3.86</td><td>23.16</td><td>1</td><td>1</td><td>0.3872222</td><td>0.1666667</td><td>Septiembre</td></tr>\n",
       "\t<tr><th scope=row>5</th><td>5</td><td>2019-09-01 00:13:37</td><td>2019-09-01 00:26:46</td><td>1</td><td>3.59</td><td>13.0</td><td>5.12</td><td>22.17</td><td>1</td><td>1</td><td>0.2191667</td><td>0.2309427</td><td>Septiembre</td></tr>\n",
       "\t<tr><th scope=row>6</th><td>6</td><td>2019-09-01 00:35:43</td><td>2019-09-01 00:47:21</td><td>1</td><td>2.10</td><td> 9.5</td><td>1.70</td><td>13.00</td><td>1</td><td>1</td><td>0.1938889</td><td>0.1307692</td><td>Septiembre</td></tr>\n",
       "</tbody>\n",
       "</table>\n"
      ],
      "text/latex": [
       "A data.frame: 6 × 13\n",
       "\\begin{tabular}{r|lllllllllllll}\n",
       "  & X & lpep\\_pickup\\_datetime & lpep\\_dropoff\\_datetime & passenger\\_count & trip\\_distance & fare\\_amount & tip\\_amount & total\\_amount & payment\\_type & trip\\_type & trip\\_duration & tip\\_pct & month\\\\\n",
       "  & <int> & <chr> & <chr> & <int> & <dbl> & <dbl> & <dbl> & <dbl> & <int> & <int> & <dbl> & <dbl> & <chr>\\\\\n",
       "\\hline\n",
       "\t1 & 1 & 2019-09-01 00:10:53 & 2019-09-01 00:23:46 & 5 & 2.00 & 10.5 & 2.36 & 14.16 & 1 & 1 & 0.2147222 & 0.1666667 & Septiembre\\\\\n",
       "\t2 & 2 & 2019-09-01 00:27:06 & 2019-09-01 00:33:22 & 1 & 1.73 &  7.5 & 1.50 & 10.30 & 1 & 1 & 0.1044444 & 0.1456311 & Septiembre\\\\\n",
       "\t3 & 3 & 2019-09-01 00:43:23 & 2019-09-01 00:59:54 & 1 & 3.42 & 14.0 & 3.06 & 18.36 & 1 & 1 & 0.2752778 & 0.1666667 & Septiembre\\\\\n",
       "\t4 & 4 & 2019-09-01 00:28:55 & 2019-09-01 00:52:09 & 1 & 4.34 & 18.0 & 3.86 & 23.16 & 1 & 1 & 0.3872222 & 0.1666667 & Septiembre\\\\\n",
       "\t5 & 5 & 2019-09-01 00:13:37 & 2019-09-01 00:26:46 & 1 & 3.59 & 13.0 & 5.12 & 22.17 & 1 & 1 & 0.2191667 & 0.2309427 & Septiembre\\\\\n",
       "\t6 & 6 & 2019-09-01 00:35:43 & 2019-09-01 00:47:21 & 1 & 2.10 &  9.5 & 1.70 & 13.00 & 1 & 1 & 0.1938889 & 0.1307692 & Septiembre\\\\\n",
       "\\end{tabular}\n"
      ],
      "text/markdown": [
       "\n",
       "A data.frame: 6 × 13\n",
       "\n",
       "| <!--/--> | X &lt;int&gt; | lpep_pickup_datetime &lt;chr&gt; | lpep_dropoff_datetime &lt;chr&gt; | passenger_count &lt;int&gt; | trip_distance &lt;dbl&gt; | fare_amount &lt;dbl&gt; | tip_amount &lt;dbl&gt; | total_amount &lt;dbl&gt; | payment_type &lt;int&gt; | trip_type &lt;int&gt; | trip_duration &lt;dbl&gt; | tip_pct &lt;dbl&gt; | month &lt;chr&gt; |\n",
       "|---|---|---|---|---|---|---|---|---|---|---|---|---|---|\n",
       "| 1 | 1 | 2019-09-01 00:10:53 | 2019-09-01 00:23:46 | 5 | 2.00 | 10.5 | 2.36 | 14.16 | 1 | 1 | 0.2147222 | 0.1666667 | Septiembre |\n",
       "| 2 | 2 | 2019-09-01 00:27:06 | 2019-09-01 00:33:22 | 1 | 1.73 |  7.5 | 1.50 | 10.30 | 1 | 1 | 0.1044444 | 0.1456311 | Septiembre |\n",
       "| 3 | 3 | 2019-09-01 00:43:23 | 2019-09-01 00:59:54 | 1 | 3.42 | 14.0 | 3.06 | 18.36 | 1 | 1 | 0.2752778 | 0.1666667 | Septiembre |\n",
       "| 4 | 4 | 2019-09-01 00:28:55 | 2019-09-01 00:52:09 | 1 | 4.34 | 18.0 | 3.86 | 23.16 | 1 | 1 | 0.3872222 | 0.1666667 | Septiembre |\n",
       "| 5 | 5 | 2019-09-01 00:13:37 | 2019-09-01 00:26:46 | 1 | 3.59 | 13.0 | 5.12 | 22.17 | 1 | 1 | 0.2191667 | 0.2309427 | Septiembre |\n",
       "| 6 | 6 | 2019-09-01 00:35:43 | 2019-09-01 00:47:21 | 1 | 2.10 |  9.5 | 1.70 | 13.00 | 1 | 1 | 0.1938889 | 0.1307692 | Septiembre |\n",
       "\n"
      ],
      "text/plain": [
       "  X lpep_pickup_datetime lpep_dropoff_datetime passenger_count trip_distance\n",
       "1 1 2019-09-01 00:10:53  2019-09-01 00:23:46   5               2.00         \n",
       "2 2 2019-09-01 00:27:06  2019-09-01 00:33:22   1               1.73         \n",
       "3 3 2019-09-01 00:43:23  2019-09-01 00:59:54   1               3.42         \n",
       "4 4 2019-09-01 00:28:55  2019-09-01 00:52:09   1               4.34         \n",
       "5 5 2019-09-01 00:13:37  2019-09-01 00:26:46   1               3.59         \n",
       "6 6 2019-09-01 00:35:43  2019-09-01 00:47:21   1               2.10         \n",
       "  fare_amount tip_amount total_amount payment_type trip_type trip_duration\n",
       "1 10.5        2.36       14.16        1            1         0.2147222    \n",
       "2  7.5        1.50       10.30        1            1         0.1044444    \n",
       "3 14.0        3.06       18.36        1            1         0.2752778    \n",
       "4 18.0        3.86       23.16        1            1         0.3872222    \n",
       "5 13.0        5.12       22.17        1            1         0.2191667    \n",
       "6  9.5        1.70       13.00        1            1         0.1938889    \n",
       "  tip_pct   month     \n",
       "1 0.1666667 Septiembre\n",
       "2 0.1456311 Septiembre\n",
       "3 0.1666667 Septiembre\n",
       "4 0.1666667 Septiembre\n",
       "5 0.2309427 Septiembre\n",
       "6 0.1307692 Septiembre"
      ]
     },
     "metadata": {},
     "output_type": "display_data"
    }
   ],
   "source": [
    "#asegurémonos de que todo bien\n",
    "\n",
    "prueba <- read.csv('cuarto_cuatrimestre.csv')\n",
    "head(prueba)"
   ]
  },
  {
   "cell_type": "markdown",
   "metadata": {},
   "source": [
    "### ¡Funciona! Procedamos a hacer el análisis estadístico que nos interesa. "
   ]
  }
 ],
 "metadata": {
  "kernelspec": {
   "display_name": "R",
   "language": "R",
   "name": "ir"
  },
  "language_info": {
   "codemirror_mode": "r",
   "file_extension": ".r",
   "mimetype": "text/x-r-source",
   "name": "R",
   "pygments_lexer": "r",
   "version": "4.0.0"
  }
 },
 "nbformat": 4,
 "nbformat_minor": 4
}
