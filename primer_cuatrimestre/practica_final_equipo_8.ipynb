{
 "cells": [
  {
   "cell_type": "markdown",
   "metadata": {},
   "source": [
    "# **Práctica Final por Equipo, Propedéutico de Estadística Verano 2020**\n",
    "____________________________________________________________________________________________________________"
   ]
  },
  {
   "cell_type": "markdown",
   "metadata": {},
   "source": [
    "### **Análisis descriptivo de los Taxis Verdes de la Ciudad de Nueva York durante 2019 en R, utilizando la paquetería de tidyverse, R base, FinCal y PropCIs y las librerías de readr, ggplot2, modeest, stats**"
   ]
  },
  {
   "cell_type": "markdown",
   "metadata": {},
   "source": [
    "### **Profr.** Erick Palacios Moreno\n",
    "### **Equipo 8**\n",
    "### **Integrantes**\n",
    "#### Carlos Garza Bracamontes (carlosgarza-3)\n",
    "#### Enrique Ortiz Casillas (EnriqueOrtiz27)\n",
    "#### Octavio Fuentes Ortiz (ofuentesitam)\n",
    "#### **Fecha de Entrega:** 19/07/2020\n",
    "____________________________________________________________________________________________________________"
   ]
  },
  {
   "cell_type": "markdown",
   "metadata": {},
   "source": [
    "**La base de datos de los Taxis Verdes, la obtuvimos de la página del Gobierno de la Ciudad de Nueva York.**"
   ]
  },
  {
   "cell_type": "markdown",
   "metadata": {},
   "source": [
    "**La base de datos se puede consultar en:**  *[Green Taxi Trip Records NYC](https://www1.nyc.gov/site/tlc/about/tlc-trip-record-data.page)* **.**\n",
    "\n",
    "**El diccionario de datos se puede consultar en:**  *[Green Trips Data Dictionary](https://www1.nyc.gov/assets/tlc/downloads/pdf/data_dictionary_trip_records_green.pdf)* **.**\n",
    "____________________________________________________________________________________________________________"
   ]
  },
  {
   "cell_type": "markdown",
   "metadata": {},
   "source": [
    "**Paqueterías utilizadas:**"
   ]
  },
  {
   "cell_type": "markdown",
   "metadata": {},
   "source": [
    "- *[tidyverse](https://www.tidyverse.org/)*."
   ]
  },
  {
   "cell_type": "code",
   "execution_count": 1,
   "metadata": {
    "collapsed": true,
    "jupyter": {
     "outputs_hidden": true
    }
   },
   "outputs": [
    {
     "name": "stderr",
     "output_type": "stream",
     "text": [
      "Warning message:\n",
      "\"package 'tidyverse' was built under R version 3.6.3\"\n",
      "-- \u001b[1mAttaching packages\u001b[22m --------------------------------------- tidyverse 1.3.0 --\n",
      "\n",
      "\u001b[32mv\u001b[39m \u001b[34mggplot2\u001b[39m 3.3.2     \u001b[32mv\u001b[39m \u001b[34mpurrr  \u001b[39m 0.3.4\n",
      "\u001b[32mv\u001b[39m \u001b[34mtibble \u001b[39m 3.0.2     \u001b[32mv\u001b[39m \u001b[34mdplyr  \u001b[39m 1.0.0\n",
      "\u001b[32mv\u001b[39m \u001b[34mtidyr  \u001b[39m 1.1.0     \u001b[32mv\u001b[39m \u001b[34mstringr\u001b[39m 1.4.0\n",
      "\u001b[32mv\u001b[39m \u001b[34mreadr  \u001b[39m 1.3.1     \u001b[32mv\u001b[39m \u001b[34mforcats\u001b[39m 0.5.0\n",
      "\n",
      "Warning message:\n",
      "\"package 'ggplot2' was built under R version 3.6.3\"\n",
      "Warning message:\n",
      "\"package 'tibble' was built under R version 3.6.3\"\n",
      "Warning message:\n",
      "\"package 'tidyr' was built under R version 3.6.3\"\n",
      "Warning message:\n",
      "\"package 'readr' was built under R version 3.6.3\"\n",
      "Warning message:\n",
      "\"package 'purrr' was built under R version 3.6.3\"\n",
      "Warning message:\n",
      "\"package 'dplyr' was built under R version 3.6.3\"\n",
      "Warning message:\n",
      "\"package 'stringr' was built under R version 3.6.3\"\n",
      "Warning message:\n",
      "\"package 'forcats' was built under R version 3.6.3\"\n",
      "-- \u001b[1mConflicts\u001b[22m ------------------------------------------ tidyverse_conflicts() --\n",
      "\u001b[31mx\u001b[39m \u001b[34mdplyr\u001b[39m::\u001b[32mfilter()\u001b[39m masks \u001b[34mstats\u001b[39m::filter()\n",
      "\u001b[31mx\u001b[39m \u001b[34mdplyr\u001b[39m::\u001b[32mlag()\u001b[39m    masks \u001b[34mstats\u001b[39m::lag()\n",
      "\n"
     ]
    }
   ],
   "source": [
    "#install.packages(\"tidyverse\")\n",
    "library(tidyverse) #ggplot2,tibble,tidyr,readr,purrr,dplyr,stringr,forcats"
   ]
  },
  {
   "cell_type": "markdown",
   "metadata": {},
   "source": [
    "- *[modeest](https://www.rdocumentation.org/packages/modeest/versions/2.4.0#:~:text=modeest%3A%20Estimation%20of%20the%20mode,modes%20of%20usual%20probability%20distributions.)*."
   ]
  },
  {
   "cell_type": "code",
   "execution_count": 2,
   "metadata": {
    "collapsed": true,
    "jupyter": {
     "outputs_hidden": true
    }
   },
   "outputs": [
    {
     "name": "stderr",
     "output_type": "stream",
     "text": [
      "Warning message:\n",
      "\"package 'modeest' was built under R version 3.6.3\"\n",
      "Registered S3 method overwritten by 'rmutil':\n",
      "  method         from\n",
      "  print.response httr\n",
      "\n"
     ]
    }
   ],
   "source": [
    "#install.packages(\"modeest\")\n",
    "library(modeest)"
   ]
  },
  {
   "cell_type": "markdown",
   "metadata": {},
   "source": [
    "- *[FinCal](https://cran.r-project.org/web/packages/FinCal/FinCal.pdf)*."
   ]
  },
  {
   "cell_type": "code",
   "execution_count": 149,
   "metadata": {},
   "outputs": [
    {
     "name": "stderr",
     "output_type": "stream",
     "text": [
      "Warning message:\n",
      "\"package 'FinCal' was built under R version 3.6.3\"\n"
     ]
    }
   ],
   "source": [
    "#install.packages(\"FinCal\")\n",
    "library(FinCal)"
   ]
  },
  {
   "cell_type": "markdown",
   "metadata": {},
   "source": [
    "- *[R base](https://rstudio.com/wp-content/uploads/2016/05/base-r.pdf)*."
   ]
  },
  {
   "cell_type": "markdown",
   "metadata": {},
   "source": [
    "- *[PropCIs](https://cran.r-project.org/web/packages/PropCIs/PropCIs.pdf)*."
   ]
  },
  {
   "cell_type": "code",
   "execution_count": 181,
   "metadata": {},
   "outputs": [],
   "source": [
    "#install.packages(\"PropCIs\")\n",
    "library(PropCIs)"
   ]
  },
  {
   "cell_type": "markdown",
   "metadata": {},
   "source": [
    "**Librerías utilizadas:**"
   ]
  },
  {
   "cell_type": "markdown",
   "metadata": {},
   "source": [
    "- *[readr](https://readr.tidyverse.org/)*."
   ]
  },
  {
   "cell_type": "code",
   "execution_count": 3,
   "metadata": {},
   "outputs": [],
   "source": [
    "library(readr)"
   ]
  },
  {
   "cell_type": "markdown",
   "metadata": {},
   "source": [
    "- *[ggplot2](https://ggplot2.tidyverse.org/)*."
   ]
  },
  {
   "cell_type": "code",
   "execution_count": 4,
   "metadata": {},
   "outputs": [],
   "source": [
    "library(ggplot2)"
   ]
  },
  {
   "cell_type": "markdown",
   "metadata": {},
   "source": [
    "- *[stats](https://stat.ethz.ch/R-manual/R-devel/library/stats/html/stats-package.html)*."
   ]
  },
  {
   "cell_type": "code",
   "execution_count": 159,
   "metadata": {},
   "outputs": [],
   "source": [
    "library(stats)"
   ]
  },
  {
   "cell_type": "markdown",
   "metadata": {},
   "source": [
    "____________________________________________________________________________________________________________"
   ]
  },
  {
   "cell_type": "markdown",
   "metadata": {},
   "source": [
    "Establecemos el directorio donde tenemos nuestras BBDD:"
   ]
  },
  {
   "cell_type": "code",
   "execution_count": 82,
   "metadata": {},
   "outputs": [],
   "source": [
    "setwd(\"C:/Users/ofuentes/Desktop/green_taxi_records\")"
   ]
  },
  {
   "cell_type": "markdown",
   "metadata": {},
   "source": [
    "____________________________________________________________________________________________________________"
   ]
  },
  {
   "cell_type": "markdown",
   "metadata": {},
   "source": [
    "#### ___LIMPIEZA DE DATOS___ "
   ]
  },
  {
   "cell_type": "markdown",
   "metadata": {},
   "source": [
    "Antes de empezar con el análisis descriptivo de nuestros datos es necesario saber con qué datos estamos trabajando y sobretodo, si éstos están limpios. El procedimiento y explicación de nuestra limpieza de datos, se encuentra en el repositorio de nuestra Práctica Final: [data_exploration.ipynb](https://github.com/prope-2020-gh-classroom/practica-final-por-equipos-verano-2020-itam-carlosgarza-3/blob/master/tercer_cuatrimestre/data_exploration.ipynb)."
   ]
  },
  {
   "cell_type": "markdown",
   "metadata": {},
   "source": [
    "Nuestras funciones de limpieza y adición de columnas, se resumen en la función **\"data_pipeline\"**:"
   ]
  },
  {
   "cell_type": "code",
   "execution_count": 84,
   "metadata": {},
   "outputs": [],
   "source": [
    "clean_dataframe <- function(data_frame) {\n",
    "    #function to remove unnecessary cols in r dataframe and na's\n",
    "    data_frame$VendorID <- NULL\n",
    "    data_frame$store_and_fwd_flag <- NULL\n",
    "    data_frame$PULocationID <- NULL\n",
    "    data_frame$DOLocationID <- NULL\n",
    "    data_frame$RatecodeID <- NULL\n",
    "    data_frame$ehail_fee <- NULL\n",
    "    data_frame$improvement_surcharge <- NULL \n",
    "    data_frame$tolls_amount <- NULL \n",
    "    data_frame$mta_tax <- NULL \n",
    "    data_frame$extra <- NULL \n",
    "    data_frame$congestion_surcharge <- NULL\n",
    "    return(data_frame[complete.cases(data_frame),])\n",
    "}\n",
    "\n",
    "\n",
    "add_columns <- function(data_frame, month) {\n",
    "    #function to add 2 columns to data frame to improve analysis\n",
    "    #first we add trip duration in hours\n",
    "    data_frame$lpep_dropoff_datetime <- as.POSIXct(data_frame$lpep_dropoff_datetime,\n",
    "                                      format='%Y-%m-%d %H:%M:%S')\n",
    "    data_frame$lpep_pickup_datetime <- as.POSIXct(data_frame$lpep_pickup_datetime,\n",
    "                                      format='%Y-%m-%d %H:%M:%S')\n",
    "    data_frame$trip_duration <- as.numeric(difftime(data_frame[,2], data_frame[,1], units=\"hours\"))\n",
    "    \n",
    "    #then we add tip percentage\n",
    "    data_frame$tip_pct <- data_frame$tip_amount / data_frame$total_amount\n",
    "    data_frame$month <- month\n",
    "    data_frame <- data_frame[data_frame$trip_duration<5,]\n",
    "    data_frame <- data_frame[data_frame$total_amount > 0,]\n",
    "    data_frame <- data_frame[data_frame$fare_amount > 0,]\n",
    "    data_frame <- data_frame[data_frame$tip_amount > 0,]\n",
    "    data_frame <- data_frame[data_frame$trip_duration >0,]\n",
    "    data_frame <- data_frame[data_frame$trip_distance >0,]\n",
    "    return(data_frame)\n",
    "}\n",
    "\n",
    "\n",
    "data_pipeline <- function(csv, month){\n",
    "    #function to include all cleaning and transformation functions \n",
    "    data <- read.csv(csv)\n",
    "    data <- clean_dataframe(data)\n",
    "    data <- add_columns(data, month)\n",
    "    return(data)\n",
    "}"
   ]
  },
  {
   "cell_type": "markdown",
   "metadata": {},
   "source": [
    "Aplicamos **data_pipeline** para el **primer cuatrimestre:**"
   ]
  },
  {
   "cell_type": "code",
   "execution_count": 85,
   "metadata": {},
   "outputs": [],
   "source": [
    "enero_data <- data_pipeline('green_tripdata_2019-01.csv', 'Enero')\n",
    "febrero_data <- data_pipeline('green_tripdata_2019-02.csv', 'Febrero')\n",
    "marzo_data <- data_pipeline('green_tripdata_2019-03.csv', 'Marzo')\n",
    "abril_data <- data_pipeline('green_tripdata_2019-04.csv', 'Abril')"
   ]
  },
  {
   "cell_type": "markdown",
   "metadata": {},
   "source": [
    "Juntamos nuestro **primer cuatrimestre** y lo exportamos a un archivo .csv (para posteriormente leerlo):"
   ]
  },
  {
   "cell_type": "code",
   "execution_count": 86,
   "metadata": {
    "collapsed": true,
    "jupyter": {
     "outputs_hidden": true
    }
   },
   "outputs": [
    {
     "name": "stderr",
     "output_type": "stream",
     "text": [
      "Warning message:\n",
      "\"Missing column names filled in: 'X1' [1]\"\n",
      "Parsed with column specification:\n",
      "cols(\n",
      "  X1 = \u001b[31mcol_character()\u001b[39m,\n",
      "  lpep_pickup_datetime = \u001b[34mcol_datetime(format = \"\")\u001b[39m,\n",
      "  lpep_dropoff_datetime = \u001b[34mcol_datetime(format = \"\")\u001b[39m,\n",
      "  passenger_count = \u001b[32mcol_double()\u001b[39m,\n",
      "  trip_distance = \u001b[32mcol_double()\u001b[39m,\n",
      "  fare_amount = \u001b[32mcol_double()\u001b[39m,\n",
      "  tip_amount = \u001b[32mcol_double()\u001b[39m,\n",
      "  total_amount = \u001b[32mcol_double()\u001b[39m,\n",
      "  payment_type = \u001b[32mcol_double()\u001b[39m,\n",
      "  trip_type = \u001b[32mcol_double()\u001b[39m,\n",
      "  trip_duration = \u001b[32mcol_double()\u001b[39m,\n",
      "  tip_pct = \u001b[32mcol_double()\u001b[39m,\n",
      "  month = \u001b[31mcol_character()\u001b[39m\n",
      ")\n",
      "\n"
     ]
    }
   ],
   "source": [
    "cuatrimestre1_data <- bind_rows(enero_data, febrero_data, marzo_data, abril_data)\n",
    "write.csv(x = cuatrimestre1_data, file = \"primer_cuatri.csv\")\n",
    "primer_cuatrimestre <- read_csv('primer_cuatri.csv')\n",
    "# Colocamos nombre a las columnas:\n",
    "colnames(primer_cuatrimestre) <- c(\"X1\",\"Pick_up\",\"Dropp_off\",\"Passengers\",\"Trip_distance\",\"Fare_amount\",\n",
    "                                   \"Tip_amount\", \"Total_amount\",\"Payment_type\", \"Trip_type\", \"Trip_duration\",\n",
    "                                   \"Tip_pct\", \"Month\")"
   ]
  },
  {
   "cell_type": "markdown",
   "metadata": {},
   "source": [
    "Vemos la estructura de la base de datos ya limpia:"
   ]
  },
  {
   "cell_type": "code",
   "execution_count": 87,
   "metadata": {},
   "outputs": [
    {
     "name": "stdout",
     "output_type": "stream",
     "text": [
      "tibble [802,074 x 13] (S3: spec_tbl_df/tbl_df/tbl/data.frame)\n",
      " $ X1           : chr [1:802074] \"...1\" \"...2\" \"...3\" \"...4\" ...\n",
      " $ Pick_up      : POSIXct[1:802074], format: \"2019-01-01 00:46:20\" \"2019-01-01 00:37:00\" ...\n",
      " $ Dropp_off    : POSIXct[1:802074], format: \"2019-01-01 01:04:54\" \"2019-01-01 00:56:42\" ...\n",
      " $ Passengers   : num [1:802074] 2 1 2 1 1 1 1 1 1 5 ...\n",
      " $ Trip_distance: num [1:802074] 2.68 6.84 1.15 1.2 5.5 5.01 0.43 2.72 2.15 2.18 ...\n",
      " $ Fare_amount  : num [1:802074] 13.5 22 6.5 7.5 19.5 20 4 10.5 10.5 9.5 ...\n",
      " $ Tip_amount   : num [1:802074] 2.96 8 1.56 5.2 4.15 4.26 1.06 2.36 2.95 3.24 ...\n",
      " $ Total_amount : num [1:802074] 19.71 37.06 9.36 14 24.95 ...\n",
      " $ Payment_type : num [1:802074] 1 1 1 1 1 1 1 1 1 1 ...\n",
      " $ Trip_type    : num [1:802074] 1 1 1 1 1 1 1 1 1 1 ...\n",
      " $ Trip_duration: num [1:802074] 0.309 0.328 0.12 0.147 0.351 ...\n",
      " $ Tip_pct      : num [1:802074] 0.15 0.216 0.167 0.371 0.166 ...\n",
      " $ Month        : chr [1:802074] \"Enero\" \"Enero\" \"Enero\" \"Enero\" ...\n",
      " - attr(*, \"spec\")=\n",
      "  .. cols(\n",
      "  ..   X1 = \u001b[31mcol_character()\u001b[39m,\n",
      "  ..   lpep_pickup_datetime = \u001b[34mcol_datetime(format = \"\")\u001b[39m,\n",
      "  ..   lpep_dropoff_datetime = \u001b[34mcol_datetime(format = \"\")\u001b[39m,\n",
      "  ..   passenger_count = \u001b[32mcol_double()\u001b[39m,\n",
      "  ..   trip_distance = \u001b[32mcol_double()\u001b[39m,\n",
      "  ..   fare_amount = \u001b[32mcol_double()\u001b[39m,\n",
      "  ..   tip_amount = \u001b[32mcol_double()\u001b[39m,\n",
      "  ..   total_amount = \u001b[32mcol_double()\u001b[39m,\n",
      "  ..   payment_type = \u001b[32mcol_double()\u001b[39m,\n",
      "  ..   trip_type = \u001b[32mcol_double()\u001b[39m,\n",
      "  ..   trip_duration = \u001b[32mcol_double()\u001b[39m,\n",
      "  ..   tip_pct = \u001b[32mcol_double()\u001b[39m,\n",
      "  ..   month = \u001b[31mcol_character()\u001b[39m\n",
      "  .. )\n"
     ]
    }
   ],
   "source": [
    "str(primer_cuatrimestre)"
   ]
  },
  {
   "cell_type": "markdown",
   "metadata": {},
   "source": [
    "Vemos un resumen de cada una de las columnas de la base de datos antes de empezar:"
   ]
  },
  {
   "cell_type": "code",
   "execution_count": 110,
   "metadata": {},
   "outputs": [
    {
     "data": {
      "text/plain": [
       "      X1               Pick_up                      Dropp_off                  \n",
       " Length:802074      Min.   :2009-01-01 00:12:45   Min.   :2009-01-01 00:22:56  \n",
       " Class :character   1st Qu.:2019-01-30 14:47:39   1st Qu.:2019-01-30 15:01:48  \n",
       " Mode  :character   Median :2019-02-28 14:12:57   Median :2019-02-28 14:26:24  \n",
       "                    Mean   :2019-03-01 07:28:14   Mean   :2019-03-01 07:41:09  \n",
       "                    3rd Qu.:2019-03-31 08:32:16   3rd Qu.:2019-03-31 08:42:11  \n",
       "                    Max.   :2019-06-15 04:36:12   Max.   :2019-06-15 04:44:15  \n",
       "                    NA's   :703                   NA's   :703                  \n",
       "   Passengers    Trip_distance      Fare_amount       Tip_amount     \n",
       " Min.   :0.000   Min.   :  0.010   Min.   :  0.01   Min.   :  0.010  \n",
       " 1st Qu.:1.000   1st Qu.:  1.100   1st Qu.:  6.50   1st Qu.:  1.460  \n",
       " Median :1.000   Median :  1.860   Median :  9.50   Median :  2.060  \n",
       " Mean   :1.326   Mean   :  2.772   Mean   : 11.93   Mean   :  2.652  \n",
       " 3rd Qu.:1.000   3rd Qu.:  3.400   3rd Qu.: 14.50   3rd Qu.:  3.160  \n",
       " Max.   :9.000   Max.   :666.600   Max.   :300.00   Max.   :440.000  \n",
       " NA's   :703     NA's   :703       NA's   :703      NA's   :703      \n",
       "  Total_amount     Payment_type   Trip_type     Trip_duration   \n",
       " Min.   :  0.09   Min.   :1     Min.   :1.000   Min.   :0.0003  \n",
       " 1st Qu.:  9.36   1st Qu.:1     1st Qu.:1.000   1st Qu.:0.1069  \n",
       " Median : 13.00   Median :1     Median :1.000   Median :0.1739  \n",
       " Mean   : 16.46   Mean   :1     Mean   :1.006   Mean   :0.2152  \n",
       " 3rd Qu.: 19.85   3rd Qu.:1     3rd Qu.:1.000   3rd Qu.:0.2758  \n",
       " Max.   :479.05   Max.   :4     Max.   :2.000   Max.   :4.9881  \n",
       " NA's   :703      NA's   :703   NA's   :703     NA's   :703     \n",
       "    Tip_pct          Month          \n",
       " Min.   :0.0001   Length:802074     \n",
       " 1st Qu.:0.1546   Class :character  \n",
       " Median :0.1667   Mode  :character  \n",
       " Mean   :0.1630                     \n",
       " 3rd Qu.:0.1667                     \n",
       " Max.   :0.9901                     \n",
       " NA's   :703                        "
      ]
     },
     "metadata": {},
     "output_type": "display_data"
    }
   ],
   "source": [
    "summary(primer_cuatrimestre)"
   ]
  },
  {
   "cell_type": "markdown",
   "metadata": {},
   "source": [
    "____________________________________________________________________________________________________________"
   ]
  },
  {
   "cell_type": "markdown",
   "metadata": {},
   "source": [
    "#### ___PRIMER CUATRIMESTRE 2019___ "
   ]
  },
  {
   "cell_type": "markdown",
   "metadata": {},
   "source": [
    "- Nuestros datos se ven así:"
   ]
  },
  {
   "cell_type": "code",
   "execution_count": 10,
   "metadata": {},
   "outputs": [
    {
     "data": {
      "text/html": [
       "<table>\n",
       "<caption>A tibble: 1 × 13</caption>\n",
       "<thead>\n",
       "\t<tr><th scope=col>X1</th><th scope=col>Pick_up</th><th scope=col>Dropp_off</th><th scope=col>Passengers</th><th scope=col>Trip_distance</th><th scope=col>Fare_amount</th><th scope=col>Tip_amount</th><th scope=col>Total_amount</th><th scope=col>Payment_type</th><th scope=col>Trip_type</th><th scope=col>Trip_duration</th><th scope=col>Tip_pct</th><th scope=col>Month</th></tr>\n",
       "\t<tr><th scope=col>&lt;chr&gt;</th><th scope=col>&lt;dttm&gt;</th><th scope=col>&lt;dttm&gt;</th><th scope=col>&lt;dbl&gt;</th><th scope=col>&lt;dbl&gt;</th><th scope=col>&lt;dbl&gt;</th><th scope=col>&lt;dbl&gt;</th><th scope=col>&lt;dbl&gt;</th><th scope=col>&lt;dbl&gt;</th><th scope=col>&lt;dbl&gt;</th><th scope=col>&lt;dbl&gt;</th><th scope=col>&lt;dbl&gt;</th><th scope=col>&lt;chr&gt;</th></tr>\n",
       "</thead>\n",
       "<tbody>\n",
       "\t<tr><td>...1</td><td>2019-01-01 00:46:20</td><td>2019-01-01 01:04:54</td><td>2</td><td>2.68</td><td>13.5</td><td>2.96</td><td>19.71</td><td>1</td><td>1</td><td>0.3094444</td><td>0.1501776</td><td>Enero</td></tr>\n",
       "</tbody>\n",
       "</table>\n"
      ],
      "text/latex": [
       "A tibble: 1 × 13\n",
       "\\begin{tabular}{lllllllllllll}\n",
       " X1 & Pick\\_up & Dropp\\_off & Passengers & Trip\\_distance & Fare\\_amount & Tip\\_amount & Total\\_amount & Payment\\_type & Trip\\_type & Trip\\_duration & Tip\\_pct & Month\\\\\n",
       " <chr> & <dttm> & <dttm> & <dbl> & <dbl> & <dbl> & <dbl> & <dbl> & <dbl> & <dbl> & <dbl> & <dbl> & <chr>\\\\\n",
       "\\hline\n",
       "\t ...1 & 2019-01-01 00:46:20 & 2019-01-01 01:04:54 & 2 & 2.68 & 13.5 & 2.96 & 19.71 & 1 & 1 & 0.3094444 & 0.1501776 & Enero\\\\\n",
       "\\end{tabular}\n"
      ],
      "text/markdown": [
       "\n",
       "A tibble: 1 × 13\n",
       "\n",
       "| X1 &lt;chr&gt; | Pick_up &lt;dttm&gt; | Dropp_off &lt;dttm&gt; | Passengers &lt;dbl&gt; | Trip_distance &lt;dbl&gt; | Fare_amount &lt;dbl&gt; | Tip_amount &lt;dbl&gt; | Total_amount &lt;dbl&gt; | Payment_type &lt;dbl&gt; | Trip_type &lt;dbl&gt; | Trip_duration &lt;dbl&gt; | Tip_pct &lt;dbl&gt; | Month &lt;chr&gt; |\n",
       "|---|---|---|---|---|---|---|---|---|---|---|---|---|\n",
       "| ...1 | 2019-01-01 00:46:20 | 2019-01-01 01:04:54 | 2 | 2.68 | 13.5 | 2.96 | 19.71 | 1 | 1 | 0.3094444 | 0.1501776 | Enero |\n",
       "\n"
      ],
      "text/plain": [
       "  X1   Pick_up             Dropp_off           Passengers Trip_distance\n",
       "1 ...1 2019-01-01 00:46:20 2019-01-01 01:04:54 2          2.68         \n",
       "  Fare_amount Tip_amount Total_amount Payment_type Trip_type Trip_duration\n",
       "1 13.5        2.96       19.71        1            1         0.3094444    \n",
       "  Tip_pct   Month\n",
       "1 0.1501776 Enero"
      ]
     },
     "metadata": {},
     "output_type": "display_data"
    },
    {
     "data": {
      "text/html": [
       "<table>\n",
       "<caption>A tibble: 1 × 13</caption>\n",
       "<thead>\n",
       "\t<tr><th scope=col>X1</th><th scope=col>Pick_up</th><th scope=col>Dropp_off</th><th scope=col>Passengers</th><th scope=col>Trip_distance</th><th scope=col>Fare_amount</th><th scope=col>Tip_amount</th><th scope=col>Total_amount</th><th scope=col>Payment_type</th><th scope=col>Trip_type</th><th scope=col>Trip_duration</th><th scope=col>Tip_pct</th><th scope=col>Month</th></tr>\n",
       "\t<tr><th scope=col>&lt;chr&gt;</th><th scope=col>&lt;dttm&gt;</th><th scope=col>&lt;dttm&gt;</th><th scope=col>&lt;dbl&gt;</th><th scope=col>&lt;dbl&gt;</th><th scope=col>&lt;dbl&gt;</th><th scope=col>&lt;dbl&gt;</th><th scope=col>&lt;dbl&gt;</th><th scope=col>&lt;dbl&gt;</th><th scope=col>&lt;dbl&gt;</th><th scope=col>&lt;dbl&gt;</th><th scope=col>&lt;dbl&gt;</th><th scope=col>&lt;chr&gt;</th></tr>\n",
       "</thead>\n",
       "<tbody>\n",
       "\t<tr><td>514390</td><td>2019-04-30 23:40:13</td><td>2019-04-30 23:46:50</td><td>1</td><td>1.02</td><td>6.5</td><td>1.56</td><td>9.36</td><td>1</td><td>1</td><td>0.1102778</td><td>0.1666667</td><td>Abril</td></tr>\n",
       "</tbody>\n",
       "</table>\n"
      ],
      "text/latex": [
       "A tibble: 1 × 13\n",
       "\\begin{tabular}{lllllllllllll}\n",
       " X1 & Pick\\_up & Dropp\\_off & Passengers & Trip\\_distance & Fare\\_amount & Tip\\_amount & Total\\_amount & Payment\\_type & Trip\\_type & Trip\\_duration & Tip\\_pct & Month\\\\\n",
       " <chr> & <dttm> & <dttm> & <dbl> & <dbl> & <dbl> & <dbl> & <dbl> & <dbl> & <dbl> & <dbl> & <dbl> & <chr>\\\\\n",
       "\\hline\n",
       "\t 514390 & 2019-04-30 23:40:13 & 2019-04-30 23:46:50 & 1 & 1.02 & 6.5 & 1.56 & 9.36 & 1 & 1 & 0.1102778 & 0.1666667 & Abril\\\\\n",
       "\\end{tabular}\n"
      ],
      "text/markdown": [
       "\n",
       "A tibble: 1 × 13\n",
       "\n",
       "| X1 &lt;chr&gt; | Pick_up &lt;dttm&gt; | Dropp_off &lt;dttm&gt; | Passengers &lt;dbl&gt; | Trip_distance &lt;dbl&gt; | Fare_amount &lt;dbl&gt; | Tip_amount &lt;dbl&gt; | Total_amount &lt;dbl&gt; | Payment_type &lt;dbl&gt; | Trip_type &lt;dbl&gt; | Trip_duration &lt;dbl&gt; | Tip_pct &lt;dbl&gt; | Month &lt;chr&gt; |\n",
       "|---|---|---|---|---|---|---|---|---|---|---|---|---|\n",
       "| 514390 | 2019-04-30 23:40:13 | 2019-04-30 23:46:50 | 1 | 1.02 | 6.5 | 1.56 | 9.36 | 1 | 1 | 0.1102778 | 0.1666667 | Abril |\n",
       "\n"
      ],
      "text/plain": [
       "  X1     Pick_up             Dropp_off           Passengers Trip_distance\n",
       "1 514390 2019-04-30 23:40:13 2019-04-30 23:46:50 1          1.02         \n",
       "  Fare_amount Tip_amount Total_amount Payment_type Trip_type Trip_duration\n",
       "1 6.5         1.56       9.36         1            1         0.1102778    \n",
       "  Tip_pct   Month\n",
       "1 0.1666667 Abril"
      ]
     },
     "metadata": {},
     "output_type": "display_data"
    }
   ],
   "source": [
    "# Enero\n",
    "head(primer_cuatrimestre, n = 1)\n",
    "# Abril\n",
    "tail(primer_cuatrimestre, n = 1)"
   ]
  },
  {
   "cell_type": "markdown",
   "metadata": {},
   "source": [
    "**Medidas de Tendencia Central** :"
   ]
  },
  {
   "cell_type": "markdown",
   "metadata": {},
   "source": [
    "- Medias del **primer cuatrimestre**"
   ]
  },
  {
   "cell_type": "code",
   "execution_count": 151,
   "metadata": {},
   "outputs": [],
   "source": [
    "# Media de pasajeros\n",
    "passengers_mean <-as.numeric(format(round(mean(primer_cuatrimestre$Passengers, na.rm = TRUE), 2), nsmall = 2))\n",
    "# Media de la distancia del viaje\n",
    "trip_mean <- as.numeric(format(round(mean(primer_cuatrimestre$Trip_distance, na.rm = TRUE), 2), nsmall = 2))\n",
    "# Media de la tarifa\n",
    "fare_mean <- as.numeric(format(round(mean(primer_cuatrimestre$Fare_amount, na.rm = TRUE), 2), nsmall = 2))\n",
    "# Media de la propina\n",
    "tip_mean <- as.numeric(format(round(mean(primer_cuatrimestre$Tip_amount, na.rm = TRUE), 2), nsmall = 2))\n",
    "# Media del costo total del viaje\n",
    "total_mean <- as.numeric(format(round(mean(primer_cuatrimestre$Total_amount, na.rm = TRUE), 2), nsmall = 2))\n",
    "# Media de la duración del viaje\n",
    "duration_mean <- as.numeric(format(round(mean(primer_cuatrimestre$Trip_duration, na.rm = TRUE), 2), nsmall = 2))"
   ]
  },
  {
   "cell_type": "code",
   "execution_count": 152,
   "metadata": {},
   "outputs": [],
   "source": [
    "columnas <- c(\"Media Pasajeros\", \"Media Distancia\", \"Media Tarifa\", \"Media Propina\", \"Media Costo Viaje\",\n",
    "             \"Media Duración\")\n",
    "valores <- c(passengers_mean, trip_mean, fare_mean, tip_mean, total_mean, duration_mean)\n",
    "medias_cuatrimestre <- data.frame(columnas, valores)"
   ]
  },
  {
   "cell_type": "markdown",
   "metadata": {},
   "source": [
    "- Medianas del **primer cuatrimestre**"
   ]
  },
  {
   "cell_type": "code",
   "execution_count": 13,
   "metadata": {},
   "outputs": [],
   "source": [
    "# Mediana de pasajeros\n",
    "passengers_median <-as.numeric(format(round(median(primer_cuatrimestre$Passengers, na.rm = TRUE), 2), nsmall = 2))\n",
    "# Mediana de la distancia del viaje\n",
    "trip_median <- as.numeric(format(round(median(primer_cuatrimestre$Trip_distance, na.rm = TRUE), 2), nsmall = 2))\n",
    "# Mediana de la tarifa\n",
    "fare_median <- as.numeric(format(round(median(primer_cuatrimestre$Fare_amount, na.rm = TRUE), 2), nsmall = 2))\n",
    "# Mediana de la propina\n",
    "tip_median <- as.numeric(format(round(median(primer_cuatrimestre$Tip_amount, na.rm = TRUE), 2), nsmall = 2))\n",
    "# Mediana del costo total del viaje\n",
    "total_median <- as.numeric(format(round(median(primer_cuatrimestre$Total_amount, na.rm = TRUE), 2), nsmall = 2))\n",
    "# Mediana de la duración del viaje\n",
    "duration_median <- as.numeric(format(round(median(primer_cuatrimestre$Trip_duration, na.rm = TRUE), 2), nsmall = 2))"
   ]
  },
  {
   "cell_type": "code",
   "execution_count": 14,
   "metadata": {},
   "outputs": [],
   "source": [
    "columnas_median <- c(\"Mediana Pasajeros\", \"Mediana Distancia\", \"Mediana Tarifa\", \"Mediana Propina\", \n",
    "                     \"Mediana Costo Viaje\", \"Mediana Duración\")\n",
    "valores_median <- c(passengers_median, trip_median, fare_median, tip_median, total_median, duration_median)\n",
    "medianas_cuatrimestre <- data.frame(columnas_median, valores_median)"
   ]
  },
  {
   "cell_type": "markdown",
   "metadata": {},
   "source": [
    "- Modas del **primer cuatrimestre**"
   ]
  },
  {
   "cell_type": "code",
   "execution_count": 15,
   "metadata": {},
   "outputs": [],
   "source": [
    "# Moda de pasajeros\n",
    "passengers_mode <-as.numeric(format(round(mfv(primer_cuatrimestre$Passengers, na_rm = TRUE), 2), nsmall = 2))\n",
    "# Moda de la distancia del viaje\n",
    "trip_mode <- as.numeric(format(round(mfv(primer_cuatrimestre$Trip_distance, na_rm = TRUE), 2), nsmall = 2))\n",
    "# Moda de la tarifa\n",
    "fare_mode <- as.numeric(format(round(mfv(primer_cuatrimestre$Fare_amount, na_rm = TRUE), 2), nsmall = 2))\n",
    "# Moda de la propina\n",
    "tip_mode <- as.numeric(format(round(mfv(primer_cuatrimestre$Tip_amount, na_rm = TRUE), 2), nsmall = 2)) \n",
    "# Moda del costo total del viaje\n",
    "total_mode <- as.numeric(format(round(mfv(primer_cuatrimestre$Total_amount, na_rm = TRUE), 2), nsmall = 2)) \n",
    "# Moda de la duración del viaje\n",
    "duration_mode <- as.numeric(format(round(mfv(primer_cuatrimestre$Trip_duration, na_rm = TRUE)), 2), nsmall = 2)"
   ]
  },
  {
   "cell_type": "code",
   "execution_count": 16,
   "metadata": {},
   "outputs": [],
   "source": [
    "columnas_mode <- c(\"Moda Pasajeros\", \"Moda Distancia\", \"Moda Tarifa\", \"Moda Propina\", \"Moda Costo Viaje\", \n",
    "                   \"Moda Duración\")\n",
    "valores_mode <- c(passengers_mode, trip_mode, fare_mode, tip_mode, total_mode, duration_mode)\n",
    "modas_cuatrimestre <- data.frame(columnas_mode, valores_mode)"
   ]
  },
  {
   "cell_type": "markdown",
   "metadata": {},
   "source": [
    "**Las medias quedan así:**"
   ]
  },
  {
   "cell_type": "code",
   "execution_count": 88,
   "metadata": {},
   "outputs": [
    {
     "name": "stdout",
     "output_type": "stream",
     "text": [
      "[1] \"Medias de todo el primer cuatrimestre\"\n"
     ]
    },
    {
     "data": {
      "text/html": [
       "<table>\n",
       "<caption>A data.frame: 6 × 2</caption>\n",
       "<thead>\n",
       "\t<tr><th scope=col>columnas</th><th scope=col>valores</th></tr>\n",
       "\t<tr><th scope=col>&lt;fct&gt;</th><th scope=col>&lt;dbl&gt;</th></tr>\n",
       "</thead>\n",
       "<tbody>\n",
       "\t<tr><td>Media Pasajeros  </td><td> 1.33</td></tr>\n",
       "\t<tr><td>Media Distancia  </td><td> 2.75</td></tr>\n",
       "\t<tr><td>Media Tarifa     </td><td>11.94</td></tr>\n",
       "\t<tr><td>Media Propina    </td><td> 2.66</td></tr>\n",
       "\t<tr><td>Media Costo Viaje</td><td>16.46</td></tr>\n",
       "\t<tr><td>Media Duración   </td><td> 0.21</td></tr>\n",
       "</tbody>\n",
       "</table>\n"
      ],
      "text/latex": [
       "A data.frame: 6 × 2\n",
       "\\begin{tabular}{ll}\n",
       " columnas & valores\\\\\n",
       " <fct> & <dbl>\\\\\n",
       "\\hline\n",
       "\t Media Pasajeros   &  1.33\\\\\n",
       "\t Media Distancia   &  2.75\\\\\n",
       "\t Media Tarifa      & 11.94\\\\\n",
       "\t Media Propina     &  2.66\\\\\n",
       "\t Media Costo Viaje & 16.46\\\\\n",
       "\t Media Duración    &  0.21\\\\\n",
       "\\end{tabular}\n"
      ],
      "text/markdown": [
       "\n",
       "A data.frame: 6 × 2\n",
       "\n",
       "| columnas &lt;fct&gt; | valores &lt;dbl&gt; |\n",
       "|---|---|\n",
       "| Media Pasajeros   |  1.33 |\n",
       "| Media Distancia   |  2.75 |\n",
       "| Media Tarifa      | 11.94 |\n",
       "| Media Propina     |  2.66 |\n",
       "| Media Costo Viaje | 16.46 |\n",
       "| Media Duración    |  0.21 |\n",
       "\n"
      ],
      "text/plain": [
       "  columnas          valores\n",
       "1 Media Pasajeros    1.33  \n",
       "2 Media Distancia    2.75  \n",
       "3 Media Tarifa      11.94  \n",
       "4 Media Propina      2.66  \n",
       "5 Media Costo Viaje 16.46  \n",
       "6 Media Duración     0.21  "
      ]
     },
     "metadata": {},
     "output_type": "display_data"
    }
   ],
   "source": [
    "print('Medias de todo el primer cuatrimestre')\n",
    "medias_cuatrimestre"
   ]
  },
  {
   "cell_type": "markdown",
   "metadata": {},
   "source": [
    "**Las medianas quedan así:**"
   ]
  },
  {
   "cell_type": "code",
   "execution_count": 89,
   "metadata": {},
   "outputs": [
    {
     "name": "stdout",
     "output_type": "stream",
     "text": [
      "[1] \"Medianas de todo el primer cuatrimestre\"\n"
     ]
    },
    {
     "data": {
      "text/html": [
       "<table>\n",
       "<caption>A data.frame: 6 × 2</caption>\n",
       "<thead>\n",
       "\t<tr><th scope=col>columnas_median</th><th scope=col>valores_median</th></tr>\n",
       "\t<tr><th scope=col>&lt;fct&gt;</th><th scope=col>&lt;dbl&gt;</th></tr>\n",
       "</thead>\n",
       "<tbody>\n",
       "\t<tr><td>Mediana Pasajeros  </td><td> 1.00</td></tr>\n",
       "\t<tr><td>Mediana Distancia  </td><td> 1.83</td></tr>\n",
       "\t<tr><td>Mediana Tarifa     </td><td> 9.50</td></tr>\n",
       "\t<tr><td>Mediana Propina    </td><td> 2.06</td></tr>\n",
       "\t<tr><td>Mediana Costo Viaje</td><td>12.96</td></tr>\n",
       "\t<tr><td>Mediana Duración   </td><td> 0.17</td></tr>\n",
       "</tbody>\n",
       "</table>\n"
      ],
      "text/latex": [
       "A data.frame: 6 × 2\n",
       "\\begin{tabular}{ll}\n",
       " columnas\\_median & valores\\_median\\\\\n",
       " <fct> & <dbl>\\\\\n",
       "\\hline\n",
       "\t Mediana Pasajeros   &  1.00\\\\\n",
       "\t Mediana Distancia   &  1.83\\\\\n",
       "\t Mediana Tarifa      &  9.50\\\\\n",
       "\t Mediana Propina     &  2.06\\\\\n",
       "\t Mediana Costo Viaje & 12.96\\\\\n",
       "\t Mediana Duración    &  0.17\\\\\n",
       "\\end{tabular}\n"
      ],
      "text/markdown": [
       "\n",
       "A data.frame: 6 × 2\n",
       "\n",
       "| columnas_median &lt;fct&gt; | valores_median &lt;dbl&gt; |\n",
       "|---|---|\n",
       "| Mediana Pasajeros   |  1.00 |\n",
       "| Mediana Distancia   |  1.83 |\n",
       "| Mediana Tarifa      |  9.50 |\n",
       "| Mediana Propina     |  2.06 |\n",
       "| Mediana Costo Viaje | 12.96 |\n",
       "| Mediana Duración    |  0.17 |\n",
       "\n"
      ],
      "text/plain": [
       "  columnas_median     valores_median\n",
       "1 Mediana Pasajeros    1.00         \n",
       "2 Mediana Distancia    1.83         \n",
       "3 Mediana Tarifa       9.50         \n",
       "4 Mediana Propina      2.06         \n",
       "5 Mediana Costo Viaje 12.96         \n",
       "6 Mediana Duración     0.17         "
      ]
     },
     "metadata": {},
     "output_type": "display_data"
    }
   ],
   "source": [
    "print('Medianas de todo el primer cuatrimestre')\n",
    "medianas_cuatrimestre"
   ]
  },
  {
   "cell_type": "markdown",
   "metadata": {},
   "source": [
    "**Las modas quedan así:**"
   ]
  },
  {
   "cell_type": "code",
   "execution_count": 90,
   "metadata": {},
   "outputs": [
    {
     "name": "stdout",
     "output_type": "stream",
     "text": [
      "[1] \"Modas de todo el primer cuatrimestre\"\n"
     ]
    },
    {
     "data": {
      "text/html": [
       "<table>\n",
       "<caption>A data.frame: 6 × 2</caption>\n",
       "<thead>\n",
       "\t<tr><th scope=col>columnas_mode</th><th scope=col>valores_mode</th></tr>\n",
       "\t<tr><th scope=col>&lt;fct&gt;</th><th scope=col>&lt;dbl&gt;</th></tr>\n",
       "</thead>\n",
       "<tbody>\n",
       "\t<tr><td>Moda Pasajeros  </td><td>1.00</td></tr>\n",
       "\t<tr><td>Moda Distancia  </td><td>0.90</td></tr>\n",
       "\t<tr><td>Moda Tarifa     </td><td>6.00</td></tr>\n",
       "\t<tr><td>Moda Propina    </td><td>1.00</td></tr>\n",
       "\t<tr><td>Moda Costo Viaje</td><td>8.76</td></tr>\n",
       "\t<tr><td>Moda Duración   </td><td>0.00</td></tr>\n",
       "</tbody>\n",
       "</table>\n"
      ],
      "text/latex": [
       "A data.frame: 6 × 2\n",
       "\\begin{tabular}{ll}\n",
       " columnas\\_mode & valores\\_mode\\\\\n",
       " <fct> & <dbl>\\\\\n",
       "\\hline\n",
       "\t Moda Pasajeros   & 1.00\\\\\n",
       "\t Moda Distancia   & 0.90\\\\\n",
       "\t Moda Tarifa      & 6.00\\\\\n",
       "\t Moda Propina     & 1.00\\\\\n",
       "\t Moda Costo Viaje & 8.76\\\\\n",
       "\t Moda Duración    & 0.00\\\\\n",
       "\\end{tabular}\n"
      ],
      "text/markdown": [
       "\n",
       "A data.frame: 6 × 2\n",
       "\n",
       "| columnas_mode &lt;fct&gt; | valores_mode &lt;dbl&gt; |\n",
       "|---|---|\n",
       "| Moda Pasajeros   | 1.00 |\n",
       "| Moda Distancia   | 0.90 |\n",
       "| Moda Tarifa      | 6.00 |\n",
       "| Moda Propina     | 1.00 |\n",
       "| Moda Costo Viaje | 8.76 |\n",
       "| Moda Duración    | 0.00 |\n",
       "\n"
      ],
      "text/plain": [
       "  columnas_mode    valores_mode\n",
       "1 Moda Pasajeros   1.00        \n",
       "2 Moda Distancia   0.90        \n",
       "3 Moda Tarifa      6.00        \n",
       "4 Moda Propina     1.00        \n",
       "5 Moda Costo Viaje 8.76        \n",
       "6 Moda Duración    0.00        "
      ]
     },
     "metadata": {},
     "output_type": "display_data"
    }
   ],
   "source": [
    "print('Modas de todo el primer cuatrimestre')\n",
    "modas_cuatrimestre"
   ]
  },
  {
   "cell_type": "markdown",
   "metadata": {},
   "source": [
    "**Medidas de Posición** :"
   ]
  },
  {
   "cell_type": "markdown",
   "metadata": {},
   "source": [
    "- Frecuencias absolutas del **primer cuatrimestre** "
   ]
  },
  {
   "cell_type": "code",
   "execution_count": 94,
   "metadata": {},
   "outputs": [
    {
     "name": "stdout",
     "output_type": "stream",
     "text": [
      "[1] \"Frecuencia absoluta del tipo de pago\"\n"
     ]
    },
    {
     "data": {
      "text/plain": [
       "\n",
       "     1      2      3      4 \n",
       "801321     39      7      4 "
      ]
     },
     "metadata": {},
     "output_type": "display_data"
    },
    {
     "name": "stdout",
     "output_type": "stream",
     "text": [
      "[1] \"Frecuencia absoluta del tipo de viaje\"\n"
     ]
    },
    {
     "data": {
      "text/plain": [
       "\n",
       "     1      2 \n",
       "796412   4959 "
      ]
     },
     "metadata": {},
     "output_type": "display_data"
    },
    {
     "name": "stdout",
     "output_type": "stream",
     "text": [
      "[1] \"Frecuencia absoluta del número de pasajeros\"\n"
     ]
    },
    {
     "data": {
      "text/plain": [
       "\n",
       "     0      1      2      3      4      5      6      7      8      9 \n",
       "  1759 687950  58372   8970   3711  27426  13176      1      5      1 "
      ]
     },
     "metadata": {},
     "output_type": "display_data"
    }
   ],
   "source": [
    "# Frecuencia absoluta del tipo de pago\n",
    "pago_fa <- table(primer_cuatrimestre$Payment_type)\n",
    "print('Frecuencia absoluta del tipo de pago')\n",
    "pago_fa\n",
    "# Frecuencia absoluta del tipo de viaje\n",
    "viaje_fa <- table(primer_cuatrimestre$Trip_type)\n",
    "print('Frecuencia absoluta del tipo de viaje')\n",
    "viaje_fa\n",
    "# Frecuencia absoluta del número de pasajeros\n",
    "pasajeros_fa <- table(primer_cuatrimestre$Passengers)\n",
    "print('Frecuencia absoluta del número de pasajeros')\n",
    "pasajeros_fa"
   ]
  },
  {
   "cell_type": "markdown",
   "metadata": {},
   "source": [
    "- Frecuencias relativas del **primer cuatrimestre** "
   ]
  },
  {
   "cell_type": "code",
   "execution_count": 95,
   "metadata": {},
   "outputs": [
    {
     "name": "stdout",
     "output_type": "stream",
     "text": [
      "[1] \"Frecuencia relativa del tipo de pago\"\n"
     ]
    },
    {
     "data": {
      "text/plain": [
       "\n",
       "      1       2       3       4 \n",
       "99.9938  0.0049  0.0009  0.0005 "
      ]
     },
     "metadata": {},
     "output_type": "display_data"
    },
    {
     "name": "stdout",
     "output_type": "stream",
     "text": [
      "[1] \"Frecuencia relativa del tipo de viaje\"\n"
     ]
    },
    {
     "data": {
      "text/plain": [
       "\n",
       "      1       2 \n",
       "99.3812  0.6188 "
      ]
     },
     "metadata": {},
     "output_type": "display_data"
    },
    {
     "name": "stdout",
     "output_type": "stream",
     "text": [
      "[1] \"Frecuencia relativa del número de pasajeros\"\n"
     ]
    },
    {
     "data": {
      "text/plain": [
       "\n",
       "      0       1       2       3       4       5       6       7       8       9 \n",
       " 0.2195 85.8466  7.2840  1.1193  0.4631  3.4224  1.6442  0.0001  0.0006  0.0001 "
      ]
     },
     "metadata": {},
     "output_type": "display_data"
    }
   ],
   "source": [
    "# Frecuencia relativa del tipo de pago\n",
    "pago_fr <- prop.table(pago_fa)*100\n",
    "print('Frecuencia relativa del tipo de pago')\n",
    "round(pago_fr,4)\n",
    "# Frecuencia relativa del tipo de viaje\n",
    "viaje_fr <- prop.table(viaje_fa)*100\n",
    "print('Frecuencia relativa del tipo de viaje')\n",
    "round(viaje_fr,4)\n",
    "# Frecuencia relativa del número de pasajeros\n",
    "pasajeros_fr <- prop.table(pasajeros_fa)*100\n",
    "print('Frecuencia relativa del número de pasajeros')\n",
    "round(pasajeros_fr,4)"
   ]
  },
  {
   "cell_type": "markdown",
   "metadata": {},
   "source": [
    "**Medidas de Dispersión** :"
   ]
  },
  {
   "cell_type": "markdown",
   "metadata": {},
   "source": [
    "- Rangos, mínimos y máximos del **primer cuatrimestre**"
   ]
  },
  {
   "cell_type": "code",
   "execution_count": 140,
   "metadata": {},
   "outputs": [
    {
     "name": "stdout",
     "output_type": "stream",
     "text": [
      "[1] \"Rango de Pasajeros\"\n"
     ]
    },
    {
     "data": {
      "text/html": [
       "<style>\n",
       ".list-inline {list-style: none; margin:0; padding: 0}\n",
       ".list-inline>li {display: inline-block}\n",
       ".list-inline>li:not(:last-child)::after {content: \"\\00b7\"; padding: 0 .5ex}\n",
       "</style>\n",
       "<ol class=list-inline><li>0</li><li>9</li></ol>\n"
      ],
      "text/latex": [
       "\\begin{enumerate*}\n",
       "\\item 0\n",
       "\\item 9\n",
       "\\end{enumerate*}\n"
      ],
      "text/markdown": [
       "1. 0\n",
       "2. 9\n",
       "\n",
       "\n"
      ],
      "text/plain": [
       "[1] 0 9"
      ]
     },
     "metadata": {},
     "output_type": "display_data"
    },
    {
     "name": "stdout",
     "output_type": "stream",
     "text": [
      "[1] \"Rango de Distancia\"\n"
     ]
    },
    {
     "data": {
      "text/html": [
       "<style>\n",
       ".list-inline {list-style: none; margin:0; padding: 0}\n",
       ".list-inline>li {display: inline-block}\n",
       ".list-inline>li:not(:last-child)::after {content: \"\\00b7\"; padding: 0 .5ex}\n",
       "</style>\n",
       "<ol class=list-inline><li>0.01</li><li>666.6</li></ol>\n"
      ],
      "text/latex": [
       "\\begin{enumerate*}\n",
       "\\item 0.01\n",
       "\\item 666.6\n",
       "\\end{enumerate*}\n"
      ],
      "text/markdown": [
       "1. 0.01\n",
       "2. 666.6\n",
       "\n",
       "\n"
      ],
      "text/plain": [
       "[1]   0.01 666.60"
      ]
     },
     "metadata": {},
     "output_type": "display_data"
    },
    {
     "name": "stdout",
     "output_type": "stream",
     "text": [
      "[1] \"Rango de Tarifa\"\n"
     ]
    },
    {
     "data": {
      "text/html": [
       "<style>\n",
       ".list-inline {list-style: none; margin:0; padding: 0}\n",
       ".list-inline>li {display: inline-block}\n",
       ".list-inline>li:not(:last-child)::after {content: \"\\00b7\"; padding: 0 .5ex}\n",
       "</style>\n",
       "<ol class=list-inline><li>0.01</li><li>300</li></ol>\n"
      ],
      "text/latex": [
       "\\begin{enumerate*}\n",
       "\\item 0.01\n",
       "\\item 300\n",
       "\\end{enumerate*}\n"
      ],
      "text/markdown": [
       "1. 0.01\n",
       "2. 300\n",
       "\n",
       "\n"
      ],
      "text/plain": [
       "[1] 1e-02 3e+02"
      ]
     },
     "metadata": {},
     "output_type": "display_data"
    },
    {
     "name": "stdout",
     "output_type": "stream",
     "text": [
      "[1] \"Rango de Propina\"\n"
     ]
    },
    {
     "data": {
      "text/html": [
       "<style>\n",
       ".list-inline {list-style: none; margin:0; padding: 0}\n",
       ".list-inline>li {display: inline-block}\n",
       ".list-inline>li:not(:last-child)::after {content: \"\\00b7\"; padding: 0 .5ex}\n",
       "</style>\n",
       "<ol class=list-inline><li>0.01</li><li>440</li></ol>\n"
      ],
      "text/latex": [
       "\\begin{enumerate*}\n",
       "\\item 0.01\n",
       "\\item 440\n",
       "\\end{enumerate*}\n"
      ],
      "text/markdown": [
       "1. 0.01\n",
       "2. 440\n",
       "\n",
       "\n"
      ],
      "text/plain": [
       "[1]   0.01 440.00"
      ]
     },
     "metadata": {},
     "output_type": "display_data"
    },
    {
     "name": "stdout",
     "output_type": "stream",
     "text": [
      "[1] \"Rango de Monto Total\"\n"
     ]
    },
    {
     "data": {
      "text/html": [
       "<style>\n",
       ".list-inline {list-style: none; margin:0; padding: 0}\n",
       ".list-inline>li {display: inline-block}\n",
       ".list-inline>li:not(:last-child)::after {content: \"\\00b7\"; padding: 0 .5ex}\n",
       "</style>\n",
       "<ol class=list-inline><li>0.09</li><li>479.05</li></ol>\n"
      ],
      "text/latex": [
       "\\begin{enumerate*}\n",
       "\\item 0.09\n",
       "\\item 479.05\n",
       "\\end{enumerate*}\n"
      ],
      "text/markdown": [
       "1. 0.09\n",
       "2. 479.05\n",
       "\n",
       "\n"
      ],
      "text/plain": [
       "[1]   0.09 479.05"
      ]
     },
     "metadata": {},
     "output_type": "display_data"
    },
    {
     "name": "stdout",
     "output_type": "stream",
     "text": [
      "[1] \"Rango de Duración\"\n"
     ]
    },
    {
     "data": {
      "text/html": [
       "<style>\n",
       ".list-inline {list-style: none; margin:0; padding: 0}\n",
       ".list-inline>li {display: inline-block}\n",
       ".list-inline>li:not(:last-child)::after {content: \"\\00b7\"; padding: 0 .5ex}\n",
       "</style>\n",
       "<ol class=list-inline><li>0.000277777777777778</li><li>4.98805555555556</li></ol>\n"
      ],
      "text/latex": [
       "\\begin{enumerate*}\n",
       "\\item 0.000277777777777778\n",
       "\\item 4.98805555555556\n",
       "\\end{enumerate*}\n"
      ],
      "text/markdown": [
       "1. 0.000277777777777778\n",
       "2. 4.98805555555556\n",
       "\n",
       "\n"
      ],
      "text/plain": [
       "[1] 0.0002777778 4.9880555556"
      ]
     },
     "metadata": {},
     "output_type": "display_data"
    }
   ],
   "source": [
    "# Pasajeros\n",
    "passengers_r <-range(primer_cuatrimestre$Passengers, na.rm = TRUE)\n",
    "print('Rango de Pasajeros')\n",
    "passengers_r\n",
    "passengers_min <-min(primer_cuatrimestre$Passengers, na.rm = TRUE)\n",
    "passengers_max <-max(primer_cuatrimestre$Passengers, na.rm = TRUE)\n",
    "# Distancia del viaje\n",
    "distance_r <- range(primer_cuatrimestre$Trip_distance, na.rm = TRUE)\n",
    "print('Rango de Distancia')\n",
    "distance_r\n",
    "distance_min <- min(primer_cuatrimestre$Trip_distance, na.rm = TRUE)\n",
    "distance_max <- max(primer_cuatrimestre$Trip_distance, na.rm = TRUE)\n",
    "# Tarifa del viaje\n",
    "fare_r <- range(primer_cuatrimestre$Fare_amount, na.rm = TRUE)\n",
    "print('Rango de Tarifa')\n",
    "fare_r\n",
    "fare_min <- min(primer_cuatrimestre$Fare_amount, na.rm = TRUE)\n",
    "fare_max <- max(primer_cuatrimestre$Fare_amount, na.rm = TRUE)\n",
    "# Monto de la propina\n",
    "tip_r <- range(primer_cuatrimestre$Tip_amount, na.rm = TRUE)\n",
    "print('Rango de Propina')\n",
    "tip_r\n",
    "tip_min <- min(primer_cuatrimestre$Tip_amount, na.rm = TRUE)\n",
    "tip_max <- max(primer_cuatrimestre$Tip_amount, na.rm = TRUE)\n",
    "# Monto total\n",
    "total_r <- range(primer_cuatrimestre$Total_amount, na.rm = TRUE)\n",
    "print('Rango de Monto Total')\n",
    "total_r\n",
    "total_min <- min(primer_cuatrimestre$Total_amount, na.rm = TRUE)\n",
    "total_max <- max(primer_cuatrimestre$Total_amount, na.rm = TRUE)\n",
    "# Duración del viaje\n",
    "duration_r <- range(primer_cuatrimestre$Trip_duration, na.rm = TRUE)\n",
    "print('Rango de Duración')\n",
    "duration_r\n",
    "duration_min <- min(primer_cuatrimestre$Trip_duration, na.rm = TRUE)\n",
    "duration_max <- max(primer_cuatrimestre$Trip_duration, na.rm = TRUE)"
   ]
  },
  {
   "cell_type": "code",
   "execution_count": 129,
   "metadata": {},
   "outputs": [
    {
     "name": "stdout",
     "output_type": "stream",
     "text": [
      "[1] \"Valores mínimos para todo el cuatrimestre\"\n"
     ]
    },
    {
     "data": {
      "text/html": [
       "<table>\n",
       "<caption>A data.frame: 6 × 2</caption>\n",
       "<thead>\n",
       "\t<tr><th scope=col>columnas_min</th><th scope=col>valores_min</th></tr>\n",
       "\t<tr><th scope=col>&lt;fct&gt;</th><th scope=col>&lt;dbl&gt;</th></tr>\n",
       "</thead>\n",
       "<tbody>\n",
       "\t<tr><td>Mínimo Pasajeros  </td><td>0.00</td></tr>\n",
       "\t<tr><td>Mínimo Distancia  </td><td>0.01</td></tr>\n",
       "\t<tr><td>Mínimo Tarifa     </td><td>0.01</td></tr>\n",
       "\t<tr><td>Mínimo Propina    </td><td>0.01</td></tr>\n",
       "\t<tr><td>Mínimo Costo Viaje</td><td>0.09</td></tr>\n",
       "\t<tr><td>Mínimo Duración   </td><td>0.00</td></tr>\n",
       "</tbody>\n",
       "</table>\n"
      ],
      "text/latex": [
       "A data.frame: 6 × 2\n",
       "\\begin{tabular}{ll}\n",
       " columnas\\_min & valores\\_min\\\\\n",
       " <fct> & <dbl>\\\\\n",
       "\\hline\n",
       "\t Mínimo Pasajeros   & 0.00\\\\\n",
       "\t Mínimo Distancia   & 0.01\\\\\n",
       "\t Mínimo Tarifa      & 0.01\\\\\n",
       "\t Mínimo Propina     & 0.01\\\\\n",
       "\t Mínimo Costo Viaje & 0.09\\\\\n",
       "\t Mínimo Duración    & 0.00\\\\\n",
       "\\end{tabular}\n"
      ],
      "text/markdown": [
       "\n",
       "A data.frame: 6 × 2\n",
       "\n",
       "| columnas_min &lt;fct&gt; | valores_min &lt;dbl&gt; |\n",
       "|---|---|\n",
       "| Mínimo Pasajeros   | 0.00 |\n",
       "| Mínimo Distancia   | 0.01 |\n",
       "| Mínimo Tarifa      | 0.01 |\n",
       "| Mínimo Propina     | 0.01 |\n",
       "| Mínimo Costo Viaje | 0.09 |\n",
       "| Mínimo Duración    | 0.00 |\n",
       "\n"
      ],
      "text/plain": [
       "  columnas_min       valores_min\n",
       "1 Mínimo Pasajeros   0.00       \n",
       "2 Mínimo Distancia   0.01       \n",
       "3 Mínimo Tarifa      0.01       \n",
       "4 Mínimo Propina     0.01       \n",
       "5 Mínimo Costo Viaje 0.09       \n",
       "6 Mínimo Duración    0.00       "
      ]
     },
     "metadata": {},
     "output_type": "display_data"
    }
   ],
   "source": [
    "columnas_min <- c(\"Mínimo Pasajeros\", \"Mínimo Distancia\", \"Mínimo Tarifa\", \"Mínimo Propina\", \n",
    "                   \"Mínimo Costo Viaje\", \"Mínimo Duración\")\n",
    "valores_min <- round(c(passengers_min, distance_min, fare_min, tip_min, total_min, duration_min),2)\n",
    "minimos_cuatrimestre <- data.frame(columnas_min, valores_min)\n",
    "print('Valores mínimos para todo el cuatrimestre')\n",
    "minimos_cuatrimestre"
   ]
  },
  {
   "cell_type": "code",
   "execution_count": 142,
   "metadata": {},
   "outputs": [
    {
     "name": "stdout",
     "output_type": "stream",
     "text": [
      "[1] \"Valores máximos para todo el primer cuatrimestre\"\n"
     ]
    },
    {
     "data": {
      "text/html": [
       "<table>\n",
       "<caption>A data.frame: 6 × 2</caption>\n",
       "<thead>\n",
       "\t<tr><th scope=col>columnas_max</th><th scope=col>valores_max</th></tr>\n",
       "\t<tr><th scope=col>&lt;fct&gt;</th><th scope=col>&lt;dbl&gt;</th></tr>\n",
       "</thead>\n",
       "<tbody>\n",
       "\t<tr><td>Máximo Pasajeros  </td><td>  9.00</td></tr>\n",
       "\t<tr><td>Máximo Distancia  </td><td>666.60</td></tr>\n",
       "\t<tr><td>Máximo Tarifa     </td><td>300.00</td></tr>\n",
       "\t<tr><td>Máximo Propina    </td><td>440.00</td></tr>\n",
       "\t<tr><td>Máximo Costo Viaje</td><td>479.05</td></tr>\n",
       "\t<tr><td>Máximo Duración   </td><td>  4.99</td></tr>\n",
       "</tbody>\n",
       "</table>\n"
      ],
      "text/latex": [
       "A data.frame: 6 × 2\n",
       "\\begin{tabular}{ll}\n",
       " columnas\\_max & valores\\_max\\\\\n",
       " <fct> & <dbl>\\\\\n",
       "\\hline\n",
       "\t Máximo Pasajeros   &   9.00\\\\\n",
       "\t Máximo Distancia   & 666.60\\\\\n",
       "\t Máximo Tarifa      & 300.00\\\\\n",
       "\t Máximo Propina     & 440.00\\\\\n",
       "\t Máximo Costo Viaje & 479.05\\\\\n",
       "\t Máximo Duración    &   4.99\\\\\n",
       "\\end{tabular}\n"
      ],
      "text/markdown": [
       "\n",
       "A data.frame: 6 × 2\n",
       "\n",
       "| columnas_max &lt;fct&gt; | valores_max &lt;dbl&gt; |\n",
       "|---|---|\n",
       "| Máximo Pasajeros   |   9.00 |\n",
       "| Máximo Distancia   | 666.60 |\n",
       "| Máximo Tarifa      | 300.00 |\n",
       "| Máximo Propina     | 440.00 |\n",
       "| Máximo Costo Viaje | 479.05 |\n",
       "| Máximo Duración    |   4.99 |\n",
       "\n"
      ],
      "text/plain": [
       "  columnas_max       valores_max\n",
       "1 Máximo Pasajeros     9.00     \n",
       "2 Máximo Distancia   666.60     \n",
       "3 Máximo Tarifa      300.00     \n",
       "4 Máximo Propina     440.00     \n",
       "5 Máximo Costo Viaje 479.05     \n",
       "6 Máximo Duración      4.99     "
      ]
     },
     "metadata": {},
     "output_type": "display_data"
    }
   ],
   "source": [
    "columnas_max <- c(\"Máximo Pasajeros\", \"Máximo Distancia\", \"Máximo Tarifa\", \"Máximo Propina\", \n",
    "                   \"Máximo Costo Viaje\", \"Máximo Duración\")\n",
    "valores_max <- round(c(passengers_max, distance_max, fare_max, tip_max, total_max, duration_max),2)\n",
    "maximos_cuatrimestre <- data.frame(columnas_max, valores_max)\n",
    "print('Valores máximos para todo el primer cuatrimestre')\n",
    "maximos_cuatrimestre"
   ]
  },
  {
   "cell_type": "markdown",
   "metadata": {},
   "source": [
    "- Varianzas y desviaciones estándar del **primer cuatrimestre**"
   ]
  },
  {
   "cell_type": "code",
   "execution_count": 141,
   "metadata": {},
   "outputs": [],
   "source": [
    "# Pasajeros\n",
    "passengers_var <-var(primer_cuatrimestre$Passengers, na.rm = TRUE)\n",
    "passengers_sd <-sd(primer_cuatrimestre$Passengers, na.rm = TRUE)\n",
    "# Distancia del viaje\n",
    "distance_var <- var(primer_cuatrimestre$Trip_distance, na.rm = TRUE)\n",
    "distance_sd <- sd(primer_cuatrimestre$Trip_distance, na.rm = TRUE)\n",
    "# Tarifa del viaje\n",
    "fare_var <- var(primer_cuatrimestre$Fare_amount, na.rm = TRUE)\n",
    "fare_sd <- sd(primer_cuatrimestre$Fare_amount, na.rm = TRUE)\n",
    "# Monto de la propina\n",
    "tip_var <- var(primer_cuatrimestre$Tip_amount, na.rm = TRUE)\n",
    "tip_sd <- sd(primer_cuatrimestre$Tip_amount, na.rm = TRUE)\n",
    "# Monto total\n",
    "total_var <- var(primer_cuatrimestre$Total_amount, na.rm = TRUE)\n",
    "total_sd <- sd(primer_cuatrimestre$Total_amount, na.rm = TRUE)\n",
    "# Duración del viaje\n",
    "duration_var <- var(primer_cuatrimestre$Trip_duration, na.rm = TRUE)\n",
    "duration_sd <- sd(primer_cuatrimestre$Trip_duration, na.rm = TRUE)"
   ]
  },
  {
   "cell_type": "code",
   "execution_count": 145,
   "metadata": {},
   "outputs": [
    {
     "name": "stdout",
     "output_type": "stream",
     "text": [
      "[1] \"Varianzas para todo el primer cuatrimestre\"\n"
     ]
    },
    {
     "data": {
      "text/html": [
       "<table>\n",
       "<caption>A data.frame: 6 × 2</caption>\n",
       "<thead>\n",
       "\t<tr><th scope=col>columnas_var</th><th scope=col>valores_var</th></tr>\n",
       "\t<tr><th scope=col>&lt;fct&gt;</th><th scope=col>&lt;dbl&gt;</th></tr>\n",
       "</thead>\n",
       "<tbody>\n",
       "\t<tr><td>Varianza Pasajeros  </td><td>  1.0142</td></tr>\n",
       "\t<tr><td>Varianza Distancia  </td><td>  8.5826</td></tr>\n",
       "\t<tr><td>Varianza Tarifa     </td><td> 71.4985</td></tr>\n",
       "\t<tr><td>Varianza Propina    </td><td>  4.8171</td></tr>\n",
       "\t<tr><td>Varianza Costo Viaje</td><td>117.8246</td></tr>\n",
       "\t<tr><td>Varianza Duración   </td><td>  0.0258</td></tr>\n",
       "</tbody>\n",
       "</table>\n"
      ],
      "text/latex": [
       "A data.frame: 6 × 2\n",
       "\\begin{tabular}{ll}\n",
       " columnas\\_var & valores\\_var\\\\\n",
       " <fct> & <dbl>\\\\\n",
       "\\hline\n",
       "\t Varianza Pasajeros   &   1.0142\\\\\n",
       "\t Varianza Distancia   &   8.5826\\\\\n",
       "\t Varianza Tarifa      &  71.4985\\\\\n",
       "\t Varianza Propina     &   4.8171\\\\\n",
       "\t Varianza Costo Viaje & 117.8246\\\\\n",
       "\t Varianza Duración    &   0.0258\\\\\n",
       "\\end{tabular}\n"
      ],
      "text/markdown": [
       "\n",
       "A data.frame: 6 × 2\n",
       "\n",
       "| columnas_var &lt;fct&gt; | valores_var &lt;dbl&gt; |\n",
       "|---|---|\n",
       "| Varianza Pasajeros   |   1.0142 |\n",
       "| Varianza Distancia   |   8.5826 |\n",
       "| Varianza Tarifa      |  71.4985 |\n",
       "| Varianza Propina     |   4.8171 |\n",
       "| Varianza Costo Viaje | 117.8246 |\n",
       "| Varianza Duración    |   0.0258 |\n",
       "\n"
      ],
      "text/plain": [
       "  columnas_var         valores_var\n",
       "1 Varianza Pasajeros     1.0142   \n",
       "2 Varianza Distancia     8.5826   \n",
       "3 Varianza Tarifa       71.4985   \n",
       "4 Varianza Propina       4.8171   \n",
       "5 Varianza Costo Viaje 117.8246   \n",
       "6 Varianza Duración      0.0258   "
      ]
     },
     "metadata": {},
     "output_type": "display_data"
    }
   ],
   "source": [
    "columnas_var <- c(\"Varianza Pasajeros\", \"Varianza Distancia\", \"Varianza Tarifa\", \"Varianza Propina\", \n",
    "                   \"Varianza Costo Viaje\", \"Varianza Duración\")\n",
    "valores_var <- round(c(passengers_var, distance_var, fare_var, tip_var, total_var, duration_var),4)\n",
    "varianzas_cuatrimestre <- data.frame(columnas_var, valores_var)\n",
    "print('Varianzas para todo el primer cuatrimestre')\n",
    "varianzas_cuatrimestre"
   ]
  },
  {
   "cell_type": "code",
   "execution_count": 154,
   "metadata": {},
   "outputs": [
    {
     "name": "stdout",
     "output_type": "stream",
     "text": [
      "[1] \"Desviaciones estándar para todo el primer cuatrimestre\"\n"
     ]
    },
    {
     "data": {
      "text/html": [
       "<table>\n",
       "<caption>A data.frame: 6 × 2</caption>\n",
       "<thead>\n",
       "\t<tr><th scope=col>columnas_sd</th><th scope=col>valores_sd</th></tr>\n",
       "\t<tr><th scope=col>&lt;fct&gt;</th><th scope=col>&lt;dbl&gt;</th></tr>\n",
       "</thead>\n",
       "<tbody>\n",
       "\t<tr><td>SD Pasajeros  </td><td> 1.0071</td></tr>\n",
       "\t<tr><td>SD Distancia  </td><td> 2.9296</td></tr>\n",
       "\t<tr><td>SD Tarifa     </td><td> 8.4557</td></tr>\n",
       "\t<tr><td>SD Propina    </td><td> 2.1948</td></tr>\n",
       "\t<tr><td>SD Costo Viaje</td><td>10.8547</td></tr>\n",
       "\t<tr><td>SD Duración   </td><td> 0.1606</td></tr>\n",
       "</tbody>\n",
       "</table>\n"
      ],
      "text/latex": [
       "A data.frame: 6 × 2\n",
       "\\begin{tabular}{ll}\n",
       " columnas\\_sd & valores\\_sd\\\\\n",
       " <fct> & <dbl>\\\\\n",
       "\\hline\n",
       "\t SD Pasajeros   &  1.0071\\\\\n",
       "\t SD Distancia   &  2.9296\\\\\n",
       "\t SD Tarifa      &  8.4557\\\\\n",
       "\t SD Propina     &  2.1948\\\\\n",
       "\t SD Costo Viaje & 10.8547\\\\\n",
       "\t SD Duración    &  0.1606\\\\\n",
       "\\end{tabular}\n"
      ],
      "text/markdown": [
       "\n",
       "A data.frame: 6 × 2\n",
       "\n",
       "| columnas_sd &lt;fct&gt; | valores_sd &lt;dbl&gt; |\n",
       "|---|---|\n",
       "| SD Pasajeros   |  1.0071 |\n",
       "| SD Distancia   |  2.9296 |\n",
       "| SD Tarifa      |  8.4557 |\n",
       "| SD Propina     |  2.1948 |\n",
       "| SD Costo Viaje | 10.8547 |\n",
       "| SD Duración    |  0.1606 |\n",
       "\n"
      ],
      "text/plain": [
       "  columnas_sd    valores_sd\n",
       "1 SD Pasajeros    1.0071   \n",
       "2 SD Distancia    2.9296   \n",
       "3 SD Tarifa       8.4557   \n",
       "4 SD Propina      2.1948   \n",
       "5 SD Costo Viaje 10.8547   \n",
       "6 SD Duración     0.1606   "
      ]
     },
     "metadata": {},
     "output_type": "display_data"
    }
   ],
   "source": [
    "columnas_sd <- c(\"SD Pasajeros\", \"SD Distancia\", \"SD Tarifa\", \"SD Propina\", \n",
    "                   \"SD Costo Viaje\", \"SD Duración\")\n",
    "valores_sd <- round(c(passengers_sd, distance_sd, fare_sd, tip_sd, total_sd, duration_sd),4)\n",
    "sd_cuatrimestre <- data.frame(columnas_sd, valores_sd)\n",
    "print('Desviaciones estándar para todo el primer cuatrimestre')\n",
    "sd_cuatrimestre"
   ]
  },
  {
   "cell_type": "markdown",
   "metadata": {},
   "source": [
    "- Coeficiente de variación del **primer cuatrimestre**"
   ]
  },
  {
   "cell_type": "code",
   "execution_count": 153,
   "metadata": {},
   "outputs": [],
   "source": [
    "# Pasajeros\n",
    "passengers_cv <- coefficient.variation(sd=passengers_sd, avg = passengers_mean)\n",
    "# Distancia del viaje\n",
    "distance_cv <- coefficient.variation(sd=distance_sd, avg = trip_mean)\n",
    "# Tarifa del viaje\n",
    "fare_cv <- coefficient.variation(sd=fare_sd, avg = fare_mean)\n",
    "# Monto de la propina\n",
    "tip_cv <- coefficient.variation(sd=tip_sd, avg = tip_mean)\n",
    "# Monto total\n",
    "total_cv <- coefficient.variation(sd=total_sd, avg = total_mean)\n",
    "# Duración del viaje\n",
    "duration_cv <- coefficient.variation(sd=duration_sd, avg = duration_mean)"
   ]
  },
  {
   "cell_type": "code",
   "execution_count": 155,
   "metadata": {},
   "outputs": [
    {
     "name": "stdout",
     "output_type": "stream",
     "text": [
      "[1] \"Coeficientes de variación para todo el primer cuatrimestre\"\n"
     ]
    },
    {
     "data": {
      "text/html": [
       "<table>\n",
       "<caption>A data.frame: 6 × 2</caption>\n",
       "<thead>\n",
       "\t<tr><th scope=col>columnas_cv</th><th scope=col>valores_cv</th></tr>\n",
       "\t<tr><th scope=col>&lt;fct&gt;</th><th scope=col>&lt;dbl&gt;</th></tr>\n",
       "</thead>\n",
       "<tbody>\n",
       "\t<tr><td>CV Pasajeros  </td><td>0.7572</td></tr>\n",
       "\t<tr><td>CV Distancia  </td><td>1.0576</td></tr>\n",
       "\t<tr><td>CV Tarifa     </td><td>0.7088</td></tr>\n",
       "\t<tr><td>CV Propina    </td><td>0.8282</td></tr>\n",
       "\t<tr><td>CV Costo Viaje</td><td>0.6595</td></tr>\n",
       "\t<tr><td>CV Duración   </td><td>0.7301</td></tr>\n",
       "</tbody>\n",
       "</table>\n"
      ],
      "text/latex": [
       "A data.frame: 6 × 2\n",
       "\\begin{tabular}{ll}\n",
       " columnas\\_cv & valores\\_cv\\\\\n",
       " <fct> & <dbl>\\\\\n",
       "\\hline\n",
       "\t CV Pasajeros   & 0.7572\\\\\n",
       "\t CV Distancia   & 1.0576\\\\\n",
       "\t CV Tarifa      & 0.7088\\\\\n",
       "\t CV Propina     & 0.8282\\\\\n",
       "\t CV Costo Viaje & 0.6595\\\\\n",
       "\t CV Duración    & 0.7301\\\\\n",
       "\\end{tabular}\n"
      ],
      "text/markdown": [
       "\n",
       "A data.frame: 6 × 2\n",
       "\n",
       "| columnas_cv &lt;fct&gt; | valores_cv &lt;dbl&gt; |\n",
       "|---|---|\n",
       "| CV Pasajeros   | 0.7572 |\n",
       "| CV Distancia   | 1.0576 |\n",
       "| CV Tarifa      | 0.7088 |\n",
       "| CV Propina     | 0.8282 |\n",
       "| CV Costo Viaje | 0.6595 |\n",
       "| CV Duración    | 0.7301 |\n",
       "\n"
      ],
      "text/plain": [
       "  columnas_cv    valores_cv\n",
       "1 CV Pasajeros   0.7572    \n",
       "2 CV Distancia   1.0576    \n",
       "3 CV Tarifa      0.7088    \n",
       "4 CV Propina     0.8282    \n",
       "5 CV Costo Viaje 0.6595    \n",
       "6 CV Duración    0.7301    "
      ]
     },
     "metadata": {},
     "output_type": "display_data"
    }
   ],
   "source": [
    "columnas_cv <- c(\"CV Pasajeros\", \"CV Distancia\", \"CV Tarifa\", \"CV Propina\", \"CV Costo Viaje\", \"CV Duración\")\n",
    "valores_cv <- round(c(passengers_cv, distance_cv, fare_cv, tip_cv, total_cv, duration_cv),4)\n",
    "cv_cuatrimestre <- data.frame(columnas_cv, valores_cv)\n",
    "print('Coeficientes de variación para todo el primer cuatrimestre')\n",
    "cv_cuatrimestre"
   ]
  },
  {
   "cell_type": "markdown",
   "metadata": {},
   "source": [
    "**Forma de distribución: Normalidad** :"
   ]
  },
  {
   "cell_type": "markdown",
   "metadata": {},
   "source": [
    "Para ver si nuestros datos se distribuyen normal, utilizaremos la Prueba Kolmogorov Smirnov que sirve para muestras grandes"
   ]
  },
  {
   "cell_type": "markdown",
   "metadata": {},
   "source": [
    "Debemos recordar que para determinar normalidad con esta prueba, se busca un valor p mayor a 0,05 para no rechazar la hipótesis nula de igualdad entre la distribución normal teórica y la distribución empírica."
   ]
  },
  {
   "cell_type": "markdown",
   "metadata": {},
   "source": [
    "Hagamos el test para una variable, esto nos dirá si en general, nuestros datos se distribuyen normal:"
   ]
  },
  {
   "cell_type": "code",
   "execution_count": 174,
   "metadata": {},
   "outputs": [
    {
     "name": "stderr",
     "output_type": "stream",
     "text": [
      "Warning message in ks.test(primer_cuatrimestre$Fare_amount, \"pnorm\", fare_mean, :\n",
      "\"ties should not be present for the Kolmogorov-Smirnov test\"\n"
     ]
    },
    {
     "data": {
      "text/plain": [
       "\n",
       "\tOne-sample Kolmogorov-Smirnov test\n",
       "\n",
       "data:  primer_cuatrimestre$Fare_amount\n",
       "D = 0.16244, p-value < 2.2e-16\n",
       "alternative hypothesis: two-sided\n"
      ]
     },
     "metadata": {},
     "output_type": "display_data"
    }
   ],
   "source": [
    "# Prueba para los datos de tarifa\n",
    "fare_ks <- ks.test(primer_cuatrimestre$Fare_amount, \"pnorm\", fare_mean, fare_sd)\n",
    "fare_ks"
   ]
  },
  {
   "cell_type": "code",
   "execution_count": 175,
   "metadata": {},
   "outputs": [
    {
     "data": {
      "text/html": [
       "FALSE"
      ],
      "text/latex": [
       "FALSE"
      ],
      "text/markdown": [
       "FALSE"
      ],
      "text/plain": [
       "[1] FALSE"
      ]
     },
     "metadata": {},
     "output_type": "display_data"
    },
    {
     "name": "stdout",
     "output_type": "stream",
     "text": [
      "[1] \"Los datos de pasajeros NO se distribuyen normal\"\n"
     ]
    }
   ],
   "source": [
    "fare_ks$p.value > 0.05\n",
    "print(\"Los datos de pasajeros NO se distribuyen normal\")"
   ]
  },
  {
   "cell_type": "markdown",
   "metadata": {},
   "source": [
    "Por lo tanto, nuestros datos NO se distribuyen normal"
   ]
  },
  {
   "cell_type": "markdown",
   "metadata": {},
   "source": [
    "**Cálculo de Intervalos de Confianza** :"
   ]
  },
  {
   "cell_type": "markdown",
   "metadata": {},
   "source": [
    "- Para proporciones"
   ]
  },
  {
   "cell_type": "code",
   "execution_count": 185,
   "metadata": {},
   "outputs": [
    {
     "data": {
      "text/plain": [
       "\n",
       "     0      1      2      3      4      5      6      7      8      9 \n",
       "  1759 687950  58372   8970   3711  27426  13176      1      5      1 "
      ]
     },
     "metadata": {},
     "output_type": "display_data"
    }
   ],
   "source": [
    "pasajeros_fa"
   ]
  },
  {
   "cell_type": "code",
   "execution_count": 191,
   "metadata": {},
   "outputs": [
    {
     "data": {
      "text/plain": [
       "\n",
       "\n",
       "\n",
       "data:  \n",
       "\n",
       "95 percent confidence interval:\n",
       " 0.01095576 0.01141471\n"
      ]
     },
     "metadata": {},
     "output_type": "display_data"
    }
   ],
   "source": [
    "# Intervalo de confianza para los pasajeros\n",
    "exactci(x = 8970, n = nrow(primer_cuatrimestre), conf.level = 0.95)"
   ]
  },
  {
   "cell_type": "markdown",
   "metadata": {},
   "source": [
    "____________________________________________________________________________________________________________\n",
    "#### ___SEGUNDO CUATRIMESTRE 2019___ "
   ]
  },
  {
   "cell_type": "code",
   "execution_count": null,
   "metadata": {},
   "outputs": [],
   "source": []
  },
  {
   "cell_type": "markdown",
   "metadata": {},
   "source": [
    "____________________________________________________________________________________________________________\n",
    "#### ___TERCER CUATRIMESTRE 2019___ "
   ]
  },
  {
   "cell_type": "code",
   "execution_count": null,
   "metadata": {},
   "outputs": [],
   "source": []
  }
 ],
 "metadata": {
  "kernelspec": {
   "display_name": "R",
   "language": "R",
   "name": "ir"
  },
  "language_info": {
   "codemirror_mode": "r",
   "file_extension": ".r",
   "mimetype": "text/x-r-source",
   "name": "R",
   "pygments_lexer": "r",
   "version": "3.6.0"
  }
 },
 "nbformat": 4,
 "nbformat_minor": 4
}
