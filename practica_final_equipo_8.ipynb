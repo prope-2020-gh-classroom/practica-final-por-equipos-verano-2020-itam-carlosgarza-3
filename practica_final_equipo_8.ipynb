{
 "cells": [
  {
   "cell_type": "markdown",
   "metadata": {},
   "source": [
    "# **Práctica Final por Equipo, Propedéutico de Estadística Verano 2020**\n",
    "____________________________________________________________________________________________________________"
   ]
  },
  {
   "cell_type": "markdown",
   "metadata": {},
   "source": [
    "### **Análisis descriptivo de los Taxis Verdes de la Ciudad de Nueva York durante 2019 en R, utilizando la paquetería de tidyverse y R base y las librerías de readr, ggplot2, modeest**\n"
   ]
  },
  {
   "cell_type": "markdown",
   "metadata": {},
   "source": [
    "### **Profr.** Erick Palacios Moreno\n",
    "### **Equipo 8**\n",
    "### **Integrantes**\n",
    "#### Carlos Garza (carlosgarza-3)\n",
    "#### Enrique Ortiz Casillas (EnriqueOrtiz27)\n",
    "#### Octavio Fuentes Ortiz (ofuentesitam)\n",
    "#### **Fecha de Entrega:** 19/07/2020\n",
    "____________________________________________________________________________________________________________"
   ]
  },
  {
   "cell_type": "markdown",
   "metadata": {},
   "source": [
    "**La base de datos de los Taxis Verdes, la obtuvimos de la página del Gobierno de la Ciudad de Nueva York.**"
   ]
  },
  {
   "cell_type": "markdown",
   "metadata": {},
   "source": [
    "**La base de datos se puede consultar en:**  *[Green Taxi Trip Records NYC](https://www1.nyc.gov/site/tlc/about/tlc-trip-record-data.page)* **.**\n",
    "\n",
    "**El diccionario de datos se puede consultar en:**  *[Green Trips Data Dictionary](https://www1.nyc.gov/assets/tlc/downloads/pdf/data_dictionary_trip_records_green.pdf)* **.**\n",
    "____________________________________________________________________________________________________________"
   ]
  },
  {
   "cell_type": "markdown",
   "metadata": {},
   "source": [
    "**Paqueterías utilizadas:**"
   ]
  },
  {
   "cell_type": "markdown",
   "metadata": {},
   "source": [
    "- *[tidyverse](https://www.tidyverse.org/)*."
   ]
  },
  {
   "cell_type": "code",
   "execution_count": 1,
   "metadata": {
    "collapsed": true,
    "jupyter": {
     "outputs_hidden": true
    }
   },
   "outputs": [
    {
     "name": "stderr",
     "output_type": "stream",
     "text": [
      "Warning message:\n",
      "\"package 'tidyverse' was built under R version 3.6.3\"\n",
      "-- \u001b[1mAttaching packages\u001b[22m --------------------------------------- tidyverse 1.3.0 --\n",
      "\n",
      "\u001b[32mv\u001b[39m \u001b[34mggplot2\u001b[39m 3.3.2     \u001b[32mv\u001b[39m \u001b[34mpurrr  \u001b[39m 0.3.4\n",
      "\u001b[32mv\u001b[39m \u001b[34mtibble \u001b[39m 3.0.2     \u001b[32mv\u001b[39m \u001b[34mdplyr  \u001b[39m 1.0.0\n",
      "\u001b[32mv\u001b[39m \u001b[34mtidyr  \u001b[39m 1.1.0     \u001b[32mv\u001b[39m \u001b[34mstringr\u001b[39m 1.4.0\n",
      "\u001b[32mv\u001b[39m \u001b[34mreadr  \u001b[39m 1.3.1     \u001b[32mv\u001b[39m \u001b[34mforcats\u001b[39m 0.5.0\n",
      "\n",
      "Warning message:\n",
      "\"package 'ggplot2' was built under R version 3.6.3\"\n",
      "Warning message:\n",
      "\"package 'tibble' was built under R version 3.6.3\"\n",
      "Warning message:\n",
      "\"package 'tidyr' was built under R version 3.6.3\"\n",
      "Warning message:\n",
      "\"package 'readr' was built under R version 3.6.3\"\n",
      "Warning message:\n",
      "\"package 'purrr' was built under R version 3.6.3\"\n",
      "Warning message:\n",
      "\"package 'dplyr' was built under R version 3.6.3\"\n",
      "Warning message:\n",
      "\"package 'stringr' was built under R version 3.6.3\"\n",
      "Warning message:\n",
      "\"package 'forcats' was built under R version 3.6.3\"\n",
      "-- \u001b[1mConflicts\u001b[22m ------------------------------------------ tidyverse_conflicts() --\n",
      "\u001b[31mx\u001b[39m \u001b[34mdplyr\u001b[39m::\u001b[32mfilter()\u001b[39m masks \u001b[34mstats\u001b[39m::filter()\n",
      "\u001b[31mx\u001b[39m \u001b[34mdplyr\u001b[39m::\u001b[32mlag()\u001b[39m    masks \u001b[34mstats\u001b[39m::lag()\n",
      "\n"
     ]
    }
   ],
   "source": [
    "#install.packages(\"tidyverse\")\n",
    "library(tidyverse) #ggplot2,tibble,tidyr,readr,purrr,dplyr,stringr,forcats"
   ]
  },
  {
   "cell_type": "markdown",
   "metadata": {},
   "source": [
    "- *[modeest](https://www.rdocumentation.org/packages/modeest/versions/2.4.0#:~:text=modeest%3A%20Estimation%20of%20the%20mode,modes%20of%20usual%20probability%20distributions.)*."
   ]
  },
  {
   "cell_type": "code",
   "execution_count": 2,
   "metadata": {
    "collapsed": true,
    "jupyter": {
     "outputs_hidden": true
    }
   },
   "outputs": [
    {
     "name": "stderr",
     "output_type": "stream",
     "text": [
      "Warning message:\n",
      "\"package 'modeest' was built under R version 3.6.3\"\n",
      "Registered S3 method overwritten by 'rmutil':\n",
      "  method         from\n",
      "  print.response httr\n",
      "\n"
     ]
    }
   ],
   "source": [
    "#install.packages(\"modeest\")\n",
    "library(modeest)"
   ]
  },
  {
   "cell_type": "markdown",
   "metadata": {},
   "source": [
    "- *[R base](https://rstudio.com/wp-content/uploads/2016/05/base-r.pdf)*."
   ]
  },
  {
   "cell_type": "markdown",
   "metadata": {},
   "source": [
    "**Librerías utilizadas:**"
   ]
  },
  {
   "cell_type": "markdown",
   "metadata": {},
   "source": [
    "- *[readr](https://readr.tidyverse.org/)*."
   ]
  },
  {
   "cell_type": "code",
   "execution_count": 3,
   "metadata": {},
   "outputs": [],
   "source": [
    "library(readr)"
   ]
  },
  {
   "cell_type": "markdown",
   "metadata": {},
   "source": [
    "- *[ggplot2](https://ggplot2.tidyverse.org/)*."
   ]
  },
  {
   "cell_type": "code",
   "execution_count": 4,
   "metadata": {},
   "outputs": [],
   "source": [
    "library(ggplot2)"
   ]
  },
  {
   "cell_type": "markdown",
   "metadata": {},
   "source": [
    "____________________________________________________________________________________________________________"
   ]
  },
  {
   "cell_type": "markdown",
   "metadata": {},
   "source": [
    "Establecemos el directorio donde tenemos nuestras BBDD:"
   ]
  },
  {
   "cell_type": "code",
   "execution_count": 82,
   "metadata": {},
   "outputs": [],
   "source": [
    "setwd(\"C:/Users/ofuentes/Desktop/green_taxi_records\")"
   ]
  },
  {
   "cell_type": "markdown",
   "metadata": {},
   "source": [
    "____________________________________________________________________________________________________________"
   ]
  },
  {
   "cell_type": "markdown",
   "metadata": {},
   "source": [
    "#### ___LIMPIEZA DE DATOS___ "
   ]
  },
  {
   "cell_type": "markdown",
   "metadata": {},
   "source": [
    "Antes de empezar con el análisis descriptivo de nuestros datos es necesario saber con qué datos estamos trabajando y sobretodo, si éstos están limpios. El procedimiento y explicación de nuestra limpieza de datos, se encuentra en el repositorio de nuestra Práctica Final: [data_exploration.ipynb](https://github.com/prope-2020-gh-classroom/practica-final-por-equipos-verano-2020-itam-carlosgarza-3/blob/master/tercer_cuatrimestre/data_exploration.ipynb)."
   ]
  },
  {
   "cell_type": "markdown",
   "metadata": {},
   "source": [
    "Nuestras funciones de limpieza y adición de columnas, se resumen en la función **\"data_pipeline\"**:"
   ]
  },
  {
   "cell_type": "code",
   "execution_count": 84,
   "metadata": {},
   "outputs": [],
   "source": [
    "clean_dataframe <- function(data_frame) {\n",
    "    #function to remove unnecessary cols in r dataframe and na's\n",
    "    data_frame$VendorID <- NULL\n",
    "    data_frame$store_and_fwd_flag <- NULL\n",
    "    data_frame$PULocationID <- NULL\n",
    "    data_frame$DOLocationID <- NULL\n",
    "    data_frame$RatecodeID <- NULL\n",
    "    data_frame$ehail_fee <- NULL\n",
    "    data_frame$improvement_surcharge <- NULL \n",
    "    data_frame$tolls_amount <- NULL \n",
    "    data_frame$mta_tax <- NULL \n",
    "    data_frame$extra <- NULL \n",
    "    data_frame$congestion_surcharge <- NULL\n",
    "    return(data_frame[complete.cases(data_frame),])\n",
    "}\n",
    "\n",
    "\n",
    "add_columns <- function(data_frame, month) {\n",
    "    #function to add 2 columns to data frame to improve analysis\n",
    "    #first we add trip duration in hours\n",
    "    data_frame$lpep_dropoff_datetime <- as.POSIXct(data_frame$lpep_dropoff_datetime,\n",
    "                                      format='%Y-%m-%d %H:%M:%S')\n",
    "    data_frame$lpep_pickup_datetime <- as.POSIXct(data_frame$lpep_pickup_datetime,\n",
    "                                      format='%Y-%m-%d %H:%M:%S')\n",
    "    data_frame$trip_duration <- as.numeric(difftime(data_frame[,2], data_frame[,1], units=\"hours\"))\n",
    "    \n",
    "    #then we add tip percentage\n",
    "    data_frame$tip_pct <- data_frame$tip_amount / data_frame$total_amount\n",
    "    data_frame$month <- month\n",
    "    data_frame <- data_frame[data_frame$trip_duration<5,]\n",
    "    data_frame <- data_frame[data_frame$total_amount > 0,]\n",
    "    data_frame <- data_frame[data_frame$fare_amount > 0,]\n",
    "    data_frame <- data_frame[data_frame$tip_amount > 0,]\n",
    "    data_frame <- data_frame[data_frame$trip_duration >0,]\n",
    "    data_frame <- data_frame[data_frame$trip_distance >0,]\n",
    "    return(data_frame)\n",
    "}\n",
    "\n",
    "\n",
    "data_pipeline <- function(csv, month){\n",
    "    #function to include all cleaning and transformation functions \n",
    "    data <- read.csv(csv)\n",
    "    data <- clean_dataframe(data)\n",
    "    data <- add_columns(data, month)\n",
    "    return(data)\n",
    "}"
   ]
  },
  {
   "cell_type": "markdown",
   "metadata": {},
   "source": [
    "Aplicamos **data_pipeline** para el **primer cuatrimestre:**"
   ]
  },
  {
   "cell_type": "code",
   "execution_count": 85,
   "metadata": {},
   "outputs": [],
   "source": [
    "enero_data <- data_pipeline('green_tripdata_2019-01.csv', 'Enero')\n",
    "febrero_data <- data_pipeline('green_tripdata_2019-02.csv', 'Febrero')\n",
    "marzo_data <- data_pipeline('green_tripdata_2019-03.csv', 'Marzo')\n",
    "abril_data <- data_pipeline('green_tripdata_2019-04.csv', 'Abril')"
   ]
  },
  {
   "cell_type": "markdown",
   "metadata": {},
   "source": [
    "Juntamos nuestro **primer cuatrimestre** y lo exportamos a un archivo .csv (para posteriormente leerlo):"
   ]
  },
  {
   "cell_type": "code",
   "execution_count": 86,
   "metadata": {
    "collapsed": true,
    "jupyter": {
     "outputs_hidden": true
    }
   },
   "outputs": [
    {
     "name": "stderr",
     "output_type": "stream",
     "text": [
      "Warning message:\n",
      "\"Missing column names filled in: 'X1' [1]\"\n",
      "Parsed with column specification:\n",
      "cols(\n",
      "  X1 = \u001b[31mcol_character()\u001b[39m,\n",
      "  lpep_pickup_datetime = \u001b[34mcol_datetime(format = \"\")\u001b[39m,\n",
      "  lpep_dropoff_datetime = \u001b[34mcol_datetime(format = \"\")\u001b[39m,\n",
      "  passenger_count = \u001b[32mcol_double()\u001b[39m,\n",
      "  trip_distance = \u001b[32mcol_double()\u001b[39m,\n",
      "  fare_amount = \u001b[32mcol_double()\u001b[39m,\n",
      "  tip_amount = \u001b[32mcol_double()\u001b[39m,\n",
      "  total_amount = \u001b[32mcol_double()\u001b[39m,\n",
      "  payment_type = \u001b[32mcol_double()\u001b[39m,\n",
      "  trip_type = \u001b[32mcol_double()\u001b[39m,\n",
      "  trip_duration = \u001b[32mcol_double()\u001b[39m,\n",
      "  tip_pct = \u001b[32mcol_double()\u001b[39m,\n",
      "  month = \u001b[31mcol_character()\u001b[39m\n",
      ")\n",
      "\n"
     ]
    }
   ],
   "source": [
    "cuatrimestre1_data <- bind_rows(enero_data, febrero_data, marzo_data, abril_data)\n",
    "write.csv(x = cuatrimestre1_data, file = \"primer_cuatri.csv\")\n",
    "primer_cuatrimestre <- read_csv('primer_cuatri.csv')\n",
    "# Colocamos nombre a las columnas:\n",
    "colnames(primer_cuatrimestre) <- c(\"X1\",\"Pick_up\",\"Dropp_off\",\"Passengers\",\"Trip_distance\",\"Fare_amount\",\n",
    "                                   \"Tip_amount\", \"Total_amount\",\"Payment_type\", \"Trip_type\", \"Trip_duration\",\n",
    "                                   \"Tip_pct\", \"Month\")"
   ]
  },
  {
   "cell_type": "markdown",
   "metadata": {},
   "source": [
    "Vemos la estructura de la base de datos ya limpia:"
   ]
  },
  {
   "cell_type": "code",
   "execution_count": 87,
   "metadata": {},
   "outputs": [
    {
     "name": "stdout",
     "output_type": "stream",
     "text": [
      "tibble [802,074 x 13] (S3: spec_tbl_df/tbl_df/tbl/data.frame)\n",
      " $ X1           : chr [1:802074] \"...1\" \"...2\" \"...3\" \"...4\" ...\n",
      " $ Pick_up      : POSIXct[1:802074], format: \"2019-01-01 00:46:20\" \"2019-01-01 00:37:00\" ...\n",
      " $ Dropp_off    : POSIXct[1:802074], format: \"2019-01-01 01:04:54\" \"2019-01-01 00:56:42\" ...\n",
      " $ Passengers   : num [1:802074] 2 1 2 1 1 1 1 1 1 5 ...\n",
      " $ Trip_distance: num [1:802074] 2.68 6.84 1.15 1.2 5.5 5.01 0.43 2.72 2.15 2.18 ...\n",
      " $ Fare_amount  : num [1:802074] 13.5 22 6.5 7.5 19.5 20 4 10.5 10.5 9.5 ...\n",
      " $ Tip_amount   : num [1:802074] 2.96 8 1.56 5.2 4.15 4.26 1.06 2.36 2.95 3.24 ...\n",
      " $ Total_amount : num [1:802074] 19.71 37.06 9.36 14 24.95 ...\n",
      " $ Payment_type : num [1:802074] 1 1 1 1 1 1 1 1 1 1 ...\n",
      " $ Trip_type    : num [1:802074] 1 1 1 1 1 1 1 1 1 1 ...\n",
      " $ Trip_duration: num [1:802074] 0.309 0.328 0.12 0.147 0.351 ...\n",
      " $ Tip_pct      : num [1:802074] 0.15 0.216 0.167 0.371 0.166 ...\n",
      " $ Month        : chr [1:802074] \"Enero\" \"Enero\" \"Enero\" \"Enero\" ...\n",
      " - attr(*, \"spec\")=\n",
      "  .. cols(\n",
      "  ..   X1 = \u001b[31mcol_character()\u001b[39m,\n",
      "  ..   lpep_pickup_datetime = \u001b[34mcol_datetime(format = \"\")\u001b[39m,\n",
      "  ..   lpep_dropoff_datetime = \u001b[34mcol_datetime(format = \"\")\u001b[39m,\n",
      "  ..   passenger_count = \u001b[32mcol_double()\u001b[39m,\n",
      "  ..   trip_distance = \u001b[32mcol_double()\u001b[39m,\n",
      "  ..   fare_amount = \u001b[32mcol_double()\u001b[39m,\n",
      "  ..   tip_amount = \u001b[32mcol_double()\u001b[39m,\n",
      "  ..   total_amount = \u001b[32mcol_double()\u001b[39m,\n",
      "  ..   payment_type = \u001b[32mcol_double()\u001b[39m,\n",
      "  ..   trip_type = \u001b[32mcol_double()\u001b[39m,\n",
      "  ..   trip_duration = \u001b[32mcol_double()\u001b[39m,\n",
      "  ..   tip_pct = \u001b[32mcol_double()\u001b[39m,\n",
      "  ..   month = \u001b[31mcol_character()\u001b[39m\n",
      "  .. )\n"
     ]
    }
   ],
   "source": [
    "str(primer_cuatrimestre)"
   ]
  },
  {
   "cell_type": "markdown",
   "metadata": {},
   "source": [
    "Vemos un resumen de cada una de las columnas de la base de datos antes de empezar:"
   ]
  },
  {
   "cell_type": "code",
   "execution_count": 110,
   "metadata": {},
   "outputs": [
    {
     "data": {
      "text/plain": [
       "      X1               Pick_up                      Dropp_off                  \n",
       " Length:802074      Min.   :2009-01-01 00:12:45   Min.   :2009-01-01 00:22:56  \n",
       " Class :character   1st Qu.:2019-01-30 14:47:39   1st Qu.:2019-01-30 15:01:48  \n",
       " Mode  :character   Median :2019-02-28 14:12:57   Median :2019-02-28 14:26:24  \n",
       "                    Mean   :2019-03-01 07:28:14   Mean   :2019-03-01 07:41:09  \n",
       "                    3rd Qu.:2019-03-31 08:32:16   3rd Qu.:2019-03-31 08:42:11  \n",
       "                    Max.   :2019-06-15 04:36:12   Max.   :2019-06-15 04:44:15  \n",
       "                    NA's   :703                   NA's   :703                  \n",
       "   Passengers    Trip_distance      Fare_amount       Tip_amount     \n",
       " Min.   :0.000   Min.   :  0.010   Min.   :  0.01   Min.   :  0.010  \n",
       " 1st Qu.:1.000   1st Qu.:  1.100   1st Qu.:  6.50   1st Qu.:  1.460  \n",
       " Median :1.000   Median :  1.860   Median :  9.50   Median :  2.060  \n",
       " Mean   :1.326   Mean   :  2.772   Mean   : 11.93   Mean   :  2.652  \n",
       " 3rd Qu.:1.000   3rd Qu.:  3.400   3rd Qu.: 14.50   3rd Qu.:  3.160  \n",
       " Max.   :9.000   Max.   :666.600   Max.   :300.00   Max.   :440.000  \n",
       " NA's   :703     NA's   :703       NA's   :703      NA's   :703      \n",
       "  Total_amount     Payment_type   Trip_type     Trip_duration   \n",
       " Min.   :  0.09   Min.   :1     Min.   :1.000   Min.   :0.0003  \n",
       " 1st Qu.:  9.36   1st Qu.:1     1st Qu.:1.000   1st Qu.:0.1069  \n",
       " Median : 13.00   Median :1     Median :1.000   Median :0.1739  \n",
       " Mean   : 16.46   Mean   :1     Mean   :1.006   Mean   :0.2152  \n",
       " 3rd Qu.: 19.85   3rd Qu.:1     3rd Qu.:1.000   3rd Qu.:0.2758  \n",
       " Max.   :479.05   Max.   :4     Max.   :2.000   Max.   :4.9881  \n",
       " NA's   :703      NA's   :703   NA's   :703     NA's   :703     \n",
       "    Tip_pct          Month          \n",
       " Min.   :0.0001   Length:802074     \n",
       " 1st Qu.:0.1546   Class :character  \n",
       " Median :0.1667   Mode  :character  \n",
       " Mean   :0.1630                     \n",
       " 3rd Qu.:0.1667                     \n",
       " Max.   :0.9901                     \n",
       " NA's   :703                        "
      ]
     },
     "metadata": {},
     "output_type": "display_data"
    }
   ],
   "source": [
    "summary(primer_cuatrimestre)"
   ]
  },
  {
   "cell_type": "markdown",
   "metadata": {},
   "source": [
    "____________________________________________________________________________________________________________"
   ]
  },
  {
   "cell_type": "markdown",
   "metadata": {},
   "source": [
    "#### ___PRIMER CUATRIMESTRE 2019___ "
   ]
  },
  {
   "cell_type": "markdown",
   "metadata": {},
   "source": [
    "- Nuestros datos se ven así:"
   ]
  },
  {
   "cell_type": "code",
   "execution_count": 10,
   "metadata": {},
   "outputs": [
    {
     "data": {
      "text/html": [
       "<table>\n",
       "<caption>A tibble: 1 × 13</caption>\n",
       "<thead>\n",
       "\t<tr><th scope=col>X1</th><th scope=col>Pick_up</th><th scope=col>Dropp_off</th><th scope=col>Passengers</th><th scope=col>Trip_distance</th><th scope=col>Fare_amount</th><th scope=col>Tip_amount</th><th scope=col>Total_amount</th><th scope=col>Payment_type</th><th scope=col>Trip_type</th><th scope=col>Trip_duration</th><th scope=col>Tip_pct</th><th scope=col>Month</th></tr>\n",
       "\t<tr><th scope=col>&lt;chr&gt;</th><th scope=col>&lt;dttm&gt;</th><th scope=col>&lt;dttm&gt;</th><th scope=col>&lt;dbl&gt;</th><th scope=col>&lt;dbl&gt;</th><th scope=col>&lt;dbl&gt;</th><th scope=col>&lt;dbl&gt;</th><th scope=col>&lt;dbl&gt;</th><th scope=col>&lt;dbl&gt;</th><th scope=col>&lt;dbl&gt;</th><th scope=col>&lt;dbl&gt;</th><th scope=col>&lt;dbl&gt;</th><th scope=col>&lt;chr&gt;</th></tr>\n",
       "</thead>\n",
       "<tbody>\n",
       "\t<tr><td>...1</td><td>2019-01-01 00:46:20</td><td>2019-01-01 01:04:54</td><td>2</td><td>2.68</td><td>13.5</td><td>2.96</td><td>19.71</td><td>1</td><td>1</td><td>0.3094444</td><td>0.1501776</td><td>Enero</td></tr>\n",
       "</tbody>\n",
       "</table>\n"
      ],
      "text/latex": [
       "A tibble: 1 × 13\n",
       "\\begin{tabular}{lllllllllllll}\n",
       " X1 & Pick\\_up & Dropp\\_off & Passengers & Trip\\_distance & Fare\\_amount & Tip\\_amount & Total\\_amount & Payment\\_type & Trip\\_type & Trip\\_duration & Tip\\_pct & Month\\\\\n",
       " <chr> & <dttm> & <dttm> & <dbl> & <dbl> & <dbl> & <dbl> & <dbl> & <dbl> & <dbl> & <dbl> & <dbl> & <chr>\\\\\n",
       "\\hline\n",
       "\t ...1 & 2019-01-01 00:46:20 & 2019-01-01 01:04:54 & 2 & 2.68 & 13.5 & 2.96 & 19.71 & 1 & 1 & 0.3094444 & 0.1501776 & Enero\\\\\n",
       "\\end{tabular}\n"
      ],
      "text/markdown": [
       "\n",
       "A tibble: 1 × 13\n",
       "\n",
       "| X1 &lt;chr&gt; | Pick_up &lt;dttm&gt; | Dropp_off &lt;dttm&gt; | Passengers &lt;dbl&gt; | Trip_distance &lt;dbl&gt; | Fare_amount &lt;dbl&gt; | Tip_amount &lt;dbl&gt; | Total_amount &lt;dbl&gt; | Payment_type &lt;dbl&gt; | Trip_type &lt;dbl&gt; | Trip_duration &lt;dbl&gt; | Tip_pct &lt;dbl&gt; | Month &lt;chr&gt; |\n",
       "|---|---|---|---|---|---|---|---|---|---|---|---|---|\n",
       "| ...1 | 2019-01-01 00:46:20 | 2019-01-01 01:04:54 | 2 | 2.68 | 13.5 | 2.96 | 19.71 | 1 | 1 | 0.3094444 | 0.1501776 | Enero |\n",
       "\n"
      ],
      "text/plain": [
       "  X1   Pick_up             Dropp_off           Passengers Trip_distance\n",
       "1 ...1 2019-01-01 00:46:20 2019-01-01 01:04:54 2          2.68         \n",
       "  Fare_amount Tip_amount Total_amount Payment_type Trip_type Trip_duration\n",
       "1 13.5        2.96       19.71        1            1         0.3094444    \n",
       "  Tip_pct   Month\n",
       "1 0.1501776 Enero"
      ]
     },
     "metadata": {},
     "output_type": "display_data"
    },
    {
     "data": {
      "text/html": [
       "<table>\n",
       "<caption>A tibble: 1 × 13</caption>\n",
       "<thead>\n",
       "\t<tr><th scope=col>X1</th><th scope=col>Pick_up</th><th scope=col>Dropp_off</th><th scope=col>Passengers</th><th scope=col>Trip_distance</th><th scope=col>Fare_amount</th><th scope=col>Tip_amount</th><th scope=col>Total_amount</th><th scope=col>Payment_type</th><th scope=col>Trip_type</th><th scope=col>Trip_duration</th><th scope=col>Tip_pct</th><th scope=col>Month</th></tr>\n",
       "\t<tr><th scope=col>&lt;chr&gt;</th><th scope=col>&lt;dttm&gt;</th><th scope=col>&lt;dttm&gt;</th><th scope=col>&lt;dbl&gt;</th><th scope=col>&lt;dbl&gt;</th><th scope=col>&lt;dbl&gt;</th><th scope=col>&lt;dbl&gt;</th><th scope=col>&lt;dbl&gt;</th><th scope=col>&lt;dbl&gt;</th><th scope=col>&lt;dbl&gt;</th><th scope=col>&lt;dbl&gt;</th><th scope=col>&lt;dbl&gt;</th><th scope=col>&lt;chr&gt;</th></tr>\n",
       "</thead>\n",
       "<tbody>\n",
       "\t<tr><td>514390</td><td>2019-04-30 23:40:13</td><td>2019-04-30 23:46:50</td><td>1</td><td>1.02</td><td>6.5</td><td>1.56</td><td>9.36</td><td>1</td><td>1</td><td>0.1102778</td><td>0.1666667</td><td>Abril</td></tr>\n",
       "</tbody>\n",
       "</table>\n"
      ],
      "text/latex": [
       "A tibble: 1 × 13\n",
       "\\begin{tabular}{lllllllllllll}\n",
       " X1 & Pick\\_up & Dropp\\_off & Passengers & Trip\\_distance & Fare\\_amount & Tip\\_amount & Total\\_amount & Payment\\_type & Trip\\_type & Trip\\_duration & Tip\\_pct & Month\\\\\n",
       " <chr> & <dttm> & <dttm> & <dbl> & <dbl> & <dbl> & <dbl> & <dbl> & <dbl> & <dbl> & <dbl> & <dbl> & <chr>\\\\\n",
       "\\hline\n",
       "\t 514390 & 2019-04-30 23:40:13 & 2019-04-30 23:46:50 & 1 & 1.02 & 6.5 & 1.56 & 9.36 & 1 & 1 & 0.1102778 & 0.1666667 & Abril\\\\\n",
       "\\end{tabular}\n"
      ],
      "text/markdown": [
       "\n",
       "A tibble: 1 × 13\n",
       "\n",
       "| X1 &lt;chr&gt; | Pick_up &lt;dttm&gt; | Dropp_off &lt;dttm&gt; | Passengers &lt;dbl&gt; | Trip_distance &lt;dbl&gt; | Fare_amount &lt;dbl&gt; | Tip_amount &lt;dbl&gt; | Total_amount &lt;dbl&gt; | Payment_type &lt;dbl&gt; | Trip_type &lt;dbl&gt; | Trip_duration &lt;dbl&gt; | Tip_pct &lt;dbl&gt; | Month &lt;chr&gt; |\n",
       "|---|---|---|---|---|---|---|---|---|---|---|---|---|\n",
       "| 514390 | 2019-04-30 23:40:13 | 2019-04-30 23:46:50 | 1 | 1.02 | 6.5 | 1.56 | 9.36 | 1 | 1 | 0.1102778 | 0.1666667 | Abril |\n",
       "\n"
      ],
      "text/plain": [
       "  X1     Pick_up             Dropp_off           Passengers Trip_distance\n",
       "1 514390 2019-04-30 23:40:13 2019-04-30 23:46:50 1          1.02         \n",
       "  Fare_amount Tip_amount Total_amount Payment_type Trip_type Trip_duration\n",
       "1 6.5         1.56       9.36         1            1         0.1102778    \n",
       "  Tip_pct   Month\n",
       "1 0.1666667 Abril"
      ]
     },
     "metadata": {},
     "output_type": "display_data"
    }
   ],
   "source": [
    "# Enero\n",
    "head(primer_cuatrimestre, n = 1)\n",
    "# Abril\n",
    "tail(primer_cuatrimestre, n = 1)"
   ]
  },
  {
   "cell_type": "markdown",
   "metadata": {},
   "source": [
    "**Medidas de Tendencia Central** :"
   ]
  },
  {
   "cell_type": "markdown",
   "metadata": {},
   "source": [
    "- Medias del **primer cuatrimestre**"
   ]
  },
  {
   "cell_type": "code",
   "execution_count": 11,
   "metadata": {},
   "outputs": [],
   "source": [
    "# Media de pasajeros\n",
    "passengers_mean <-as.numeric(format(round(mean(primer_cuatrimestre$Passengers, na.rm = TRUE), 2), nsmall = 2))\n",
    "# Media de la distancia del viaje\n",
    "trip_mean <- as.numeric(format(round(mean(primer_cuatrimestre$Trip_distance, na.rm = TRUE), 2), nsmall = 2))\n",
    "# Media de la tarifa\n",
    "fare_mean <- as.numeric(format(round(mean(primer_cuatrimestre$Fare_amount, na.rm = TRUE), 2), nsmall = 2))\n",
    "# Media de la propina\n",
    "tip_mean <- as.numeric(format(round(mean(primer_cuatrimestre$Tip_amount, na.rm = TRUE), 2), nsmall = 2))\n",
    "# Media del costo total del viaje\n",
    "total_mean <- as.numeric(format(round(mean(primer_cuatrimestre$Total_amount, na.rm = TRUE), 2), nsmall = 2))\n",
    "# Media de la duración del viaje\n",
    "duration_mean <- as.numeric(format(round(mean(primer_cuatrimestre$Trip_duration, na.rm = TRUE), 2), nsmall = 2))"
   ]
  },
  {
   "cell_type": "code",
   "execution_count": 12,
   "metadata": {},
   "outputs": [],
   "source": [
    "columnas <- c(\"Media Pasajeros\", \"Media Distancia\", \"Media Tarifa\", \"Media Propina\", \"Media Costo Viaje\",\n",
    "             \"Media Duración\")\n",
    "valores <- c(passengers_mean, trip_mean, fare_mean, tip_mean, total_mean, duration_mean)\n",
    "medias_cuatrimestre <- data.frame(columnas, valores)"
   ]
  },
  {
   "cell_type": "markdown",
   "metadata": {},
   "source": [
    "- Medianas del **primer cuatrimestre**"
   ]
  },
  {
   "cell_type": "code",
   "execution_count": 13,
   "metadata": {},
   "outputs": [],
   "source": [
    "# Mediana de pasajeros\n",
    "passengers_median <-as.numeric(format(round(median(primer_cuatrimestre$Passengers, na.rm = TRUE), 2), nsmall = 2))\n",
    "# Mediana de la distancia del viaje\n",
    "trip_median <- as.numeric(format(round(median(primer_cuatrimestre$Trip_distance, na.rm = TRUE), 2), nsmall = 2))\n",
    "# Mediana de la tarifa\n",
    "fare_median <- as.numeric(format(round(median(primer_cuatrimestre$Fare_amount, na.rm = TRUE), 2), nsmall = 2))\n",
    "# Mediana de la propina\n",
    "tip_median <- as.numeric(format(round(median(primer_cuatrimestre$Tip_amount, na.rm = TRUE), 2), nsmall = 2))\n",
    "# Mediana del costo total del viaje\n",
    "total_median <- as.numeric(format(round(median(primer_cuatrimestre$Total_amount, na.rm = TRUE), 2), nsmall = 2))\n",
    "# Mediana de la duración del viaje\n",
    "duration_median <- as.numeric(format(round(median(primer_cuatrimestre$Trip_duration, na.rm = TRUE), 2), nsmall = 2))"
   ]
  },
  {
   "cell_type": "code",
   "execution_count": 14,
   "metadata": {},
   "outputs": [],
   "source": [
    "columnas_median <- c(\"Mediana Pasajeros\", \"Mediana Distancia\", \"Mediana Tarifa\", \"Mediana Propina\", \n",
    "                     \"Mediana Costo Viaje\", \"Mediana Duración\")\n",
    "valores_median <- c(passengers_median, trip_median, fare_median, tip_median, total_median, duration_median)\n",
    "medianas_cuatrimestre <- data.frame(columnas_median, valores_median)"
   ]
  },
  {
   "cell_type": "markdown",
   "metadata": {},
   "source": [
    "- Modas del **primer cuatrimestre**"
   ]
  },
  {
   "cell_type": "code",
   "execution_count": 15,
   "metadata": {},
   "outputs": [],
   "source": [
    "# Moda de pasajeros\n",
    "passengers_mode <-as.numeric(format(round(mfv(primer_cuatrimestre$Passengers, na_rm = TRUE), 2), nsmall = 2))\n",
    "# Moda de la distancia del viaje\n",
    "trip_mode <- as.numeric(format(round(mfv(primer_cuatrimestre$Trip_distance, na_rm = TRUE), 2), nsmall = 2))\n",
    "# Moda de la tarifa\n",
    "fare_mode <- as.numeric(format(round(mfv(primer_cuatrimestre$Fare_amount, na_rm = TRUE), 2), nsmall = 2))\n",
    "# Moda de la propina\n",
    "tip_mode <- as.numeric(format(round(mfv(primer_cuatrimestre$Tip_amount, na_rm = TRUE), 2), nsmall = 2)) \n",
    "# Moda del costo total del viaje\n",
    "total_mode <- as.numeric(format(round(mfv(primer_cuatrimestre$Total_amount, na_rm = TRUE), 2), nsmall = 2)) \n",
    "# Moda de la duración del viaje\n",
    "duration_mode <- as.numeric(format(round(mfv(primer_cuatrimestre$Trip_duration, na_rm = TRUE)), 2), nsmall = 2)"
   ]
  },
  {
   "cell_type": "code",
   "execution_count": 16,
   "metadata": {},
   "outputs": [],
   "source": [
    "columnas_mode <- c(\"Moda Pasajeros\", \"Moda Distancia\", \"Moda Tarifa\", \"Moda Propina\", \"Moda Costo Viaje\", \n",
    "                   \"Moda Duración\")\n",
    "valores_mode <- c(passengers_mode, trip_mode, fare_mode, tip_mode, total_mode, duration_mode)\n",
    "modas_cuatrimestre <- data.frame(columnas_mode, valores_mode)"
   ]
  },
  {
   "cell_type": "markdown",
   "metadata": {},
   "source": [
    "**Las medias quedan así:**"
   ]
  },
  {
   "cell_type": "code",
   "execution_count": 88,
   "metadata": {},
   "outputs": [
    {
     "name": "stdout",
     "output_type": "stream",
     "text": [
      "[1] \"Medias de todo el primer cuatrimestre\"\n"
     ]
    },
    {
     "data": {
      "text/html": [
       "<table>\n",
       "<caption>A data.frame: 6 × 2</caption>\n",
       "<thead>\n",
       "\t<tr><th scope=col>columnas</th><th scope=col>valores</th></tr>\n",
       "\t<tr><th scope=col>&lt;fct&gt;</th><th scope=col>&lt;dbl&gt;</th></tr>\n",
       "</thead>\n",
       "<tbody>\n",
       "\t<tr><td>Media Pasajeros  </td><td> 1.33</td></tr>\n",
       "\t<tr><td>Media Distancia  </td><td> 2.75</td></tr>\n",
       "\t<tr><td>Media Tarifa     </td><td>11.94</td></tr>\n",
       "\t<tr><td>Media Propina    </td><td> 2.66</td></tr>\n",
       "\t<tr><td>Media Costo Viaje</td><td>16.46</td></tr>\n",
       "\t<tr><td>Media Duración   </td><td> 0.21</td></tr>\n",
       "</tbody>\n",
       "</table>\n"
      ],
      "text/latex": [
       "A data.frame: 6 × 2\n",
       "\\begin{tabular}{ll}\n",
       " columnas & valores\\\\\n",
       " <fct> & <dbl>\\\\\n",
       "\\hline\n",
       "\t Media Pasajeros   &  1.33\\\\\n",
       "\t Media Distancia   &  2.75\\\\\n",
       "\t Media Tarifa      & 11.94\\\\\n",
       "\t Media Propina     &  2.66\\\\\n",
       "\t Media Costo Viaje & 16.46\\\\\n",
       "\t Media Duración    &  0.21\\\\\n",
       "\\end{tabular}\n"
      ],
      "text/markdown": [
       "\n",
       "A data.frame: 6 × 2\n",
       "\n",
       "| columnas &lt;fct&gt; | valores &lt;dbl&gt; |\n",
       "|---|---|\n",
       "| Media Pasajeros   |  1.33 |\n",
       "| Media Distancia   |  2.75 |\n",
       "| Media Tarifa      | 11.94 |\n",
       "| Media Propina     |  2.66 |\n",
       "| Media Costo Viaje | 16.46 |\n",
       "| Media Duración    |  0.21 |\n",
       "\n"
      ],
      "text/plain": [
       "  columnas          valores\n",
       "1 Media Pasajeros    1.33  \n",
       "2 Media Distancia    2.75  \n",
       "3 Media Tarifa      11.94  \n",
       "4 Media Propina      2.66  \n",
       "5 Media Costo Viaje 16.46  \n",
       "6 Media Duración     0.21  "
      ]
     },
     "metadata": {},
     "output_type": "display_data"
    }
   ],
   "source": [
    "print('Medias de todo el primer cuatrimestre')\n",
    "medias_cuatrimestre"
   ]
  },
  {
   "cell_type": "markdown",
   "metadata": {},
   "source": [
    "**Las medianas quedan así:**"
   ]
  },
  {
   "cell_type": "code",
   "execution_count": 89,
   "metadata": {},
   "outputs": [
    {
     "name": "stdout",
     "output_type": "stream",
     "text": [
      "[1] \"Medianas de todo el primer cuatrimestre\"\n"
     ]
    },
    {
     "data": {
      "text/html": [
       "<table>\n",
       "<caption>A data.frame: 6 × 2</caption>\n",
       "<thead>\n",
       "\t<tr><th scope=col>columnas_median</th><th scope=col>valores_median</th></tr>\n",
       "\t<tr><th scope=col>&lt;fct&gt;</th><th scope=col>&lt;dbl&gt;</th></tr>\n",
       "</thead>\n",
       "<tbody>\n",
       "\t<tr><td>Mediana Pasajeros  </td><td> 1.00</td></tr>\n",
       "\t<tr><td>Mediana Distancia  </td><td> 1.83</td></tr>\n",
       "\t<tr><td>Mediana Tarifa     </td><td> 9.50</td></tr>\n",
       "\t<tr><td>Mediana Propina    </td><td> 2.06</td></tr>\n",
       "\t<tr><td>Mediana Costo Viaje</td><td>12.96</td></tr>\n",
       "\t<tr><td>Mediana Duración   </td><td> 0.17</td></tr>\n",
       "</tbody>\n",
       "</table>\n"
      ],
      "text/latex": [
       "A data.frame: 6 × 2\n",
       "\\begin{tabular}{ll}\n",
       " columnas\\_median & valores\\_median\\\\\n",
       " <fct> & <dbl>\\\\\n",
       "\\hline\n",
       "\t Mediana Pasajeros   &  1.00\\\\\n",
       "\t Mediana Distancia   &  1.83\\\\\n",
       "\t Mediana Tarifa      &  9.50\\\\\n",
       "\t Mediana Propina     &  2.06\\\\\n",
       "\t Mediana Costo Viaje & 12.96\\\\\n",
       "\t Mediana Duración    &  0.17\\\\\n",
       "\\end{tabular}\n"
      ],
      "text/markdown": [
       "\n",
       "A data.frame: 6 × 2\n",
       "\n",
       "| columnas_median &lt;fct&gt; | valores_median &lt;dbl&gt; |\n",
       "|---|---|\n",
       "| Mediana Pasajeros   |  1.00 |\n",
       "| Mediana Distancia   |  1.83 |\n",
       "| Mediana Tarifa      |  9.50 |\n",
       "| Mediana Propina     |  2.06 |\n",
       "| Mediana Costo Viaje | 12.96 |\n",
       "| Mediana Duración    |  0.17 |\n",
       "\n"
      ],
      "text/plain": [
       "  columnas_median     valores_median\n",
       "1 Mediana Pasajeros    1.00         \n",
       "2 Mediana Distancia    1.83         \n",
       "3 Mediana Tarifa       9.50         \n",
       "4 Mediana Propina      2.06         \n",
       "5 Mediana Costo Viaje 12.96         \n",
       "6 Mediana Duración     0.17         "
      ]
     },
     "metadata": {},
     "output_type": "display_data"
    }
   ],
   "source": [
    "print('Medianas de todo el primer cuatrimestre')\n",
    "medianas_cuatrimestre"
   ]
  },
  {
   "cell_type": "markdown",
   "metadata": {},
   "source": [
    "**Las modas quedan así:**"
   ]
  },
  {
   "cell_type": "code",
   "execution_count": 90,
   "metadata": {},
   "outputs": [
    {
     "name": "stdout",
     "output_type": "stream",
     "text": [
      "[1] \"Modas de todo el primer cuatrimestre\"\n"
     ]
    },
    {
     "data": {
      "text/html": [
       "<table>\n",
       "<caption>A data.frame: 6 × 2</caption>\n",
       "<thead>\n",
       "\t<tr><th scope=col>columnas_mode</th><th scope=col>valores_mode</th></tr>\n",
       "\t<tr><th scope=col>&lt;fct&gt;</th><th scope=col>&lt;dbl&gt;</th></tr>\n",
       "</thead>\n",
       "<tbody>\n",
       "\t<tr><td>Moda Pasajeros  </td><td>1.00</td></tr>\n",
       "\t<tr><td>Moda Distancia  </td><td>0.90</td></tr>\n",
       "\t<tr><td>Moda Tarifa     </td><td>6.00</td></tr>\n",
       "\t<tr><td>Moda Propina    </td><td>1.00</td></tr>\n",
       "\t<tr><td>Moda Costo Viaje</td><td>8.76</td></tr>\n",
       "\t<tr><td>Moda Duración   </td><td>0.00</td></tr>\n",
       "</tbody>\n",
       "</table>\n"
      ],
      "text/latex": [
       "A data.frame: 6 × 2\n",
       "\\begin{tabular}{ll}\n",
       " columnas\\_mode & valores\\_mode\\\\\n",
       " <fct> & <dbl>\\\\\n",
       "\\hline\n",
       "\t Moda Pasajeros   & 1.00\\\\\n",
       "\t Moda Distancia   & 0.90\\\\\n",
       "\t Moda Tarifa      & 6.00\\\\\n",
       "\t Moda Propina     & 1.00\\\\\n",
       "\t Moda Costo Viaje & 8.76\\\\\n",
       "\t Moda Duración    & 0.00\\\\\n",
       "\\end{tabular}\n"
      ],
      "text/markdown": [
       "\n",
       "A data.frame: 6 × 2\n",
       "\n",
       "| columnas_mode &lt;fct&gt; | valores_mode &lt;dbl&gt; |\n",
       "|---|---|\n",
       "| Moda Pasajeros   | 1.00 |\n",
       "| Moda Distancia   | 0.90 |\n",
       "| Moda Tarifa      | 6.00 |\n",
       "| Moda Propina     | 1.00 |\n",
       "| Moda Costo Viaje | 8.76 |\n",
       "| Moda Duración    | 0.00 |\n",
       "\n"
      ],
      "text/plain": [
       "  columnas_mode    valores_mode\n",
       "1 Moda Pasajeros   1.00        \n",
       "2 Moda Distancia   0.90        \n",
       "3 Moda Tarifa      6.00        \n",
       "4 Moda Propina     1.00        \n",
       "5 Moda Costo Viaje 8.76        \n",
       "6 Moda Duración    0.00        "
      ]
     },
     "metadata": {},
     "output_type": "display_data"
    }
   ],
   "source": [
    "print('Modas de todo el primer cuatrimestre')\n",
    "modas_cuatrimestre"
   ]
  },
  {
   "cell_type": "markdown",
   "metadata": {},
   "source": [
    "**Medidas de Posición** :"
   ]
  },
  {
   "cell_type": "markdown",
   "metadata": {},
   "source": [
    "- Frecuencias absolutas del **primer cuatrimestre** "
   ]
  },
  {
   "cell_type": "code",
   "execution_count": 94,
   "metadata": {},
   "outputs": [
    {
     "name": "stdout",
     "output_type": "stream",
     "text": [
      "[1] \"Frecuencia absoluta del tipo de pago\"\n"
     ]
    },
    {
     "data": {
      "text/plain": [
       "\n",
       "     1      2      3      4 \n",
       "801321     39      7      4 "
      ]
     },
     "metadata": {},
     "output_type": "display_data"
    },
    {
     "name": "stdout",
     "output_type": "stream",
     "text": [
      "[1] \"Frecuencia absoluta del tipo de viaje\"\n"
     ]
    },
    {
     "data": {
      "text/plain": [
       "\n",
       "     1      2 \n",
       "796412   4959 "
      ]
     },
     "metadata": {},
     "output_type": "display_data"
    },
    {
     "name": "stdout",
     "output_type": "stream",
     "text": [
      "[1] \"Frecuencia absoluta del número de pasajeros\"\n"
     ]
    },
    {
     "data": {
      "text/plain": [
       "\n",
       "     0      1      2      3      4      5      6      7      8      9 \n",
       "  1759 687950  58372   8970   3711  27426  13176      1      5      1 "
      ]
     },
     "metadata": {},
     "output_type": "display_data"
    }
   ],
   "source": [
    "# Frecuencia absoluta del tipo de pago\n",
    "pago_fa <- table(primer_cuatrimestre$Payment_type)\n",
    "print('Frecuencia absoluta del tipo de pago')\n",
    "pago_fa\n",
    "# Frecuencia absoluta del tipo de viaje\n",
    "viaje_fa <- table(primer_cuatrimestre$Trip_type)\n",
    "print('Frecuencia absoluta del tipo de viaje')\n",
    "viaje_fa\n",
    "# Frecuencia absoluta del número de pasajeros\n",
    "pasajeros_fa <- table(primer_cuatrimestre$Passengers)\n",
    "print('Frecuencia absoluta del número de pasajeros')\n",
    "pasajeros_fa"
   ]
  },
  {
   "cell_type": "markdown",
   "metadata": {},
   "source": [
    "- Frecuencias relativas del **primer cuatrimestre** "
   ]
  },
  {
   "cell_type": "code",
   "execution_count": 95,
   "metadata": {},
   "outputs": [
    {
     "name": "stdout",
     "output_type": "stream",
     "text": [
      "[1] \"Frecuencia relativa del tipo de pago\"\n"
     ]
    },
    {
     "data": {
      "text/plain": [
       "\n",
       "      1       2       3       4 \n",
       "99.9938  0.0049  0.0009  0.0005 "
      ]
     },
     "metadata": {},
     "output_type": "display_data"
    },
    {
     "name": "stdout",
     "output_type": "stream",
     "text": [
      "[1] \"Frecuencia relativa del tipo de viaje\"\n"
     ]
    },
    {
     "data": {
      "text/plain": [
       "\n",
       "      1       2 \n",
       "99.3812  0.6188 "
      ]
     },
     "metadata": {},
     "output_type": "display_data"
    },
    {
     "name": "stdout",
     "output_type": "stream",
     "text": [
      "[1] \"Frecuencia relativa del número de pasajeros\"\n"
     ]
    },
    {
     "data": {
      "text/plain": [
       "\n",
       "      0       1       2       3       4       5       6       7       8       9 \n",
       " 0.2195 85.8466  7.2840  1.1193  0.4631  3.4224  1.6442  0.0001  0.0006  0.0001 "
      ]
     },
     "metadata": {},
     "output_type": "display_data"
    }
   ],
   "source": [
    "# Frecuencia relativa del tipo de pago\n",
    "pago_fr <- prop.table(pago_fa)*100\n",
    "print('Frecuencia relativa del tipo de pago')\n",
    "round(pago_fr,4)\n",
    "# Frecuencia relativa del tipo de viaje\n",
    "viaje_fr <- prop.table(viaje_fa)*100\n",
    "print('Frecuencia relativa del tipo de viaje')\n",
    "round(viaje_fr,4)\n",
    "# Frecuencia relativa del número de pasajeros\n",
    "pasajeros_fr <- prop.table(pasajeros_fa)*100\n",
    "print('Frecuencia relativa del número de pasajeros')\n",
    "round(pasajeros_fr,4)"
   ]
  },
  {
   "cell_type": "markdown",
   "metadata": {},
   "source": [
    "**Medidas de Dispersión** :"
   ]
  },
  {
   "cell_type": "markdown",
   "metadata": {},
   "source": [
    "- Rangos, mínimos y máximos del **primer cuatrimestre**"
   ]
  },
  {
   "cell_type": "code",
   "execution_count": 101,
   "metadata": {},
   "outputs": [],
   "source": [
    "# Pasajeros\n",
    "passengers_r <-range(primer_cuatrimestre$Passengers, na.rm = TRUE)\n",
    "passengers_min <-min(primer_cuatrimestre$Passengers, na.rm = TRUE)\n",
    "passengers_max <-max(primer_cuatrimestre$Passengers, na.rm = TRUE)\n",
    "# Distancia del viaje\n",
    "distance_r <- range(primer_cuatrimestre$Trip_distance, na.rm = TRUE)\n",
    "distance_min <- min(primer_cuatrimestre$Trip_distance, na.rm = TRUE)\n",
    "distance_max <- max(primer_cuatrimestre$Trip_distance, na.rm = TRUE)\n",
    "# Tarifa del viaje\n",
    "fare_r <- range(primer_cuatrimestre$Fare_amount, na.rm = TRUE)\n",
    "fare_r <- min(primer_cuatrimestre$Fare_amount, na.rm = TRUE)\n",
    "fare_r <- max(primer_cuatrimestre$Fare_amount, na.rm = TRUE)\n",
    "# Monto de la propina\n",
    "tip_r <- range(primer_cuatrimestre$Tip_amount, na.rm = TRUE)\n",
    "tip_min <- min(primer_cuatrimestre$Tip_amount, na.rm = TRUE)\n",
    "tip_max <- max(primer_cuatrimestre$Tip_amount, na.rm = TRUE)\n",
    "# Monto total\n",
    "total_r <- range(primer_cuatrimestre$Total_amount, na.rm = TRUE)\n",
    "total_min <- min(primer_cuatrimestre$Total_amount, na.rm = TRUE)\n",
    "total_max <- max(primer_cuatrimestre$Total_amount, na.rm = TRUE)\n",
    "# Duración del viaje\n",
    "duration_r <- range(primer_cuatrimestre$Trip_duration, na.rm = TRUE)\n",
    "duration_min <- min(primer_cuatrimestre$Trip_duration, na.rm = TRUE)\n",
    "duration_max <- max(primer_cuatrimestre$Trip_duration, na.rm = TRUE)"
   ]
  },
  {
   "cell_type": "code",
   "execution_count": 105,
   "metadata": {},
   "outputs": [],
   "source": [
    "columnas_range <- c(\"Rango Pasajeros\", \"Rango Distancia\", \"Rango Tarifa\", \"Rango Propina\", \"Rango Costo Viaje\", \n",
    "                   \"Rango Duración\")\n",
    "valores_range <- c(passengers_r, distance_r, fare_r, tip_r, total_r, duration_r)"
   ]
  },
  {
   "cell_type": "code",
   "execution_count": 106,
   "metadata": {},
   "outputs": [
    {
     "data": {
      "text/html": [
       "<style>\n",
       ".list-inline {list-style: none; margin:0; padding: 0}\n",
       ".list-inline>li {display: inline-block}\n",
       ".list-inline>li:not(:last-child)::after {content: \"\\00b7\"; padding: 0 .5ex}\n",
       "</style>\n",
       "<ol class=list-inline><li>0</li><li>9</li><li>0.01</li><li>666.6</li><li>300</li><li>0.01</li><li>440</li><li>0.09</li><li>479.05</li><li>0.000277777777777778</li><li>4.98805555555556</li></ol>\n"
      ],
      "text/latex": [
       "\\begin{enumerate*}\n",
       "\\item 0\n",
       "\\item 9\n",
       "\\item 0.01\n",
       "\\item 666.6\n",
       "\\item 300\n",
       "\\item 0.01\n",
       "\\item 440\n",
       "\\item 0.09\n",
       "\\item 479.05\n",
       "\\item 0.000277777777777778\n",
       "\\item 4.98805555555556\n",
       "\\end{enumerate*}\n"
      ],
      "text/markdown": [
       "1. 0\n",
       "2. 9\n",
       "3. 0.01\n",
       "4. 666.6\n",
       "5. 300\n",
       "6. 0.01\n",
       "7. 440\n",
       "8. 0.09\n",
       "9. 479.05\n",
       "10. 0.000277777777777778\n",
       "11. 4.98805555555556\n",
       "\n",
       "\n"
      ],
      "text/plain": [
       " [1] 0.000000e+00 9.000000e+00 1.000000e-02 6.666000e+02 3.000000e+02\n",
       " [6] 1.000000e-02 4.400000e+02 9.000000e-02 4.790500e+02 2.777778e-04\n",
       "[11] 4.988056e+00"
      ]
     },
     "metadata": {},
     "output_type": "display_data"
    }
   ],
   "source": [
    "valores_range"
   ]
  },
  {
   "cell_type": "markdown",
   "metadata": {},
   "source": [
    "____________________________________________________________________________________________________________\n",
    "#### ___SEGUNDO CUATRIMESTRE 2019___ "
   ]
  },
  {
   "cell_type": "code",
   "execution_count": null,
   "metadata": {},
   "outputs": [],
   "source": []
  },
  {
   "cell_type": "markdown",
   "metadata": {},
   "source": [
    "____________________________________________________________________________________________________________\n",
    "#### ___TERCER CUATRIMESTRE 2019___ "
   ]
  },
  {
   "cell_type": "code",
   "execution_count": null,
   "metadata": {},
   "outputs": [],
   "source": []
  }
 ],
 "metadata": {
  "kernelspec": {
   "display_name": "R",
   "language": "R",
   "name": "ir"
  },
  "language_info": {
   "codemirror_mode": "r",
   "file_extension": ".r",
   "mimetype": "text/x-r-source",
   "name": "R",
   "pygments_lexer": "r",
   "version": "3.6.0"
  }
 },
 "nbformat": 4,
 "nbformat_minor": 4
}
